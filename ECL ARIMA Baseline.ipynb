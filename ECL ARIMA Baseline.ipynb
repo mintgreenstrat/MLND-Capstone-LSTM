{
 "cells": [
  {
   "cell_type": "markdown",
   "metadata": {},
   "source": [
    "# ARIMA Baseline for Univariate, Multistep\n",
    "\n",
    "An implementatin of an ARIMA model using the ```statsmodels.tas.arima_model``` for the univariate, multistep problem. The model uses 30 timesteps back to predict 30 timesteps forward. Data pre-processing has been completed in another notebook.\n",
    "\n",
    "## Load Libraries"
   ]
  },
  {
   "cell_type": "code",
   "execution_count": 1,
   "metadata": {},
   "outputs": [],
   "source": [
    "import pandas as pd\n",
    "import numpy as np\n",
    "import matplotlib.pyplot as plt\n",
    "from statsmodels.tsa.arima_model import ARIMA\n",
    "from sklearn import metrics\n",
    "import tqdm\n",
    "%matplotlib inline"
   ]
  },
  {
   "cell_type": "markdown",
   "metadata": {},
   "source": [
    "## Load Data"
   ]
  },
  {
   "cell_type": "code",
   "execution_count": 2,
   "metadata": {},
   "outputs": [
    {
     "name": "stdout",
     "output_type": "stream",
     "text": [
      "(5031, 16)\n"
     ]
    }
   ],
   "source": [
    "if True:\n",
    "    keep_col = list(range(1,18))\n",
    "\n",
    "    df_day = pd.read_csv('Clean Data/ECL_Clean_Day.csv', \n",
    "                         infer_datetime_format=True,\n",
    "                         parse_dates=['Timestamp'], \n",
    "                         index_col=['Timestamp'],\n",
    "                         usecols = keep_col,\n",
    "                         date_parser=lambda col: pd.to_datetime(col, utc=True).tz_convert('America/New_York'))\n",
    "\n",
    "    #df_min.dtypes\n",
    "    print (df_day.shape)\n",
    "    #df_day.head(5)"
   ]
  },
  {
   "cell_type": "code",
   "execution_count": 3,
   "metadata": {},
   "outputs": [
    {
     "data": {
      "text/html": [
       "<div>\n",
       "<style scoped>\n",
       "    .dataframe tbody tr th:only-of-type {\n",
       "        vertical-align: middle;\n",
       "    }\n",
       "\n",
       "    .dataframe tbody tr th {\n",
       "        vertical-align: top;\n",
       "    }\n",
       "\n",
       "    .dataframe thead th {\n",
       "        text-align: right;\n",
       "    }\n",
       "</style>\n",
       "<table border=\"1\" class=\"dataframe\">\n",
       "  <thead>\n",
       "    <tr style=\"text-align: right;\">\n",
       "      <th></th>\n",
       "      <th>Open</th>\n",
       "      <th>High</th>\n",
       "      <th>Low</th>\n",
       "      <th>Close</th>\n",
       "      <th>Volume</th>\n",
       "      <th>SMA_10</th>\n",
       "      <th>SMA_50</th>\n",
       "      <th>EMA_10</th>\n",
       "      <th>EMA_50</th>\n",
       "      <th>RSI</th>\n",
       "      <th>ROC</th>\n",
       "      <th>MACD_Line</th>\n",
       "      <th>MACD_Diff</th>\n",
       "      <th>MACD_Sig</th>\n",
       "      <th>WO</th>\n",
       "      <th>ATR</th>\n",
       "    </tr>\n",
       "  </thead>\n",
       "  <tbody>\n",
       "    <tr>\n",
       "      <th>count</th>\n",
       "      <td>5031.000000</td>\n",
       "      <td>5031.000000</td>\n",
       "      <td>5031.000000</td>\n",
       "      <td>5031.000000</td>\n",
       "      <td>5.031000e+03</td>\n",
       "      <td>5022.000000</td>\n",
       "      <td>4982.000000</td>\n",
       "      <td>5022.000000</td>\n",
       "      <td>4982.000000</td>\n",
       "      <td>5031.000000</td>\n",
       "      <td>5019.000000</td>\n",
       "      <td>4982.000000</td>\n",
       "      <td>4974.000000</td>\n",
       "      <td>4974.000000</td>\n",
       "      <td>5003.000000</td>\n",
       "      <td>5031.000000</td>\n",
       "    </tr>\n",
       "    <tr>\n",
       "      <th>mean</th>\n",
       "      <td>67.781848</td>\n",
       "      <td>68.702433</td>\n",
       "      <td>66.861038</td>\n",
       "      <td>67.808120</td>\n",
       "      <td>1.086004e+06</td>\n",
       "      <td>67.744748</td>\n",
       "      <td>67.478378</td>\n",
       "      <td>67.746502</td>\n",
       "      <td>67.474928</td>\n",
       "      <td>52.987576</td>\n",
       "      <td>2.667431</td>\n",
       "      <td>0.701917</td>\n",
       "      <td>-0.000647</td>\n",
       "      <td>0.703330</td>\n",
       "      <td>52.543226</td>\n",
       "      <td>1.908105</td>\n",
       "    </tr>\n",
       "    <tr>\n",
       "      <th>std</th>\n",
       "      <td>48.108253</td>\n",
       "      <td>47.971561</td>\n",
       "      <td>48.214697</td>\n",
       "      <td>48.110473</td>\n",
       "      <td>8.833957e+05</td>\n",
       "      <td>47.930289</td>\n",
       "      <td>47.347909</td>\n",
       "      <td>47.926039</td>\n",
       "      <td>47.297619</td>\n",
       "      <td>9.694137</td>\n",
       "      <td>22.554656</td>\n",
       "      <td>2.032134</td>\n",
       "      <td>0.621090</td>\n",
       "      <td>1.910919</td>\n",
       "      <td>10.128555</td>\n",
       "      <td>1.692945</td>\n",
       "    </tr>\n",
       "    <tr>\n",
       "      <th>min</th>\n",
       "      <td>7.120000</td>\n",
       "      <td>7.625000</td>\n",
       "      <td>7.063000</td>\n",
       "      <td>7.203000</td>\n",
       "      <td>1.185000e+05</td>\n",
       "      <td>10.974600</td>\n",
       "      <td>13.944700</td>\n",
       "      <td>11.038640</td>\n",
       "      <td>14.326320</td>\n",
       "      <td>0.000000</td>\n",
       "      <td>-61.754127</td>\n",
       "      <td>-7.238685</td>\n",
       "      <td>-3.319137</td>\n",
       "      <td>-6.345875</td>\n",
       "      <td>12.749321</td>\n",
       "      <td>0.000000</td>\n",
       "    </tr>\n",
       "    <tr>\n",
       "      <th>25%</th>\n",
       "      <td>32.090000</td>\n",
       "      <td>32.325000</td>\n",
       "      <td>31.775000</td>\n",
       "      <td>32.015000</td>\n",
       "      <td>5.974000e+05</td>\n",
       "      <td>32.188250</td>\n",
       "      <td>32.500800</td>\n",
       "      <td>32.173813</td>\n",
       "      <td>32.579855</td>\n",
       "      <td>46.270038</td>\n",
       "      <td>-1.845705</td>\n",
       "      <td>-0.339209</td>\n",
       "      <td>-0.276496</td>\n",
       "      <td>-0.258434</td>\n",
       "      <td>46.044694</td>\n",
       "      <td>0.809929</td>\n",
       "    </tr>\n",
       "    <tr>\n",
       "      <th>50%</th>\n",
       "      <td>46.760000</td>\n",
       "      <td>47.220000</td>\n",
       "      <td>46.170000</td>\n",
       "      <td>46.720000</td>\n",
       "      <td>8.626640e+05</td>\n",
       "      <td>46.679600</td>\n",
       "      <td>46.472049</td>\n",
       "      <td>46.681112</td>\n",
       "      <td>46.332841</td>\n",
       "      <td>52.845012</td>\n",
       "      <td>0.659404</td>\n",
       "      <td>0.572232</td>\n",
       "      <td>-0.009688</td>\n",
       "      <td>0.538696</td>\n",
       "      <td>52.518535</td>\n",
       "      <td>1.272870</td>\n",
       "    </tr>\n",
       "    <tr>\n",
       "      <th>75%</th>\n",
       "      <td>109.782500</td>\n",
       "      <td>110.505000</td>\n",
       "      <td>109.130000</td>\n",
       "      <td>109.950000</td>\n",
       "      <td>1.311234e+06</td>\n",
       "      <td>109.802000</td>\n",
       "      <td>109.440162</td>\n",
       "      <td>109.757625</td>\n",
       "      <td>109.727184</td>\n",
       "      <td>58.858874</td>\n",
       "      <td>3.255239</td>\n",
       "      <td>1.644758</td>\n",
       "      <td>0.295044</td>\n",
       "      <td>1.560963</td>\n",
       "      <td>59.452563</td>\n",
       "      <td>2.281402</td>\n",
       "    </tr>\n",
       "    <tr>\n",
       "      <th>max</th>\n",
       "      <td>209.220000</td>\n",
       "      <td>209.870000</td>\n",
       "      <td>206.430000</td>\n",
       "      <td>208.550000</td>\n",
       "      <td>2.374391e+07</td>\n",
       "      <td>205.964000</td>\n",
       "      <td>201.545800</td>\n",
       "      <td>205.640376</td>\n",
       "      <td>200.930593</td>\n",
       "      <td>100.000000</td>\n",
       "      <td>158.275261</td>\n",
       "      <td>10.448297</td>\n",
       "      <td>3.128339</td>\n",
       "      <td>9.304025</td>\n",
       "      <td>85.169495</td>\n",
       "      <td>9.883761</td>\n",
       "    </tr>\n",
       "  </tbody>\n",
       "</table>\n",
       "</div>"
      ],
      "text/plain": [
       "              Open         High          Low        Close        Volume  \\\n",
       "count  5031.000000  5031.000000  5031.000000  5031.000000  5.031000e+03   \n",
       "mean     67.781848    68.702433    66.861038    67.808120  1.086004e+06   \n",
       "std      48.108253    47.971561    48.214697    48.110473  8.833957e+05   \n",
       "min       7.120000     7.625000     7.063000     7.203000  1.185000e+05   \n",
       "25%      32.090000    32.325000    31.775000    32.015000  5.974000e+05   \n",
       "50%      46.760000    47.220000    46.170000    46.720000  8.626640e+05   \n",
       "75%     109.782500   110.505000   109.130000   109.950000  1.311234e+06   \n",
       "max     209.220000   209.870000   206.430000   208.550000  2.374391e+07   \n",
       "\n",
       "            SMA_10       SMA_50       EMA_10       EMA_50          RSI  \\\n",
       "count  5022.000000  4982.000000  5022.000000  4982.000000  5031.000000   \n",
       "mean     67.744748    67.478378    67.746502    67.474928    52.987576   \n",
       "std      47.930289    47.347909    47.926039    47.297619     9.694137   \n",
       "min      10.974600    13.944700    11.038640    14.326320     0.000000   \n",
       "25%      32.188250    32.500800    32.173813    32.579855    46.270038   \n",
       "50%      46.679600    46.472049    46.681112    46.332841    52.845012   \n",
       "75%     109.802000   109.440162   109.757625   109.727184    58.858874   \n",
       "max     205.964000   201.545800   205.640376   200.930593   100.000000   \n",
       "\n",
       "               ROC    MACD_Line    MACD_Diff     MACD_Sig           WO  \\\n",
       "count  5019.000000  4982.000000  4974.000000  4974.000000  5003.000000   \n",
       "mean      2.667431     0.701917    -0.000647     0.703330    52.543226   \n",
       "std      22.554656     2.032134     0.621090     1.910919    10.128555   \n",
       "min     -61.754127    -7.238685    -3.319137    -6.345875    12.749321   \n",
       "25%      -1.845705    -0.339209    -0.276496    -0.258434    46.044694   \n",
       "50%       0.659404     0.572232    -0.009688     0.538696    52.518535   \n",
       "75%       3.255239     1.644758     0.295044     1.560963    59.452563   \n",
       "max     158.275261    10.448297     3.128339     9.304025    85.169495   \n",
       "\n",
       "               ATR  \n",
       "count  5031.000000  \n",
       "mean      1.908105  \n",
       "std       1.692945  \n",
       "min       0.000000  \n",
       "25%       0.809929  \n",
       "50%       1.272870  \n",
       "75%       2.281402  \n",
       "max       9.883761  "
      ]
     },
     "execution_count": 3,
     "metadata": {},
     "output_type": "execute_result"
    }
   ],
   "source": [
    "df_day.describe()"
   ]
  },
  {
   "cell_type": "code",
   "execution_count": 4,
   "metadata": {},
   "outputs": [],
   "source": [
    "# create 10 years of data from 2019 - 2010\n",
    "day_data = df_day[df_day.index >= '2010-01-01']\n",
    "\n",
    "#split 7 years train, 3 years test\n",
    "day_train = day_data[day_data.index <= '2017-01-01']\n",
    "day_test = day_data[day_data.index >= '2017-01-01']\n",
    "base_train = day_train['Close'] \n",
    "base_test = day_test['Close']"
   ]
  },
  {
   "cell_type": "markdown",
   "metadata": {},
   "source": [
    "## Fit ACF and PACF\n",
    "Fitting an Autocorrelation and Partial Autocorrelation plot to help select the params for the ARIMA model."
   ]
  },
  {
   "cell_type": "code",
   "execution_count": 5,
   "metadata": {},
   "outputs": [
    {
     "data": {
      "image/png": "[encoded data removed]",
      "text/plain": [
       "<Figure size 720x360 with 2 Axes>"
      ]
     },
     "metadata": {
      "needs_background": "light"
     },
     "output_type": "display_data"
    }
   ],
   "source": [
    "from statsmodels.graphics.tsaplots import plot_acf\n",
    "from statsmodels.graphics.tsaplots import plot_pacf\n",
    "\n",
    "plt.figure(figsize=(10,5))\n",
    "lags = 365\n",
    "# acf\n",
    "axis = plt.subplot(2, 1, 1)\n",
    "plot_acf(base_train.to_numpy(), ax=axis, lags=lags)\n",
    "# pacf\n",
    "axis = plt.subplot(2, 1, 2)\n",
    "plot_pacf(base_train.to_numpy(), ax=axis, lags=lags)\n",
    "# show plot\n",
    "plt.show()"
   ]
  },
  {
   "cell_type": "markdown",
   "metadata": {},
   "source": [
    "Zooming into 7 lags to read the pacf plot"
   ]
  },
  {
   "cell_type": "code",
   "execution_count": 6,
   "metadata": {},
   "outputs": [
    {
     "data": {
      "image/png": "[encoded data removed]",
      "text/plain": [
       "<Figure size 720x360 with 2 Axes>"
      ]
     },
     "metadata": {
      "needs_background": "light"
     },
     "output_type": "display_data"
    }
   ],
   "source": [
    "plt.figure(figsize=(10,5))\n",
    "lags = 7\n",
    "# acf\n",
    "axis = plt.subplot(2, 1, 1)\n",
    "plot_acf(base_train.to_numpy(), ax=axis, lags=lags)\n",
    "# pacf\n",
    "axis = plt.subplot(2, 1, 2)\n",
    "plot_pacf(base_train.to_numpy(), ax=axis, lags=lags)\n",
    "# show plot\n",
    "plt.show()"
   ]
  },
  {
   "cell_type": "markdown",
   "metadata": {},
   "source": [
    "Looking at the charts above we can infer:\n",
    "* p = 100 - 200 (region where autocorrelation drops below the confidence interval)\n",
    "* q = 1 (from partial autocorrelation plot)\n",
    "\n",
    "## Test Fit an ARIMA Model"
   ]
  },
  {
   "cell_type": "code",
   "execution_count": 7,
   "metadata": {},
   "outputs": [],
   "source": [
    "#Test Fit the ARIMA model and see what the prediction looks like\n",
    "\n",
    "if False:\n",
    "    model = ARIMA(base_train, order=(100,1,1))\n",
    "    model_fit = model.fit()\n",
    "    pred = model_fit.forecast(steps=30)\n",
    "    print ('Prediction:','\\n',pred[0])"
   ]
  },
  {
   "cell_type": "markdown",
   "metadata": {},
   "source": [
    "Given the p value of 100, this takes a very long time to fit. I will simplify the model to (25,1,1) in the interests of having a model fit on my laptop."
   ]
  },
  {
   "cell_type": "code",
   "execution_count": 8,
   "metadata": {},
   "outputs": [
    {
     "name": "stderr",
     "output_type": "stream",
     "text": [
      "/Users/jacobscottanthony/anaconda3/lib/python3.6/site-packages/statsmodels/tsa/base/tsa_model.py:218: ValueWarning: A date index has been provided, but it has no associated frequency information and so will be ignored when e.g. forecasting.\n",
      "  ' ignored when e.g. forecasting.', ValueWarning)\n",
      "/Users/jacobscottanthony/anaconda3/lib/python3.6/site-packages/statsmodels/tsa/base/tsa_model.py:218: ValueWarning: A date index has been provided, but it has no associated frequency information and so will be ignored when e.g. forecasting.\n",
      "  ' ignored when e.g. forecasting.', ValueWarning)\n"
     ]
    },
    {
     "name": "stdout",
     "output_type": "stream",
     "text": [
      "Prediction: \n",
      " [117.07896388 117.20248509 117.21239566 117.38604144 117.3646706\n",
      " 117.40283894 117.52230753 117.5901161  117.63441764 117.65867605\n",
      " 117.78569442 117.83587283 117.93781642 117.98985296 118.07015435\n",
      " 118.1471518  118.21462652 118.29439341 118.36625848 118.43140517\n",
      " 118.50228226 118.57034851 118.63996641 118.70149257 118.76902214\n",
      " 118.83060563 118.8952196  118.95575053 119.01689636 119.07703006]\n"
     ]
    }
   ],
   "source": [
    "#Test Fit the ARIMA model and see what the prediction looks like\n",
    "\n",
    "if True:\n",
    "    model = ARIMA(base_train, order=(15,1,1))\n",
    "    model_fit = model.fit()\n",
    "    pred = model_fit.forecast(steps=30)\n",
    "    print ('Test Prediction:')\n",
    "    print ('\\n')\n",
    "    print (pred[0])"
   ]
  },
  {
   "cell_type": "markdown",
   "metadata": {},
   "source": [
    "## Walk-Forward Validation\n",
    "\n",
    "In order to test how the ARIMA model does over time, I'll walk the model forward 30 steps (days) at a time."
   ]
  },
  {
   "cell_type": "code",
   "execution_count": 9,
   "metadata": {
    "scrolled": false
   },
   "outputs": [
    {
     "data": {
      "application/vnd.jupyter.widget-view+json": {
       "model_id": "a161186c14b947b784acdef77c2b4a85",
       "version_major": 2,
       "version_minor": 0
      },
      "text/plain": [
       "HBox(children=(IntProgress(value=0, max=26), HTML(value='')))"
      ]
     },
     "metadata": {},
     "output_type": "display_data"
    },
    {
     "name": "stderr",
     "output_type": "stream",
     "text": [
      "/Users/jacobscottanthony/anaconda3/lib/python3.6/site-packages/statsmodels/tsa/base/tsa_model.py:218: ValueWarning: A date index has been provided, but it has no associated frequency information and so will be ignored when e.g. forecasting.\n",
      "  ' ignored when e.g. forecasting.', ValueWarning)\n",
      "/Users/jacobscottanthony/anaconda3/lib/python3.6/site-packages/statsmodels/tsa/base/tsa_model.py:218: ValueWarning: A date index has been provided, but it has no associated frequency information and so will be ignored when e.g. forecasting.\n",
      "  ' ignored when e.g. forecasting.', ValueWarning)\n"
     ]
    },
    {
     "name": "stdout",
     "output_type": "stream",
     "text": [
      "Iteration: 1\n",
      "MAE: 1.7955082213107048\n",
      "RMSE: 4.175160950321279\n"
     ]
    },
    {
     "name": "stderr",
     "output_type": "stream",
     "text": [
      "/Users/jacobscottanthony/anaconda3/lib/python3.6/site-packages/statsmodels/tsa/base/tsa_model.py:218: ValueWarning: A date index has been provided, but it has no associated frequency information and so will be ignored when e.g. forecasting.\n",
      "  ' ignored when e.g. forecasting.', ValueWarning)\n",
      "/Users/jacobscottanthony/anaconda3/lib/python3.6/site-packages/statsmodels/tsa/base/tsa_model.py:218: ValueWarning: A date index has been provided, but it has no associated frequency information and so will be ignored when e.g. forecasting.\n",
      "  ' ignored when e.g. forecasting.', ValueWarning)\n"
     ]
    },
    {
     "name": "stdout",
     "output_type": "stream",
     "text": [
      "Iteration: 2\n",
      "MAE: 1.4359813926344391\n",
      "RMSE: 2.5783870211575888\n"
     ]
    },
    {
     "name": "stderr",
     "output_type": "stream",
     "text": [
      "/Users/jacobscottanthony/anaconda3/lib/python3.6/site-packages/statsmodels/tsa/base/tsa_model.py:218: ValueWarning: A date index has been provided, but it has no associated frequency information and so will be ignored when e.g. forecasting.\n",
      "  ' ignored when e.g. forecasting.', ValueWarning)\n",
      "/Users/jacobscottanthony/anaconda3/lib/python3.6/site-packages/statsmodels/tsa/base/tsa_model.py:218: ValueWarning: A date index has been provided, but it has no associated frequency information and so will be ignored when e.g. forecasting.\n",
      "  ' ignored when e.g. forecasting.', ValueWarning)\n"
     ]
    },
    {
     "name": "stdout",
     "output_type": "stream",
     "text": [
      "Iteration: 3\n",
      "MAE: 1.1269408936472787\n",
      "RMSE: 2.7699314831465873\n"
     ]
    },
    {
     "name": "stderr",
     "output_type": "stream",
     "text": [
      "/Users/jacobscottanthony/anaconda3/lib/python3.6/site-packages/statsmodels/tsa/base/tsa_model.py:218: ValueWarning: A date index has been provided, but it has no associated frequency information and so will be ignored when e.g. forecasting.\n",
      "  ' ignored when e.g. forecasting.', ValueWarning)\n",
      "/Users/jacobscottanthony/anaconda3/lib/python3.6/site-packages/statsmodels/tsa/base/tsa_model.py:218: ValueWarning: A date index has been provided, but it has no associated frequency information and so will be ignored when e.g. forecasting.\n",
      "  ' ignored when e.g. forecasting.', ValueWarning)\n"
     ]
    },
    {
     "name": "stdout",
     "output_type": "stream",
     "text": [
      "Iteration: 4\n",
      "MAE: 4.2676186113902\n",
      "RMSE: 24.650328014342918\n"
     ]
    },
    {
     "name": "stderr",
     "output_type": "stream",
     "text": [
      "/Users/jacobscottanthony/anaconda3/lib/python3.6/site-packages/statsmodels/tsa/base/tsa_model.py:218: ValueWarning: A date index has been provided, but it has no associated frequency information and so will be ignored when e.g. forecasting.\n",
      "  ' ignored when e.g. forecasting.', ValueWarning)\n",
      "/Users/jacobscottanthony/anaconda3/lib/python3.6/site-packages/statsmodels/tsa/base/tsa_model.py:218: ValueWarning: A date index has been provided, but it has no associated frequency information and so will be ignored when e.g. forecasting.\n",
      "  ' ignored when e.g. forecasting.', ValueWarning)\n"
     ]
    },
    {
     "name": "stdout",
     "output_type": "stream",
     "text": [
      "Iteration: 5\n",
      "MAE: 0.6346899346067317\n",
      "RMSE: 0.5652276082641855\n"
     ]
    },
    {
     "name": "stderr",
     "output_type": "stream",
     "text": [
      "/Users/jacobscottanthony/anaconda3/lib/python3.6/site-packages/statsmodels/tsa/base/tsa_model.py:218: ValueWarning: A date index has been provided, but it has no associated frequency information and so will be ignored when e.g. forecasting.\n",
      "  ' ignored when e.g. forecasting.', ValueWarning)\n",
      "/Users/jacobscottanthony/anaconda3/lib/python3.6/site-packages/statsmodels/tsa/base/tsa_model.py:218: ValueWarning: A date index has been provided, but it has no associated frequency information and so will be ignored when e.g. forecasting.\n",
      "  ' ignored when e.g. forecasting.', ValueWarning)\n"
     ]
    },
    {
     "name": "stdout",
     "output_type": "stream",
     "text": [
      "Iteration: 6\n",
      "MAE: 1.7471715420166674\n",
      "RMSE: 3.9710413225102177\n"
     ]
    },
    {
     "name": "stderr",
     "output_type": "stream",
     "text": [
      "/Users/jacobscottanthony/anaconda3/lib/python3.6/site-packages/statsmodels/tsa/base/tsa_model.py:218: ValueWarning: A date index has been provided, but it has no associated frequency information and so will be ignored when e.g. forecasting.\n",
      "  ' ignored when e.g. forecasting.', ValueWarning)\n",
      "/Users/jacobscottanthony/anaconda3/lib/python3.6/site-packages/statsmodels/tsa/base/tsa_model.py:218: ValueWarning: A date index has been provided, but it has no associated frequency information and so will be ignored when e.g. forecasting.\n",
      "  ' ignored when e.g. forecasting.', ValueWarning)\n"
     ]
    },
    {
     "name": "stdout",
     "output_type": "stream",
     "text": [
      "Iteration: 7\n",
      "MAE: 0.8947171687780582\n",
      "RMSE: 1.4114519926351397\n"
     ]
    },
    {
     "name": "stderr",
     "output_type": "stream",
     "text": [
      "/Users/jacobscottanthony/anaconda3/lib/python3.6/site-packages/statsmodels/tsa/base/tsa_model.py:218: ValueWarning: A date index has been provided, but it has no associated frequency information and so will be ignored when e.g. forecasting.\n",
      "  ' ignored when e.g. forecasting.', ValueWarning)\n",
      "/Users/jacobscottanthony/anaconda3/lib/python3.6/site-packages/statsmodels/tsa/base/tsa_model.py:218: ValueWarning: A date index has been provided, but it has no associated frequency information and so will be ignored when e.g. forecasting.\n",
      "  ' ignored when e.g. forecasting.', ValueWarning)\n"
     ]
    },
    {
     "name": "stdout",
     "output_type": "stream",
     "text": [
      "Iteration: 8\n",
      "MAE: 1.608067584406888\n",
      "RMSE: 4.62120018423423\n"
     ]
    },
    {
     "name": "stderr",
     "output_type": "stream",
     "text": [
      "/Users/jacobscottanthony/anaconda3/lib/python3.6/site-packages/statsmodels/tsa/base/tsa_model.py:218: ValueWarning: A date index has been provided, but it has no associated frequency information and so will be ignored when e.g. forecasting.\n",
      "  ' ignored when e.g. forecasting.', ValueWarning)\n",
      "/Users/jacobscottanthony/anaconda3/lib/python3.6/site-packages/statsmodels/tsa/base/tsa_model.py:218: ValueWarning: A date index has been provided, but it has no associated frequency information and so will be ignored when e.g. forecasting.\n",
      "  ' ignored when e.g. forecasting.', ValueWarning)\n"
     ]
    },
    {
     "name": "stdout",
     "output_type": "stream",
     "text": [
      "Iteration: 9\n",
      "MAE: 1.4519350634245627\n",
      "RMSE: 3.006512835962964\n"
     ]
    },
    {
     "name": "stderr",
     "output_type": "stream",
     "text": [
      "/Users/jacobscottanthony/anaconda3/lib/python3.6/site-packages/statsmodels/tsa/base/tsa_model.py:218: ValueWarning: A date index has been provided, but it has no associated frequency information and so will be ignored when e.g. forecasting.\n",
      "  ' ignored when e.g. forecasting.', ValueWarning)\n",
      "/Users/jacobscottanthony/anaconda3/lib/python3.6/site-packages/statsmodels/tsa/base/tsa_model.py:218: ValueWarning: A date index has been provided, but it has no associated frequency information and so will be ignored when e.g. forecasting.\n",
      "  ' ignored when e.g. forecasting.', ValueWarning)\n"
     ]
    },
    {
     "name": "stdout",
     "output_type": "stream",
     "text": [
      "Iteration: 10\n",
      "MAE: 5.880343564565209\n",
      "RMSE: 43.649557104744225\n"
     ]
    },
    {
     "name": "stderr",
     "output_type": "stream",
     "text": [
      "/Users/jacobscottanthony/anaconda3/lib/python3.6/site-packages/statsmodels/tsa/base/tsa_model.py:218: ValueWarning: A date index has been provided, but it has no associated frequency information and so will be ignored when e.g. forecasting.\n",
      "  ' ignored when e.g. forecasting.', ValueWarning)\n",
      "/Users/jacobscottanthony/anaconda3/lib/python3.6/site-packages/statsmodels/tsa/base/tsa_model.py:218: ValueWarning: A date index has been provided, but it has no associated frequency information and so will be ignored when e.g. forecasting.\n",
      "  ' ignored when e.g. forecasting.', ValueWarning)\n"
     ]
    },
    {
     "name": "stdout",
     "output_type": "stream",
     "text": [
      "Iteration: 11\n",
      "MAE: 4.294728611264972\n",
      "RMSE: 33.24740933244761\n"
     ]
    },
    {
     "name": "stderr",
     "output_type": "stream",
     "text": [
      "/Users/jacobscottanthony/anaconda3/lib/python3.6/site-packages/statsmodels/tsa/base/tsa_model.py:218: ValueWarning: A date index has been provided, but it has no associated frequency information and so will be ignored when e.g. forecasting.\n",
      "  ' ignored when e.g. forecasting.', ValueWarning)\n",
      "/Users/jacobscottanthony/anaconda3/lib/python3.6/site-packages/statsmodels/tsa/base/tsa_model.py:218: ValueWarning: A date index has been provided, but it has no associated frequency information and so will be ignored when e.g. forecasting.\n",
      "  ' ignored when e.g. forecasting.', ValueWarning)\n"
     ]
    },
    {
     "name": "stdout",
     "output_type": "stream",
     "text": [
      "Iteration: 12\n",
      "MAE: 1.5805577549963572\n",
      "RMSE: 3.516581093647919\n"
     ]
    },
    {
     "name": "stderr",
     "output_type": "stream",
     "text": [
      "/Users/jacobscottanthony/anaconda3/lib/python3.6/site-packages/statsmodels/tsa/base/tsa_model.py:218: ValueWarning: A date index has been provided, but it has no associated frequency information and so will be ignored when e.g. forecasting.\n",
      "  ' ignored when e.g. forecasting.', ValueWarning)\n",
      "/Users/jacobscottanthony/anaconda3/lib/python3.6/site-packages/statsmodels/tsa/base/tsa_model.py:218: ValueWarning: A date index has been provided, but it has no associated frequency information and so will be ignored when e.g. forecasting.\n",
      "  ' ignored when e.g. forecasting.', ValueWarning)\n"
     ]
    },
    {
     "name": "stdout",
     "output_type": "stream",
     "text": [
      "Iteration: 13\n",
      "MAE: 3.654700538433832\n",
      "RMSE: 18.569265517203284\n"
     ]
    },
    {
     "name": "stderr",
     "output_type": "stream",
     "text": [
      "/Users/jacobscottanthony/anaconda3/lib/python3.6/site-packages/statsmodels/tsa/base/tsa_model.py:218: ValueWarning: A date index has been provided, but it has no associated frequency information and so will be ignored when e.g. forecasting.\n",
      "  ' ignored when e.g. forecasting.', ValueWarning)\n",
      "/Users/jacobscottanthony/anaconda3/lib/python3.6/site-packages/statsmodels/tsa/base/tsa_model.py:218: ValueWarning: A date index has been provided, but it has no associated frequency information and so will be ignored when e.g. forecasting.\n",
      "  ' ignored when e.g. forecasting.', ValueWarning)\n"
     ]
    },
    {
     "name": "stdout",
     "output_type": "stream",
     "text": [
      "Iteration: 14\n",
      "MAE: 4.225513079273698\n",
      "RMSE: 22.6930793953581\n"
     ]
    },
    {
     "name": "stderr",
     "output_type": "stream",
     "text": [
      "/Users/jacobscottanthony/anaconda3/lib/python3.6/site-packages/statsmodels/tsa/base/tsa_model.py:218: ValueWarning: A date index has been provided, but it has no associated frequency information and so will be ignored when e.g. forecasting.\n",
      "  ' ignored when e.g. forecasting.', ValueWarning)\n",
      "/Users/jacobscottanthony/anaconda3/lib/python3.6/site-packages/statsmodels/tsa/base/tsa_model.py:218: ValueWarning: A date index has been provided, but it has no associated frequency information and so will be ignored when e.g. forecasting.\n",
      "  ' ignored when e.g. forecasting.', ValueWarning)\n"
     ]
    },
    {
     "name": "stdout",
     "output_type": "stream",
     "text": [
      "Iteration: 15\n",
      "MAE: 5.522863748286912\n",
      "RMSE: 35.194578786050336\n"
     ]
    },
    {
     "name": "stderr",
     "output_type": "stream",
     "text": [
      "/Users/jacobscottanthony/anaconda3/lib/python3.6/site-packages/statsmodels/tsa/base/tsa_model.py:218: ValueWarning: A date index has been provided, but it has no associated frequency information and so will be ignored when e.g. forecasting.\n",
      "  ' ignored when e.g. forecasting.', ValueWarning)\n",
      "/Users/jacobscottanthony/anaconda3/lib/python3.6/site-packages/statsmodels/tsa/base/tsa_model.py:218: ValueWarning: A date index has been provided, but it has no associated frequency information and so will be ignored when e.g. forecasting.\n",
      "  ' ignored when e.g. forecasting.', ValueWarning)\n"
     ]
    },
    {
     "name": "stdout",
     "output_type": "stream",
     "text": [
      "Iteration: 16\n",
      "MAE: 5.628824466256684\n",
      "RMSE: 46.943587157135845\n"
     ]
    },
    {
     "name": "stderr",
     "output_type": "stream",
     "text": [
      "/Users/jacobscottanthony/anaconda3/lib/python3.6/site-packages/statsmodels/tsa/base/tsa_model.py:218: ValueWarning: A date index has been provided, but it has no associated frequency information and so will be ignored when e.g. forecasting.\n",
      "  ' ignored when e.g. forecasting.', ValueWarning)\n",
      "/Users/jacobscottanthony/anaconda3/lib/python3.6/site-packages/statsmodels/tsa/base/tsa_model.py:218: ValueWarning: A date index has been provided, but it has no associated frequency information and so will be ignored when e.g. forecasting.\n",
      "  ' ignored when e.g. forecasting.', ValueWarning)\n"
     ]
    },
    {
     "name": "stdout",
     "output_type": "stream",
     "text": [
      "Iteration: 17\n",
      "MAE: 6.1191606290715\n",
      "RMSE: 54.106864063517136\n"
     ]
    },
    {
     "name": "stderr",
     "output_type": "stream",
     "text": [
      "/Users/jacobscottanthony/anaconda3/lib/python3.6/site-packages/statsmodels/tsa/base/tsa_model.py:218: ValueWarning: A date index has been provided, but it has no associated frequency information and so will be ignored when e.g. forecasting.\n",
      "  ' ignored when e.g. forecasting.', ValueWarning)\n",
      "/Users/jacobscottanthony/anaconda3/lib/python3.6/site-packages/statsmodels/tsa/base/tsa_model.py:218: ValueWarning: A date index has been provided, but it has no associated frequency information and so will be ignored when e.g. forecasting.\n",
      "  ' ignored when e.g. forecasting.', ValueWarning)\n"
     ]
    },
    {
     "name": "stdout",
     "output_type": "stream",
     "text": [
      "Iteration: 18\n",
      "MAE: 8.878381674113033\n",
      "RMSE: 108.01627253886663\n"
     ]
    },
    {
     "name": "stderr",
     "output_type": "stream",
     "text": [
      "/Users/jacobscottanthony/anaconda3/lib/python3.6/site-packages/statsmodels/tsa/base/tsa_model.py:218: ValueWarning: A date index has been provided, but it has no associated frequency information and so will be ignored when e.g. forecasting.\n",
      "  ' ignored when e.g. forecasting.', ValueWarning)\n",
      "/Users/jacobscottanthony/anaconda3/lib/python3.6/site-packages/statsmodels/tsa/base/tsa_model.py:218: ValueWarning: A date index has been provided, but it has no associated frequency information and so will be ignored when e.g. forecasting.\n",
      "  ' ignored when e.g. forecasting.', ValueWarning)\n"
     ]
    },
    {
     "name": "stdout",
     "output_type": "stream",
     "text": [
      "Iteration: 19\n",
      "MAE: 6.269442367958166\n",
      "RMSE: 55.02540514517273\n"
     ]
    },
    {
     "name": "stderr",
     "output_type": "stream",
     "text": [
      "/Users/jacobscottanthony/anaconda3/lib/python3.6/site-packages/statsmodels/tsa/base/tsa_model.py:218: ValueWarning: A date index has been provided, but it has no associated frequency information and so will be ignored when e.g. forecasting.\n",
      "  ' ignored when e.g. forecasting.', ValueWarning)\n",
      "/Users/jacobscottanthony/anaconda3/lib/python3.6/site-packages/statsmodels/tsa/base/tsa_model.py:218: ValueWarning: A date index has been provided, but it has no associated frequency information and so will be ignored when e.g. forecasting.\n",
      "  ' ignored when e.g. forecasting.', ValueWarning)\n"
     ]
    },
    {
     "name": "stdout",
     "output_type": "stream",
     "text": [
      "Iteration: 20\n",
      "MAE: 1.9281170454444199\n",
      "RMSE: 4.715976380725132\n"
     ]
    },
    {
     "name": "stderr",
     "output_type": "stream",
     "text": [
      "/Users/jacobscottanthony/anaconda3/lib/python3.6/site-packages/statsmodels/tsa/base/tsa_model.py:218: ValueWarning: A date index has been provided, but it has no associated frequency information and so will be ignored when e.g. forecasting.\n",
      "  ' ignored when e.g. forecasting.', ValueWarning)\n",
      "/Users/jacobscottanthony/anaconda3/lib/python3.6/site-packages/statsmodels/tsa/base/tsa_model.py:218: ValueWarning: A date index has been provided, but it has no associated frequency information and so will be ignored when e.g. forecasting.\n",
      "  ' ignored when e.g. forecasting.', ValueWarning)\n"
     ]
    },
    {
     "name": "stdout",
     "output_type": "stream",
     "text": [
      "Iteration: 21\n",
      "MAE: 7.7367092623694935\n",
      "RMSE: 85.64176126681281\n"
     ]
    },
    {
     "name": "stderr",
     "output_type": "stream",
     "text": [
      "/Users/jacobscottanthony/anaconda3/lib/python3.6/site-packages/statsmodels/tsa/base/tsa_model.py:218: ValueWarning: A date index has been provided, but it has no associated frequency information and so will be ignored when e.g. forecasting.\n",
      "  ' ignored when e.g. forecasting.', ValueWarning)\n",
      "/Users/jacobscottanthony/anaconda3/lib/python3.6/site-packages/statsmodels/tsa/base/tsa_model.py:218: ValueWarning: A date index has been provided, but it has no associated frequency information and so will be ignored when e.g. forecasting.\n",
      "  ' ignored when e.g. forecasting.', ValueWarning)\n"
     ]
    },
    {
     "name": "stdout",
     "output_type": "stream",
     "text": [
      "Iteration: 22\n",
      "MAE: 2.981970076872204\n",
      "RMSE: 15.802580382925575\n"
     ]
    },
    {
     "name": "stderr",
     "output_type": "stream",
     "text": [
      "/Users/jacobscottanthony/anaconda3/lib/python3.6/site-packages/statsmodels/tsa/base/tsa_model.py:218: ValueWarning: A date index has been provided, but it has no associated frequency information and so will be ignored when e.g. forecasting.\n",
      "  ' ignored when e.g. forecasting.', ValueWarning)\n",
      "/Users/jacobscottanthony/anaconda3/lib/python3.6/site-packages/statsmodels/tsa/base/tsa_model.py:218: ValueWarning: A date index has been provided, but it has no associated frequency information and so will be ignored when e.g. forecasting.\n",
      "  ' ignored when e.g. forecasting.', ValueWarning)\n"
     ]
    },
    {
     "name": "stdout",
     "output_type": "stream",
     "text": [
      "Iteration: 23\n",
      "MAE: 6.368610177618273\n",
      "RMSE: 64.6126742374083\n"
     ]
    },
    {
     "name": "stderr",
     "output_type": "stream",
     "text": [
      "/Users/jacobscottanthony/anaconda3/lib/python3.6/site-packages/statsmodels/tsa/base/tsa_model.py:218: ValueWarning: A date index has been provided, but it has no associated frequency information and so will be ignored when e.g. forecasting.\n",
      "  ' ignored when e.g. forecasting.', ValueWarning)\n",
      "/Users/jacobscottanthony/anaconda3/lib/python3.6/site-packages/statsmodels/tsa/base/tsa_model.py:218: ValueWarning: A date index has been provided, but it has no associated frequency information and so will be ignored when e.g. forecasting.\n",
      "  ' ignored when e.g. forecasting.', ValueWarning)\n"
     ]
    },
    {
     "name": "stdout",
     "output_type": "stream",
     "text": [
      "Iteration: 24\n",
      "MAE: 7.198816440102551\n",
      "RMSE: 57.884121687021484\n"
     ]
    },
    {
     "name": "stderr",
     "output_type": "stream",
     "text": [
      "/Users/jacobscottanthony/anaconda3/lib/python3.6/site-packages/statsmodels/tsa/base/tsa_model.py:218: ValueWarning: A date index has been provided, but it has no associated frequency information and so will be ignored when e.g. forecasting.\n",
      "  ' ignored when e.g. forecasting.', ValueWarning)\n",
      "/Users/jacobscottanthony/anaconda3/lib/python3.6/site-packages/statsmodels/tsa/base/tsa_model.py:218: ValueWarning: A date index has been provided, but it has no associated frequency information and so will be ignored when e.g. forecasting.\n",
      "  ' ignored when e.g. forecasting.', ValueWarning)\n"
     ]
    },
    {
     "name": "stdout",
     "output_type": "stream",
     "text": [
      "Iteration: 25\n",
      "MAE: 3.774311353282302\n",
      "RMSE: 19.208163328827016\n"
     ]
    },
    {
     "name": "stderr",
     "output_type": "stream",
     "text": [
      "/Users/jacobscottanthony/anaconda3/lib/python3.6/site-packages/statsmodels/tsa/base/tsa_model.py:218: ValueWarning: A date index has been provided, but it has no associated frequency information and so will be ignored when e.g. forecasting.\n",
      "  ' ignored when e.g. forecasting.', ValueWarning)\n",
      "/Users/jacobscottanthony/anaconda3/lib/python3.6/site-packages/statsmodels/tsa/base/tsa_model.py:218: ValueWarning: A date index has been provided, but it has no associated frequency information and so will be ignored when e.g. forecasting.\n",
      "  ' ignored when e.g. forecasting.', ValueWarning)\n"
     ]
    },
    {
     "name": "stdout",
     "output_type": "stream",
     "text": [
      "Iteration: 26\n",
      "MAE: 0.6928342219768524\n",
      "RMSE: 0.7624520585645707\n",
      "\n"
     ]
    }
   ],
   "source": [
    "#Inputs for Walk-Forward\n",
    "X = day_data['Close']\n",
    "n_train = len(base_train)\n",
    "n_records = len(base_train)+len(base_test)\n",
    "step = 30\n",
    "predictions = list()\n",
    "pred_dict = dict()\n",
    "errors = list()\n",
    "count = 0\n",
    "\n",
    "#Main Loop\n",
    "for i in tqdm.tqdm_notebook(np.arange(n_train, n_records, step)):\n",
    "    \n",
    "    #Split Data\n",
    "    train, test = X[0:i], X[i:i+step]\n",
    "    #train, test = X[(step*count):i], y[(count * (step-1)): ((count+1)*(step))]\n",
    "    \n",
    "    #Create Model\n",
    "    model = ARIMA(train, order=(15,1,1))\n",
    "    \n",
    "    #Fit the Model\n",
    "    model_fit = model.fit()\n",
    "    \n",
    "    #Create the Prediction\n",
    "    output = model_fit.forecast(steps=30)    \n",
    "    \n",
    "    #Save the Output to predictions list\n",
    "    predictions.append(output[0])\n",
    "    \n",
    "    #Create Output df that includes the day of each forecast (ie. forecast horizon)\n",
    "    res = pd.DataFrame(list(range(1,31)), columns=['Day'])\n",
    "    res['Pred'] = output[0]\n",
    "    \n",
    "    #Append the df to the pred_dict dictionary for plotting below\n",
    "    pred_dict[count] = res\n",
    "    \n",
    "    #Calcuate Error\n",
    "    #N.B. Last iteration is always diff shape we'll just calculate with what we have\n",
    "    mae = metrics.mean_absolute_error(test,output[0][0:len(test)])\n",
    "    rmse = metrics.mean_squared_error(test,output[0][0:len(test)])\n",
    "    \n",
    "    #Append Error to List\n",
    "    err = [count+1, mae, rmse]\n",
    "    errors.append(err)\n",
    "    \n",
    "    #Print Update\n",
    "    print('Iteration:',count+1)\n",
    "    print('MAE:',mae)\n",
    "    print('RMSE:',rmse)\n",
    "    \n",
    "    #Increase Counter\n",
    "    count += 1"
   ]
  },
  {
   "cell_type": "markdown",
   "metadata": {},
   "source": [
    "## Validation Results"
   ]
  },
  {
   "cell_type": "code",
   "execution_count": 10,
   "metadata": {},
   "outputs": [],
   "source": [
    "#Check the shape of the outputs from the walk forward. Perform any necessary transformations in order to visualize the results.\n",
    "\n",
    "#predictions\n",
    "#errors\n",
    "#pred_dict"
   ]
  },
  {
   "cell_type": "code",
   "execution_count": 11,
   "metadata": {},
   "outputs": [],
   "source": [
    "#Unravel the predictions array in order to plot the prediction vs actual\n",
    "\n",
    "pred = np.concatenate(predictions).ravel().tolist()"
   ]
  },
  {
   "cell_type": "code",
   "execution_count": 12,
   "metadata": {},
   "outputs": [],
   "source": [
    "#Create a df with datetimeindex, append the unraveled prediction to it.\n",
    "#Slice the prediction to the same length as df (it'll always be longer due to train/test split)\n",
    "\n",
    "results = pd.DataFrame(base_test)\n",
    "results['Pred'] = pred[:len(results)]"
   ]
  },
  {
   "cell_type": "code",
   "execution_count": 13,
   "metadata": {},
   "outputs": [
    {
     "data": {
      "text/plain": [
       "<matplotlib.axes._subplots.AxesSubplot at 0x1a1ce1c710>"
      ]
     },
     "execution_count": 13,
     "metadata": {},
     "output_type": "execute_result"
    },
    {
     "data": {
      "image/png": "[encoded data removed]",
      "text/plain": [
       "<Figure size 1080x360 with 1 Axes>"
      ]
     },
     "metadata": {
      "needs_background": "light"
     },
     "output_type": "display_data"
    }
   ],
   "source": [
    "results.plot(figsize=(15,5), title='ARIMA Prediction vs Actual')"
   ]
  },
  {
   "cell_type": "code",
   "execution_count": 14,
   "metadata": {},
   "outputs": [
    {
     "name": "stdout",
     "output_type": "stream",
     "text": [
      "Aggregate Error for the Walk Forward Validation:\n",
      "Mean Absolute Error: 3.863318001262151\n",
      "Mean Squared Error: 28.51507078666769\n"
     ]
    }
   ],
   "source": [
    "#Total Error for the Walk Fowrard\n",
    "total_MAE = metrics.mean_absolute_error(results['Close'], results['Pred'])\n",
    "total_RMSE = metrics.mean_squared_error(results['Close'], results['Pred'])\n",
    "\n",
    "print('Aggregate Error for the Walk Forward Validation:')\n",
    "print('Mean Absolute Error:',total_MAE)\n",
    "print('Mean Squared Error:',total_RMSE)"
   ]
  },
  {
   "cell_type": "code",
   "execution_count": 15,
   "metadata": {},
   "outputs": [
    {
     "data": {
      "text/html": [
       "<div>\n",
       "<style scoped>\n",
       "    .dataframe tbody tr th:only-of-type {\n",
       "        vertical-align: middle;\n",
       "    }\n",
       "\n",
       "    .dataframe tbody tr th {\n",
       "        vertical-align: top;\n",
       "    }\n",
       "\n",
       "    .dataframe thead th {\n",
       "        text-align: right;\n",
       "    }\n",
       "</style>\n",
       "<table border=\"1\" class=\"dataframe\">\n",
       "  <thead>\n",
       "    <tr style=\"text-align: right;\">\n",
       "      <th></th>\n",
       "      <th>Close</th>\n",
       "      <th>Pred</th>\n",
       "    </tr>\n",
       "  </thead>\n",
       "  <tbody>\n",
       "    <tr>\n",
       "      <th>Close</th>\n",
       "      <td>1.000000</td>\n",
       "      <td>0.979474</td>\n",
       "    </tr>\n",
       "    <tr>\n",
       "      <th>Pred</th>\n",
       "      <td>0.979474</td>\n",
       "      <td>1.000000</td>\n",
       "    </tr>\n",
       "  </tbody>\n",
       "</table>\n",
       "</div>"
      ],
      "text/plain": [
       "          Close      Pred\n",
       "Close  1.000000  0.979474\n",
       "Pred   0.979474  1.000000"
      ]
     },
     "execution_count": 15,
     "metadata": {},
     "output_type": "execute_result"
    }
   ],
   "source": [
    "# Calculate the Correlation between the Actual and Predicted Closing Price over the Test Period\n",
    "\n",
    "results.corr(method='pearson')"
   ]
  },
  {
   "cell_type": "code",
   "execution_count": 16,
   "metadata": {},
   "outputs": [
    {
     "data": {
      "text/plain": [
       "<matplotlib.axes._subplots.AxesSubplot at 0x1a1cd731d0>"
      ]
     },
     "execution_count": 16,
     "metadata": {},
     "output_type": "execute_result"
    },
    {
     "data": {
      "image/png": "[encoded data removed]",
      "text/plain": [
       "<Figure size 432x288 with 2 Axes>"
      ]
     },
     "metadata": {
      "needs_background": "light"
     },
     "output_type": "display_data"
    }
   ],
   "source": [
    "# Plot the Error vs Iteration (step) to see if the model increases it's accuracy over time\n",
    "\n",
    "error_df = pd.DataFrame.from_records(errors, columns=['Iteration', 'MAE', 'RMSE'])\n",
    "error_df.plot(x='Iteration', y=['MAE','RMSE'], secondary_y=['RMSE'])"
   ]
  },
  {
   "cell_type": "code",
   "execution_count": 17,
   "metadata": {},
   "outputs": [],
   "source": [
    "#Combine all the dfs in the pred_dict dictionary in order to plot the error by forecast horizon\n",
    "\n",
    "combined = pd.concat(pred_dict.values(), ignore_index=True)\n",
    "combined = combined[0:len(base_test.values)]\n",
    "combined['Actual'] = base_test.values\n",
    "#combined"
   ]
  },
  {
   "cell_type": "code",
   "execution_count": 18,
   "metadata": {},
   "outputs": [],
   "source": [
    "#calculate our the error by day in the forecast\n",
    "\n",
    "error_by_day = list()\n",
    "\n",
    "for i in range(1,31):\n",
    "    df = combined[combined.Day == i]\n",
    "    err_MSE = metrics.mean_squared_error(df['Actual'],df['Pred'])\n",
    "    err_MAE = metrics.mean_absolute_error(df['Actual'],df['Pred'])\n",
    "    error = [i, err_MAE,err_MSE]\n",
    "    error_by_day.append(error)"
   ]
  },
  {
   "cell_type": "code",
   "execution_count": 19,
   "metadata": {},
   "outputs": [
    {
     "data": {
      "text/plain": [
       "<matplotlib.axes._subplots.AxesSubplot at 0x1a1cc0a518>"
      ]
     },
     "execution_count": 19,
     "metadata": {},
     "output_type": "execute_result"
    },
    {
     "data": {
      "image/png": "[encoded data removed]",
      "text/plain": [
       "<Figure size 432x288 with 1 Axes>"
      ]
     },
     "metadata": {
      "needs_background": "light"
     },
     "output_type": "display_data"
    }
   ],
   "source": [
    "error_by_day = pd.DataFrame.from_records(error_by_day, columns=['Day', 'MAE', 'RMSE'])\n",
    "error_by_day.plot(x='Day', y=['MAE','RMSE'])"
   ]
  },
  {
   "cell_type": "markdown",
   "metadata": {},
   "source": [
    "## Baseline Summary\n",
    "* The Baseline ARIMA model has been trained and walked forward over the test set\n",
    "* Model showed MAE = 3.86\n",
    "* Model showed RMSE = 28.5\n",
    "* Model showed PCC = 0.979\n",
    "* The model did not show significant improvement in model accuracy with increase training set size\n",
    "* As expected the model accuracy decreases with an increasing forecast horizon"
   ]
  }
 ],
 "metadata": {
  "kernelspec": {
   "display_name": "Python 3",
   "language": "python",
   "name": "python3"
  },
  "language_info": {
   "codemirror_mode": {
    "name": "ipython",
    "version": 3
   },
   "file_extension": ".py",
   "mimetype": "text/x-python",
   "name": "python",
   "nbconvert_exporter": "python",
   "pygments_lexer": "ipython3",
   "version": "3.6.9"
  }
 },
 "nbformat": 4,
 "nbformat_minor": 2
}
