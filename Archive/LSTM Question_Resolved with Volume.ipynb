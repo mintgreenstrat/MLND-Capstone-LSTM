{
 "cells": [
  {
   "cell_type": "markdown",
   "metadata": {},
   "source": [
    "# Working Example\n",
    "## Multi-variate, Multi-step Time Series Prediction w/ LSTM"
   ]
  },
  {
   "cell_type": "markdown",
   "metadata": {},
   "source": [
    "Import Modules"
   ]
  },
  {
   "cell_type": "code",
   "execution_count": 2,
   "metadata": {},
   "outputs": [],
   "source": [
    "import pandas as pd\n",
    "import numpy as np\n",
    "import matplotlib.pyplot as plt\n",
    "from sklearn import metrics\n",
    "import tqdm\n",
    "%matplotlib inline"
   ]
  },
  {
   "cell_type": "markdown",
   "metadata": {},
   "source": [
    "Load Data"
   ]
  },
  {
   "cell_type": "code",
   "execution_count": 3,
   "metadata": {},
   "outputs": [
    {
     "name": "stdout",
     "output_type": "stream",
     "text": [
      "(5031, 16) \n",
      "\n",
      "                             Open    High     Low   Close   Volume  SMA_10  \\\n",
      "Timestamp                                                                    \n",
      "2000-01-03 00:00:00-05:00  19.500  19.500  18.750  18.813   580000     NaN   \n",
      "2000-01-04 00:00:00-05:00  18.813  18.969   9.000   9.188  1528798     NaN   \n",
      "2000-01-05 00:00:00-05:00   9.250  19.188   9.188  19.063   700200     NaN   \n",
      "\n",
      "                           SMA_50  EMA_10  EMA_50         RSI  ROC  MACD_Line  \\\n",
      "Timestamp                                                                       \n",
      "2000-01-03 00:00:00-05:00     NaN     NaN     NaN  100.000000  NaN        NaN   \n",
      "2000-01-04 00:00:00-05:00     NaN     NaN     NaN    0.000000  NaN        NaN   \n",
      "2000-01-05 00:00:00-05:00     NaN     NaN     NaN   52.491694  NaN        NaN   \n",
      "\n",
      "                           MACD_Diff  MACD_Sig  WO  ATR  \n",
      "Timestamp                                                \n",
      "2000-01-03 00:00:00-05:00        NaN       NaN NaN  0.0  \n",
      "2000-01-04 00:00:00-05:00        NaN       NaN NaN  0.0  \n",
      "2000-01-05 00:00:00-05:00        NaN       NaN NaN  0.0  \n"
     ]
    }
   ],
   "source": [
    "if True:\n",
    "    keep_col = list(range(1,18))\n",
    "\n",
    "    df_day = pd.read_csv('Clean Data/ECL_Clean_Day.csv', \n",
    "                         infer_datetime_format=True,\n",
    "                         parse_dates=['Timestamp'], \n",
    "                         index_col=['Timestamp'],\n",
    "                         usecols = keep_col,\n",
    "                         date_parser=lambda col: pd.to_datetime(col, utc=True).tz_convert('America/New_York'))\n",
    "\n",
    "    #df_day.dtypes\n",
    "    print ('Shape of df-day:',df_day.shape,'\\n')\n",
    "print (df_day.head(3))"
   ]
  },
  {
   "cell_type": "markdown",
   "metadata": {},
   "source": [
    "Slice the data to get the 10 most recent years (2010 through 2019)"
   ]
  },
  {
   "cell_type": "code",
   "execution_count": 4,
   "metadata": {},
   "outputs": [
    {
     "data": {
      "text/plain": [
       "(2516, 16)"
      ]
     },
     "execution_count": 4,
     "metadata": {},
     "output_type": "execute_result"
    }
   ],
   "source": [
    "# create 10 years of data from 2019 - 2010\n",
    "\n",
    "day_data = df_day[df_day.index >= '2010-01-01']\n",
    "day_data.shape"
   ]
  },
  {
   "cell_type": "markdown",
   "metadata": {},
   "source": [
    "Slice the data for the first 5 columns (Open, High, Low, Close, Volume) and then rearrange with Close price as the last column."
   ]
  },
  {
   "cell_type": "code",
   "execution_count": 5,
   "metadata": {},
   "outputs": [
    {
     "name": "stdout",
     "output_type": "stream",
     "text": [
      "(2516, 4)\n"
     ]
    },
    {
     "data": {
      "text/html": [
       "<div>\n",
       "<style scoped>\n",
       "    .dataframe tbody tr th:only-of-type {\n",
       "        vertical-align: middle;\n",
       "    }\n",
       "\n",
       "    .dataframe tbody tr th {\n",
       "        vertical-align: top;\n",
       "    }\n",
       "\n",
       "    .dataframe thead th {\n",
       "        text-align: right;\n",
       "    }\n",
       "</style>\n",
       "<table border=\"1\" class=\"dataframe\">\n",
       "  <thead>\n",
       "    <tr style=\"text-align: right;\">\n",
       "      <th></th>\n",
       "      <th>Open</th>\n",
       "      <th>High</th>\n",
       "      <th>Low</th>\n",
       "      <th>Close</th>\n",
       "    </tr>\n",
       "    <tr>\n",
       "      <th>Timestamp</th>\n",
       "      <th></th>\n",
       "      <th></th>\n",
       "      <th></th>\n",
       "      <th></th>\n",
       "    </tr>\n",
       "  </thead>\n",
       "  <tbody>\n",
       "    <tr>\n",
       "      <th>2010-01-04 00:00:00-05:00</th>\n",
       "      <td>45.08</td>\n",
       "      <td>45.3392</td>\n",
       "      <td>44.86</td>\n",
       "      <td>45.23</td>\n",
       "    </tr>\n",
       "    <tr>\n",
       "      <th>2010-01-05 00:00:00-05:00</th>\n",
       "      <td>45.12</td>\n",
       "      <td>45.1400</td>\n",
       "      <td>44.31</td>\n",
       "      <td>44.51</td>\n",
       "    </tr>\n",
       "    <tr>\n",
       "      <th>2010-01-06 00:00:00-05:00</th>\n",
       "      <td>44.49</td>\n",
       "      <td>44.8500</td>\n",
       "      <td>44.15</td>\n",
       "      <td>44.41</td>\n",
       "    </tr>\n",
       "  </tbody>\n",
       "</table>\n",
       "</div>"
      ],
      "text/plain": [
       "                            Open     High    Low  Close\n",
       "Timestamp                                              \n",
       "2010-01-04 00:00:00-05:00  45.08  45.3392  44.86  45.23\n",
       "2010-01-05 00:00:00-05:00  45.12  45.1400  44.31  44.51\n",
       "2010-01-06 00:00:00-05:00  44.49  44.8500  44.15  44.41"
      ]
     },
     "execution_count": 5,
     "metadata": {},
     "output_type": "execute_result"
    }
   ],
   "source": [
    "#slice for the first 4 cols only\n",
    "data = day_data.loc[:,'Open':'Close']\n",
    "\n",
    "#rearrange column order\n",
    "data = data[['Open', 'High', 'Low', 'Close']]\n",
    "print (data.shape)\n",
    "data.head(3)"
   ]
  },
  {
   "cell_type": "markdown",
   "metadata": {},
   "source": [
    "Function borrowed from Jason Brownlee's amazing website: [www.machinelearningmastery.com]"
   ]
  },
  {
   "cell_type": "code",
   "execution_count": 6,
   "metadata": {},
   "outputs": [],
   "source": [
    "#from: machinelearningmastery.com/blog/\n",
    "\n",
    "def time_series_to_supervised(data, n_lag=1, n_fut=1, selLag=None, selFut=None, dropnan=True):\n",
    "    \"\"\"\n",
    "    Converts a time series to a supervised learning data set by adding time-shifted prior and future period\n",
    "    data as input or output (i.e., target result) columns for each period\n",
    "    :param data:  a series of periodic attributes as a list or NumPy array\n",
    "    :param n_lag: number of PRIOR periods to lag as input (X); generates: Xa(t-1), Xa(t-2); min= 0 --> nothing lagged\n",
    "    :param n_fut: number of FUTURE periods to add as target output (y); generates Yout(t+1); min= 0 --> no future periods\n",
    "    :param selLag:  only copy these specific PRIOR period attributes; default= None; EX: ['Xa', 'Xb' ]\n",
    "    :param selFut:  only copy these specific FUTURE period attributes; default= None; EX: ['rslt', 'xx']\n",
    "    :param dropnan: True= drop rows with NaN values; default= True\n",
    "    :return: a Pandas DataFrame of time series data organized for supervised learning\n",
    "    NOTES:\n",
    "    (1) The current period's data is always included in the output.\n",
    "    (2) A suffix is added to the original column names to indicate a relative time reference: e.g., (t) is the current\n",
    "        period; (t-2) is from two periods in the past; (t+1) is from the next period\n",
    "    (3) This is an extension of Jason Brownlee's series_to_supervised() function, customized for MFI use\n",
    "    \"\"\"\n",
    "    n_vars = 1 if type(data) is list else data.shape[1]\n",
    "    df = pd.DataFrame(data)\n",
    "    origNames = df.columns\n",
    "    cols, names = list(), list()\n",
    "    # include all current period attributes\n",
    "    cols.append(df.shift(0))\n",
    "    names += [('%s' % origNames[j]) for j in range(n_vars)]\n",
    " \n",
    "    # lag any past period attributes (t-n_lag,...,t-1)\n",
    "    n_lag = max(0, n_lag)  # force valid number of lag periods\n",
    "    for i in range(n_lag, 0, -1):\n",
    "        suffix= '(t-%d)' % i\n",
    "        if (None == selLag):   # copy all attributes from PRIOR periods?\n",
    "            cols.append(df.shift(i))\n",
    "            names += [('%s%s' % (origNames[j], suffix)) for j in range(n_vars)]\n",
    "        else:\n",
    "            for var in (selLag):\n",
    "                cols.append(df[var].shift(i))\n",
    "                names+= [('%s%s' % (var, suffix))]\n",
    " \n",
    "    # include future period attributes (t+1,...,t+n_fut)\n",
    "    n_fut = max(n_fut, 0)  # force valid number of future periods to shift back\n",
    "    for i in range(1, n_fut + 1):\n",
    "        suffix= '(t+%d)' % i\n",
    "        if (None == selFut):  # copy all attributes from future periods?\n",
    "            cols.append(df.shift(-i))\n",
    "            names += [('%s%s' % (origNames[j], suffix)) for j in range(n_vars)]\n",
    "        else:  # copy only selected future attributes\n",
    "            for var in (selFut):\n",
    "                cols.append(df[var].shift(-i))\n",
    "                names += [('%s%s' % (var, suffix))]\n",
    "    # combine everything\n",
    "    agg = pd.concat(cols, axis=1)\n",
    "    agg.columns = names\n",
    "    # drop rows with NaN values introduced by lagging\n",
    "    if dropnan:\n",
    "        agg.dropna(inplace=True)\n",
    "    return agg"
   ]
  },
  {
   "cell_type": "markdown",
   "metadata": {},
   "source": [
    "Problem Framing:\n",
    "* Multivariate (Open, High, Low, Close, Volume)\n",
    "* Univariate, multistep output (Close)\n",
    "* Predict the next 30 days Close price using the previous 30 days\n",
    "\n",
    "Therefore:\n",
    "* n_in = 30\n",
    "* n_out = 30\n",
    "* n_features = 4\n",
    "\n",
    "Rerrange the data to a supervised learning problem using the `time_series_to_supervised` function."
   ]
  },
  {
   "cell_type": "code",
   "execution_count": 7,
   "metadata": {},
   "outputs": [],
   "source": [
    "data = time_series_to_supervised(data, n_lag=30, n_fut=30, selFut=['Close'])"
   ]
  },
  {
   "cell_type": "markdown",
   "metadata": {},
   "source": [
    "As expected, we end up with 30 * 4 + 30 * 1 + 4 = 154 columns. That splits as:\n",
    "* 30 x 4 = n_in x n_features (in)\n",
    "* 30 x 4 = n_out x n_features (out)\n",
    "* 1 x 4 = n_features a time t"
   ]
  },
  {
   "cell_type": "code",
   "execution_count": 8,
   "metadata": {},
   "outputs": [
    {
     "data": {
      "text/plain": [
       "(2456, 154)"
      ]
     },
     "execution_count": 8,
     "metadata": {},
     "output_type": "execute_result"
    }
   ],
   "source": [
    "data.shape"
   ]
  },
  {
   "cell_type": "code",
   "execution_count": 9,
   "metadata": {},
   "outputs": [
    {
     "name": "stdout",
     "output_type": "stream",
     "text": [
      "Open\n",
      "High\n",
      "Low\n",
      "Close\n",
      "Open(t-30)\n",
      "High(t-30)\n",
      "Low(t-30)\n",
      "Close(t-30)\n",
      "Open(t-29)\n",
      "High(t-29)\n",
      "Low(t-29)\n",
      "Close(t-29)\n",
      "Open(t-28)\n",
      "High(t-28)\n",
      "Low(t-28)\n",
      "Close(t-28)\n",
      "Open(t-27)\n",
      "High(t-27)\n",
      "Low(t-27)\n",
      "Close(t-27)\n",
      "Open(t-26)\n",
      "High(t-26)\n",
      "Low(t-26)\n",
      "Close(t-26)\n",
      "Open(t-25)\n",
      "High(t-25)\n",
      "Low(t-25)\n",
      "Close(t-25)\n",
      "Open(t-24)\n",
      "High(t-24)\n",
      "Low(t-24)\n",
      "Close(t-24)\n",
      "Open(t-23)\n",
      "High(t-23)\n",
      "Low(t-23)\n",
      "Close(t-23)\n",
      "Open(t-22)\n",
      "High(t-22)\n",
      "Low(t-22)\n",
      "Close(t-22)\n",
      "Open(t-21)\n",
      "High(t-21)\n",
      "Low(t-21)\n",
      "Close(t-21)\n",
      "Open(t-20)\n",
      "High(t-20)\n",
      "Low(t-20)\n",
      "Close(t-20)\n",
      "Open(t-19)\n",
      "High(t-19)\n",
      "Low(t-19)\n",
      "Close(t-19)\n",
      "Open(t-18)\n",
      "High(t-18)\n",
      "Low(t-18)\n",
      "Close(t-18)\n",
      "Open(t-17)\n",
      "High(t-17)\n",
      "Low(t-17)\n",
      "Close(t-17)\n",
      "Open(t-16)\n",
      "High(t-16)\n",
      "Low(t-16)\n",
      "Close(t-16)\n",
      "Open(t-15)\n",
      "High(t-15)\n",
      "Low(t-15)\n",
      "Close(t-15)\n",
      "Open(t-14)\n",
      "High(t-14)\n",
      "Low(t-14)\n",
      "Close(t-14)\n",
      "Open(t-13)\n",
      "High(t-13)\n",
      "Low(t-13)\n",
      "Close(t-13)\n",
      "Open(t-12)\n",
      "High(t-12)\n",
      "Low(t-12)\n",
      "Close(t-12)\n",
      "Open(t-11)\n",
      "High(t-11)\n",
      "Low(t-11)\n",
      "Close(t-11)\n",
      "Open(t-10)\n",
      "High(t-10)\n",
      "Low(t-10)\n",
      "Close(t-10)\n",
      "Open(t-9)\n",
      "High(t-9)\n",
      "Low(t-9)\n",
      "Close(t-9)\n",
      "Open(t-8)\n",
      "High(t-8)\n",
      "Low(t-8)\n",
      "Close(t-8)\n",
      "Open(t-7)\n",
      "High(t-7)\n",
      "Low(t-7)\n",
      "Close(t-7)\n",
      "Open(t-6)\n",
      "High(t-6)\n",
      "Low(t-6)\n",
      "Close(t-6)\n",
      "Open(t-5)\n",
      "High(t-5)\n",
      "Low(t-5)\n",
      "Close(t-5)\n",
      "Open(t-4)\n",
      "High(t-4)\n",
      "Low(t-4)\n",
      "Close(t-4)\n",
      "Open(t-3)\n",
      "High(t-3)\n",
      "Low(t-3)\n",
      "Close(t-3)\n",
      "Open(t-2)\n",
      "High(t-2)\n",
      "Low(t-2)\n",
      "Close(t-2)\n",
      "Open(t-1)\n",
      "High(t-1)\n",
      "Low(t-1)\n",
      "Close(t-1)\n",
      "Close(t+1)\n",
      "Close(t+2)\n",
      "Close(t+3)\n",
      "Close(t+4)\n",
      "Close(t+5)\n",
      "Close(t+6)\n",
      "Close(t+7)\n",
      "Close(t+8)\n",
      "Close(t+9)\n",
      "Close(t+10)\n",
      "Close(t+11)\n",
      "Close(t+12)\n",
      "Close(t+13)\n",
      "Close(t+14)\n",
      "Close(t+15)\n",
      "Close(t+16)\n",
      "Close(t+17)\n",
      "Close(t+18)\n",
      "Close(t+19)\n",
      "Close(t+20)\n",
      "Close(t+21)\n",
      "Close(t+22)\n",
      "Close(t+23)\n",
      "Close(t+24)\n",
      "Close(t+25)\n",
      "Close(t+26)\n",
      "Close(t+27)\n",
      "Close(t+28)\n",
      "Close(t+29)\n",
      "Close(t+30)\n"
     ]
    }
   ],
   "source": [
    "for i in data.columns:\n",
    "    print (i)"
   ]
  },
  {
   "cell_type": "markdown",
   "metadata": {},
   "source": [
    "Split the data into train and test based on a date. That gives 7 years for training and 3 years for testing."
   ]
  },
  {
   "cell_type": "code",
   "execution_count": 10,
   "metadata": {},
   "outputs": [
    {
     "name": "stdout",
     "output_type": "stream",
     "text": [
      "(1732, 154) (724, 154)\n"
     ]
    }
   ],
   "source": [
    "cut_off = '2017-01-01'\n",
    "train = data[data.index < cut_off].values\n",
    "test = data[data.index > cut_off].values\n",
    "print (train.shape, test.shape)"
   ]
  },
  {
   "cell_type": "markdown",
   "metadata": {},
   "source": [
    "Reshape the data for LSTM"
   ]
  },
  {
   "cell_type": "code",
   "execution_count": 11,
   "metadata": {},
   "outputs": [
    {
     "name": "stdout",
     "output_type": "stream",
     "text": [
      "Shape of splits:\n",
      "(1732, 120) (1732, 30) (724, 120) (724, 30) \n",
      "\n",
      "Re-shaped for LSTM:\n",
      "(1732, 30, 4) (1732, 30) (724, 30, 4) (724, 30)\n"
     ]
    }
   ],
   "source": [
    "n_features = 4\n",
    "n_in, n_out = 30, 30\n",
    "\n",
    "# 5 features, 3 timesteps lag\n",
    "n_obs = n_features * n_in\n",
    "\n",
    "# split X, y\n",
    "X_train, y_train = train[:, :n_obs], train[:, -n_out:]\n",
    "X_test, y_test = test[:, :n_obs], test[:, -n_out:]\n",
    "print('Shape of splits:')\n",
    "print(X_train.shape, y_train.shape, X_test.shape, y_test.shape,'\\n')\n",
    "\n",
    "# reshape input to be 3D [samples, timesteps, features]\n",
    "X_train = X_train.reshape((X_train.shape[0], n_in, n_features))\n",
    "X_test = X_test.reshape((X_test.shape[0], n_in, n_features))\n",
    "print('Re-shaped for LSTM:')\n",
    "print(X_train.shape, y_train.shape, X_test.shape, y_test.shape)"
   ]
  },
  {
   "cell_type": "markdown",
   "metadata": {},
   "source": [
    "Define a simple stacked LSTM model and train it"
   ]
  },
  {
   "cell_type": "code",
   "execution_count": 12,
   "metadata": {},
   "outputs": [
    {
     "name": "stderr",
     "output_type": "stream",
     "text": [
      "Using TensorFlow backend.\n",
      "/Users/jacobscottanthony/anaconda3/lib/python3.6/site-packages/tensorflow/python/framework/dtypes.py:516: FutureWarning: Passing (type, 1) or '1type' as a synonym of type is deprecated; in a future version of numpy, it will be understood as (type, (1,)) / '(1,)type'.\n",
      "  _np_qint8 = np.dtype([(\"qint8\", np.int8, 1)])\n",
      "/Users/jacobscottanthony/anaconda3/lib/python3.6/site-packages/tensorflow/python/framework/dtypes.py:517: FutureWarning: Passing (type, 1) or '1type' as a synonym of type is deprecated; in a future version of numpy, it will be understood as (type, (1,)) / '(1,)type'.\n",
      "  _np_quint8 = np.dtype([(\"quint8\", np.uint8, 1)])\n",
      "/Users/jacobscottanthony/anaconda3/lib/python3.6/site-packages/tensorflow/python/framework/dtypes.py:518: FutureWarning: Passing (type, 1) or '1type' as a synonym of type is deprecated; in a future version of numpy, it will be understood as (type, (1,)) / '(1,)type'.\n",
      "  _np_qint16 = np.dtype([(\"qint16\", np.int16, 1)])\n",
      "/Users/jacobscottanthony/anaconda3/lib/python3.6/site-packages/tensorflow/python/framework/dtypes.py:519: FutureWarning: Passing (type, 1) or '1type' as a synonym of type is deprecated; in a future version of numpy, it will be understood as (type, (1,)) / '(1,)type'.\n",
      "  _np_quint16 = np.dtype([(\"quint16\", np.uint16, 1)])\n",
      "/Users/jacobscottanthony/anaconda3/lib/python3.6/site-packages/tensorflow/python/framework/dtypes.py:520: FutureWarning: Passing (type, 1) or '1type' as a synonym of type is deprecated; in a future version of numpy, it will be understood as (type, (1,)) / '(1,)type'.\n",
      "  _np_qint32 = np.dtype([(\"qint32\", np.int32, 1)])\n",
      "/Users/jacobscottanthony/anaconda3/lib/python3.6/site-packages/tensorflow/python/framework/dtypes.py:525: FutureWarning: Passing (type, 1) or '1type' as a synonym of type is deprecated; in a future version of numpy, it will be understood as (type, (1,)) / '(1,)type'.\n",
      "  np_resource = np.dtype([(\"resource\", np.ubyte, 1)])\n",
      "/Users/jacobscottanthony/anaconda3/lib/python3.6/site-packages/tensorboard/compat/tensorflow_stub/dtypes.py:541: FutureWarning: Passing (type, 1) or '1type' as a synonym of type is deprecated; in a future version of numpy, it will be understood as (type, (1,)) / '(1,)type'.\n",
      "  _np_qint8 = np.dtype([(\"qint8\", np.int8, 1)])\n",
      "/Users/jacobscottanthony/anaconda3/lib/python3.6/site-packages/tensorboard/compat/tensorflow_stub/dtypes.py:542: FutureWarning: Passing (type, 1) or '1type' as a synonym of type is deprecated; in a future version of numpy, it will be understood as (type, (1,)) / '(1,)type'.\n",
      "  _np_quint8 = np.dtype([(\"quint8\", np.uint8, 1)])\n",
      "/Users/jacobscottanthony/anaconda3/lib/python3.6/site-packages/tensorboard/compat/tensorflow_stub/dtypes.py:543: FutureWarning: Passing (type, 1) or '1type' as a synonym of type is deprecated; in a future version of numpy, it will be understood as (type, (1,)) / '(1,)type'.\n",
      "  _np_qint16 = np.dtype([(\"qint16\", np.int16, 1)])\n",
      "/Users/jacobscottanthony/anaconda3/lib/python3.6/site-packages/tensorboard/compat/tensorflow_stub/dtypes.py:544: FutureWarning: Passing (type, 1) or '1type' as a synonym of type is deprecated; in a future version of numpy, it will be understood as (type, (1,)) / '(1,)type'.\n",
      "  _np_quint16 = np.dtype([(\"quint16\", np.uint16, 1)])\n",
      "/Users/jacobscottanthony/anaconda3/lib/python3.6/site-packages/tensorboard/compat/tensorflow_stub/dtypes.py:545: FutureWarning: Passing (type, 1) or '1type' as a synonym of type is deprecated; in a future version of numpy, it will be understood as (type, (1,)) / '(1,)type'.\n",
      "  _np_qint32 = np.dtype([(\"qint32\", np.int32, 1)])\n",
      "/Users/jacobscottanthony/anaconda3/lib/python3.6/site-packages/tensorboard/compat/tensorflow_stub/dtypes.py:550: FutureWarning: Passing (type, 1) or '1type' as a synonym of type is deprecated; in a future version of numpy, it will be understood as (type, (1,)) / '(1,)type'.\n",
      "  np_resource = np.dtype([(\"resource\", np.ubyte, 1)])\n"
     ]
    }
   ],
   "source": [
    "from keras.models import Sequential\n",
    "from keras.layers import LSTM\n",
    "from keras.layers import Dense"
   ]
  },
  {
   "cell_type": "code",
   "execution_count": 13,
   "metadata": {},
   "outputs": [],
   "source": [
    "model = Sequential()\n",
    "model.add(LSTM(100, activation='relu', return_sequences=True, input_shape=((X_train.shape[1]), X_train.shape[2])))\n",
    "model.add(LSTM(100, activation='relu'))\n",
    "model.add(Dense(n_out))\n",
    "model.compile(optimizer='adam', loss='mae')"
   ]
  },
  {
   "cell_type": "code",
   "execution_count": 14,
   "metadata": {},
   "outputs": [
    {
     "name": "stdout",
     "output_type": "stream",
     "text": [
      "WARNING:tensorflow:From /Users/jacobscottanthony/anaconda3/lib/python3.6/site-packages/keras/backend/tensorflow_backend.py:422: The name tf.global_variables is deprecated. Please use tf.compat.v1.global_variables instead.\n",
      "\n",
      "Train on 1732 samples, validate on 724 samples\n",
      "Epoch 1/10\n",
      "1732/1732 [==============================] - 4s 2ms/step - loss: 107.0121 - val_loss: 301.6558\n",
      "Epoch 2/10\n",
      "1732/1732 [==============================] - 4s 2ms/step - loss: 43.8688 - val_loss: 12.4706\n",
      "Epoch 3/10\n",
      "1732/1732 [==============================] - 4s 2ms/step - loss: 7.1084 - val_loss: 10.2998\n",
      "Epoch 4/10\n",
      "1732/1732 [==============================] - 5s 3ms/step - loss: 6.7768 - val_loss: 17.9376\n",
      "Epoch 5/10\n",
      "1732/1732 [==============================] - 5s 3ms/step - loss: 6.8912 - val_loss: 10.7227\n",
      "Epoch 6/10\n",
      "1732/1732 [==============================] - 5s 3ms/step - loss: 8.9509 - val_loss: 13.2643\n",
      "Epoch 7/10\n",
      "1732/1732 [==============================] - 4s 3ms/step - loss: 7.5042 - val_loss: 8.0804\n",
      "Epoch 8/10\n",
      "1732/1732 [==============================] - 5s 3ms/step - loss: 4.9134 - val_loss: 8.5394\n",
      "Epoch 9/10\n",
      "1732/1732 [==============================] - 4s 3ms/step - loss: 5.7900 - val_loss: 8.1531\n",
      "Epoch 10/10\n",
      "1732/1732 [==============================] - 5s 3ms/step - loss: 5.4226 - val_loss: 6.7645\n"
     ]
    }
   ],
   "source": [
    "history = model.fit(X_train, y_train, \n",
    "                    epochs=10, batch_size=30, \n",
    "                    validation_data=(X_test, y_test), \n",
    "                    verbose=1, shuffle=False)"
   ]
  },
  {
   "cell_type": "code",
   "execution_count": 15,
   "metadata": {},
   "outputs": [
    {
     "data": {
      "image/png": "[encoded data removed]",
      "text/plain": [
       "<Figure size 432x288 with 1 Axes>"
      ]
     },
     "metadata": {
      "needs_background": "light"
     },
     "output_type": "display_data"
    }
   ],
   "source": [
    "plt.plot(history.history['loss'], label='train loss')\n",
    "plt.plot(history.history['val_loss'], label='val loss')\n",
    "plt.legend()\n",
    "plt.show()"
   ]
  },
  {
   "cell_type": "markdown",
   "metadata": {},
   "source": [
    "Model performance is poor but that's irrelevant at this stage. I'll grid search this later."
   ]
  },
  {
   "cell_type": "code",
   "execution_count": 16,
   "metadata": {},
   "outputs": [
    {
     "name": "stdout",
     "output_type": "stream",
     "text": [
      "(30, 4)\n"
     ]
    },
    {
     "data": {
      "text/plain": [
       "array([[117.58  , 118.41  , 117.29  , 118.03  ],\n",
       "       [114.31  , 114.88  , 114.115 , 114.84  ],\n",
       "       [114.83  , 115.27  , 114.09  , 114.31  ],\n",
       "       [114.9   , 115.23  , 114.36  , 114.91  ],\n",
       "       [115.058 , 116.56  , 114.91  , 116.39  ],\n",
       "       [116.34  , 117.44  , 116.34  , 116.77  ],\n",
       "       [116.84  , 116.84  , 116.12  , 116.56  ],\n",
       "       [116.61  , 117.    , 116.05  , 116.33  ],\n",
       "       [116.23  , 116.98  , 115.78  , 116.41  ],\n",
       "       [116.7359, 117.37  , 116.16  , 116.695 ],\n",
       "       [117.    , 118.55  , 116.88  , 118.49  ],\n",
       "       [118.457 , 118.72  , 116.41  , 116.81  ],\n",
       "       [117.32  , 119.05  , 117.    , 118.56  ],\n",
       "       [118.21  , 118.38  , 116.42  , 116.91  ],\n",
       "       [116.85  , 118.82  , 116.64  , 118.78  ],\n",
       "       [118.8158, 119.76  , 118.42  , 119.56  ],\n",
       "       [119.34  , 120.51  , 119.31  , 120.5   ],\n",
       "       [120.98  , 121.81  , 120.485 , 121.48  ],\n",
       "       [121.88  , 122.25  , 121.25  , 122.18  ],\n",
       "       [121.9947, 122.23  , 120.83  , 121.03  ],\n",
       "       [120.28  , 122.09  , 119.75  , 122.04  ],\n",
       "       [121.75  , 122.    , 120.2   , 120.33  ],\n",
       "       [120.52  , 120.86  , 120.11  , 120.57  ],\n",
       "       [120.8   , 121.19  , 119.99  , 120.41  ],\n",
       "       [120.57  , 120.57  , 119.35  , 119.36  ],\n",
       "       [119.3903, 119.48  , 118.3503, 118.57  ],\n",
       "       [118.52  , 119.13  , 118.495 , 118.71  ],\n",
       "       [118.915 , 119.6   , 118.64  , 119.19  ],\n",
       "       [119.22  , 119.42  , 117.96  , 118.01  ],\n",
       "       [117.95  , 118.3361, 117.48  , 117.68  ]])"
      ]
     },
     "execution_count": 16,
     "metadata": {},
     "output_type": "execute_result"
    }
   ],
   "source": [
    "print (X_test[0].shape)\n",
    "X_test[0]"
   ]
  },
  {
   "cell_type": "code",
   "execution_count": 17,
   "metadata": {},
   "outputs": [
    {
     "name": "stdout",
     "output_type": "stream",
     "text": [
      "(30,)\n"
     ]
    },
    {
     "data": {
      "text/plain": [
       "array([118.79, 118.55, 118.93, 118.85, 117.81, 118.31, 118.65, 118.56,\n",
       "       118.67, 119.09, 118.83, 118.4 , 119.35, 121.65, 122.49, 120.98,\n",
       "       121.29, 121.46, 120.16, 120.77, 120.2 , 120.73, 119.68, 120.18,\n",
       "       120.33, 120.55, 121.11, 121.76, 122.79, 123.39])"
      ]
     },
     "execution_count": 17,
     "metadata": {},
     "output_type": "execute_result"
    }
   ],
   "source": [
    "print (y_test[0].shape)\n",
    "y_test[0]"
   ]
  },
  {
   "cell_type": "code",
   "execution_count": 18,
   "metadata": {},
   "outputs": [],
   "source": [
    "# make a prediction\n",
    "\n",
    "x_input = X_test[0].reshape((1, n_in, n_features))\n",
    "yhat = model.predict(x_input)"
   ]
  },
  {
   "cell_type": "code",
   "execution_count": 19,
   "metadata": {},
   "outputs": [
    {
     "name": "stdout",
     "output_type": "stream",
     "text": [
      "(30,)\n"
     ]
    },
    {
     "data": {
      "text/plain": [
       "array([[126.41188 , 125.216324, 117.99441 , 125.478745, 113.5178  ,\n",
       "        120.06095 , 118.16857 , 120.06302 , 119.57964 , 117.67535 ,\n",
       "        114.58308 , 115.56004 , 124.14149 , 117.45259 , 118.5956  ,\n",
       "        114.91151 , 120.69516 , 119.88533 , 116.80206 , 116.4847  ,\n",
       "        118.698006, 121.73438 , 118.35042 , 126.96903 , 122.68201 ,\n",
       "        119.10428 , 125.3293  , 123.59333 , 120.775055, 121.42823 ]],\n",
       "      dtype=float32)"
      ]
     },
     "execution_count": 19,
     "metadata": {},
     "output_type": "execute_result"
    }
   ],
   "source": [
    "print (yhat[0].shape)\n",
    "yhat"
   ]
  },
  {
   "cell_type": "code",
   "execution_count": 20,
   "metadata": {},
   "outputs": [
    {
     "data": {
      "image/png": "[encoded data removed]",
      "text/plain": [
       "<Figure size 432x288 with 1 Axes>"
      ]
     },
     "metadata": {
      "needs_background": "light"
     },
     "output_type": "display_data"
    }
   ],
   "source": [
    "plt.plot(yhat[0], label='yhat')\n",
    "plt.plot(y_test[0], label='actual')\n",
    "plt.legend()\n",
    "plt.show()"
   ]
  },
  {
   "cell_type": "code",
   "execution_count": 21,
   "metadata": {},
   "outputs": [
    {
     "name": "stdout",
     "output_type": "stream",
     "text": [
      "Root Mean Squared Error: 13.770626749775595\n"
     ]
    }
   ],
   "source": [
    "rmse = metrics.mean_squared_error(y_test[0], yhat[0])\n",
    "print ('Root Mean Squared Error:',rmse)"
   ]
  },
  {
   "cell_type": "markdown",
   "metadata": {},
   "source": [
    "# (Now) Working Example as of 28/02/20\n",
    "## Multi-variate, Multi-step Time Series Prediction w/ LSTM using SCALED data\n",
    "Everything is the same, except I want to standardize the input data using MinMaxScaler as I'm planning to add in a bunch of additional features that are of vastly different magnitudes. <br>I'll start by copying the supervised learning dataframe."
   ]
  },
  {
   "cell_type": "code",
   "execution_count": 22,
   "metadata": {},
   "outputs": [
    {
     "data": {
      "text/plain": [
       "(2456, 154)"
      ]
     },
     "execution_count": 22,
     "metadata": {},
     "output_type": "execute_result"
    }
   ],
   "source": [
    "data_test = data.copy()\n",
    "data_test.shape"
   ]
  },
  {
   "cell_type": "code",
   "execution_count": 23,
   "metadata": {},
   "outputs": [
    {
     "data": {
      "text/html": [
       "<div>\n",
       "<style scoped>\n",
       "    .dataframe tbody tr th:only-of-type {\n",
       "        vertical-align: middle;\n",
       "    }\n",
       "\n",
       "    .dataframe tbody tr th {\n",
       "        vertical-align: top;\n",
       "    }\n",
       "\n",
       "    .dataframe thead th {\n",
       "        text-align: right;\n",
       "    }\n",
       "</style>\n",
       "<table border=\"1\" class=\"dataframe\">\n",
       "  <thead>\n",
       "    <tr style=\"text-align: right;\">\n",
       "      <th></th>\n",
       "      <th>Open</th>\n",
       "      <th>High</th>\n",
       "      <th>Low</th>\n",
       "      <th>Close</th>\n",
       "      <th>Open(t-30)</th>\n",
       "      <th>High(t-30)</th>\n",
       "      <th>Low(t-30)</th>\n",
       "      <th>Close(t-30)</th>\n",
       "      <th>Open(t-29)</th>\n",
       "      <th>High(t-29)</th>\n",
       "      <th>...</th>\n",
       "      <th>Close(t+21)</th>\n",
       "      <th>Close(t+22)</th>\n",
       "      <th>Close(t+23)</th>\n",
       "      <th>Close(t+24)</th>\n",
       "      <th>Close(t+25)</th>\n",
       "      <th>Close(t+26)</th>\n",
       "      <th>Close(t+27)</th>\n",
       "      <th>Close(t+28)</th>\n",
       "      <th>Close(t+29)</th>\n",
       "      <th>Close(t+30)</th>\n",
       "    </tr>\n",
       "    <tr>\n",
       "      <th>Timestamp</th>\n",
       "      <th></th>\n",
       "      <th></th>\n",
       "      <th></th>\n",
       "      <th></th>\n",
       "      <th></th>\n",
       "      <th></th>\n",
       "      <th></th>\n",
       "      <th></th>\n",
       "      <th></th>\n",
       "      <th></th>\n",
       "      <th></th>\n",
       "      <th></th>\n",
       "      <th></th>\n",
       "      <th></th>\n",
       "      <th></th>\n",
       "      <th></th>\n",
       "      <th></th>\n",
       "      <th></th>\n",
       "      <th></th>\n",
       "      <th></th>\n",
       "      <th></th>\n",
       "    </tr>\n",
       "  </thead>\n",
       "  <tbody>\n",
       "    <tr>\n",
       "      <th>2010-02-17 00:00:00-05:00</th>\n",
       "      <td>42.3</td>\n",
       "      <td>42.62</td>\n",
       "      <td>42.09</td>\n",
       "      <td>42.37</td>\n",
       "      <td>45.08</td>\n",
       "      <td>45.3392</td>\n",
       "      <td>44.86</td>\n",
       "      <td>45.23</td>\n",
       "      <td>45.12</td>\n",
       "      <td>45.14</td>\n",
       "      <td>...</td>\n",
       "      <td>43.1789</td>\n",
       "      <td>43.18</td>\n",
       "      <td>43.41</td>\n",
       "      <td>43.445</td>\n",
       "      <td>43.3203</td>\n",
       "      <td>43.12</td>\n",
       "      <td>43.5</td>\n",
       "      <td>43.66</td>\n",
       "      <td>43.91</td>\n",
       "      <td>43.96</td>\n",
       "    </tr>\n",
       "  </tbody>\n",
       "</table>\n",
       "<p>1 rows × 154 columns</p>\n",
       "</div>"
      ],
      "text/plain": [
       "                           Open   High    Low  Close  Open(t-30)  High(t-30)  \\\n",
       "Timestamp                                                                      \n",
       "2010-02-17 00:00:00-05:00  42.3  42.62  42.09  42.37       45.08     45.3392   \n",
       "\n",
       "                           Low(t-30)  Close(t-30)  Open(t-29)  High(t-29)  \\\n",
       "Timestamp                                                                   \n",
       "2010-02-17 00:00:00-05:00      44.86        45.23       45.12       45.14   \n",
       "\n",
       "                           ...  Close(t+21)  Close(t+22)  Close(t+23)  \\\n",
       "Timestamp                  ...                                          \n",
       "2010-02-17 00:00:00-05:00  ...      43.1789        43.18        43.41   \n",
       "\n",
       "                           Close(t+24)  Close(t+25)  Close(t+26)  Close(t+27)  \\\n",
       "Timestamp                                                                       \n",
       "2010-02-17 00:00:00-05:00       43.445      43.3203        43.12         43.5   \n",
       "\n",
       "                           Close(t+28)  Close(t+29)  Close(t+30)  \n",
       "Timestamp                                                         \n",
       "2010-02-17 00:00:00-05:00        43.66        43.91        43.96  \n",
       "\n",
       "[1 rows x 154 columns]"
      ]
     },
     "execution_count": 23,
     "metadata": {},
     "output_type": "execute_result"
    }
   ],
   "source": [
    "#Checking what it looks like\n",
    "\n",
    "data_test.head(1)"
   ]
  },
  {
   "cell_type": "code",
   "execution_count": 24,
   "metadata": {},
   "outputs": [
    {
     "name": "stdout",
     "output_type": "stream",
     "text": [
      "Number of observations in: 120\n",
      "Number of predictions out: 30\n",
      "\n",
      "Shape of X: (2456, 120)\n",
      "Shape of y: (2456, 30)\n"
     ]
    }
   ],
   "source": [
    "#breaking down the problem one level deeper than above\n",
    "\n",
    "n_features_in = 4\n",
    "n_features_out = 1\n",
    "n_lags_in = 30\n",
    "n_lags_out = 30\n",
    "\n",
    "n_obs_in = (n_features_in * n_lags_in)\n",
    "n_obs_out = (n_features_out * n_lags_out)\n",
    "print ('Number of observations in:',n_obs_in)\n",
    "print ('Number of predictions out:', n_obs_out)\n",
    "\n",
    "# Creating X, y from data_test\n",
    "X = data_test.values[:, :n_obs_in]\n",
    "y = data_test.values[:, -n_obs_out:]\n",
    "print ('\\nShape of X:',X.shape)\n",
    "print ('Shape of y:', y.shape)"
   ]
  },
  {
   "cell_type": "code",
   "execution_count": 25,
   "metadata": {},
   "outputs": [
    {
     "name": "stdout",
     "output_type": "stream",
     "text": [
      "Open\n",
      "High\n",
      "Low\n",
      "Close\n",
      "Open(t-30)\n",
      "High(t-30)\n",
      "Low(t-30)\n",
      "Close(t-30)\n",
      "Open(t-29)\n",
      "High(t-29)\n",
      "Low(t-29)\n",
      "Close(t-29)\n",
      "Open(t-28)\n",
      "High(t-28)\n",
      "Low(t-28)\n",
      "Close(t-28)\n",
      "Open(t-27)\n",
      "High(t-27)\n",
      "Low(t-27)\n",
      "Close(t-27)\n",
      "Open(t-26)\n",
      "High(t-26)\n",
      "Low(t-26)\n",
      "Close(t-26)\n",
      "Open(t-25)\n",
      "High(t-25)\n",
      "Low(t-25)\n",
      "Close(t-25)\n",
      "Open(t-24)\n",
      "High(t-24)\n",
      "Low(t-24)\n",
      "Close(t-24)\n",
      "Open(t-23)\n",
      "High(t-23)\n",
      "Low(t-23)\n",
      "Close(t-23)\n",
      "Open(t-22)\n",
      "High(t-22)\n",
      "Low(t-22)\n",
      "Close(t-22)\n",
      "Open(t-21)\n",
      "High(t-21)\n",
      "Low(t-21)\n",
      "Close(t-21)\n",
      "Open(t-20)\n",
      "High(t-20)\n",
      "Low(t-20)\n",
      "Close(t-20)\n",
      "Open(t-19)\n",
      "High(t-19)\n",
      "Low(t-19)\n",
      "Close(t-19)\n",
      "Open(t-18)\n",
      "High(t-18)\n",
      "Low(t-18)\n",
      "Close(t-18)\n",
      "Open(t-17)\n",
      "High(t-17)\n",
      "Low(t-17)\n",
      "Close(t-17)\n",
      "Open(t-16)\n",
      "High(t-16)\n",
      "Low(t-16)\n",
      "Close(t-16)\n",
      "Open(t-15)\n",
      "High(t-15)\n",
      "Low(t-15)\n",
      "Close(t-15)\n",
      "Open(t-14)\n",
      "High(t-14)\n",
      "Low(t-14)\n",
      "Close(t-14)\n",
      "Open(t-13)\n",
      "High(t-13)\n",
      "Low(t-13)\n",
      "Close(t-13)\n",
      "Open(t-12)\n",
      "High(t-12)\n",
      "Low(t-12)\n",
      "Close(t-12)\n",
      "Open(t-11)\n",
      "High(t-11)\n",
      "Low(t-11)\n",
      "Close(t-11)\n",
      "Open(t-10)\n",
      "High(t-10)\n",
      "Low(t-10)\n",
      "Close(t-10)\n",
      "Open(t-9)\n",
      "High(t-9)\n",
      "Low(t-9)\n",
      "Close(t-9)\n",
      "Open(t-8)\n",
      "High(t-8)\n",
      "Low(t-8)\n",
      "Close(t-8)\n",
      "Open(t-7)\n",
      "High(t-7)\n",
      "Low(t-7)\n",
      "Close(t-7)\n",
      "Open(t-6)\n",
      "High(t-6)\n",
      "Low(t-6)\n",
      "Close(t-6)\n",
      "Open(t-5)\n",
      "High(t-5)\n",
      "Low(t-5)\n",
      "Close(t-5)\n",
      "Open(t-4)\n",
      "High(t-4)\n",
      "Low(t-4)\n",
      "Close(t-4)\n",
      "Open(t-3)\n",
      "High(t-3)\n",
      "Low(t-3)\n",
      "Close(t-3)\n",
      "Open(t-2)\n",
      "High(t-2)\n",
      "Low(t-2)\n",
      "Close(t-2)\n"
     ]
    }
   ],
   "source": [
    "#Just checking which columns landed where...\n",
    "\n",
    "if True:\n",
    "    for i in data_test.columns[:n_obs_in]:\n",
    "        print (i)"
   ]
  },
  {
   "cell_type": "code",
   "execution_count": 26,
   "metadata": {},
   "outputs": [],
   "source": [
    "#Just checking which columns landed where...\n",
    "\n",
    "if False:\n",
    "    for i in data_test.columns[-n_obs_out:]:\n",
    "        print (i)"
   ]
  },
  {
   "cell_type": "code",
   "execution_count": 27,
   "metadata": {},
   "outputs": [],
   "source": [
    "#Initializing a separate scaler for X and y\n",
    "\n",
    "from sklearn.preprocessing import MinMaxScaler\n",
    "\n",
    "X_scaler = MinMaxScaler(feature_range=(0,1)).fit(X)\n",
    "y_scaler = MinMaxScaler(feature_range=(0,1)).fit(y)\n",
    "\n",
    "#X_scaled = X_scaler.fit_transform(X)\n",
    "#y_scaled = y_scaler.fit_transform(y)\n",
    "\n",
    "#print (X_scaled.shape, y_scaled.shape)"
   ]
  },
  {
   "cell_type": "code",
   "execution_count": 28,
   "metadata": {},
   "outputs": [
    {
     "name": "stdout",
     "output_type": "stream",
     "text": [
      "Shape of splits:\n",
      "(1732, 120) (1732, 30) (724, 120) (724, 30)\n"
     ]
    }
   ],
   "source": [
    "#Split X, y into X_train/X_test and y_train and y_test\n",
    "\n",
    "n_train = 1732 # splits on dates as above except by index\n",
    "n_features = 4\n",
    "n_lag = 30\n",
    "n_in, n_out = 30, 30\n",
    "\n",
    "# split X, y into train/test\n",
    "X_train, y_train = X[:n_train, :], y[:n_train, :]\n",
    "X_test, y_test = X[n_train:, :], y[n_train:, :]\n",
    "print('Shape of splits:')\n",
    "print(X_train.shape, y_train.shape, X_test.shape, y_test.shape)"
   ]
  },
  {
   "cell_type": "code",
   "execution_count": 29,
   "metadata": {},
   "outputs": [],
   "source": [
    "# Using the X, y scalers, scale the data\n",
    "\n",
    "X_train, y_train = X_scaler.transform(X_train), y_scaler.transform(y_train)\n",
    "X_test, y_test = X_scaler.transform(X_test), y_scaler.transform(y_test)"
   ]
  },
  {
   "cell_type": "code",
   "execution_count": 30,
   "metadata": {},
   "outputs": [],
   "source": [
    "#Just checking what the scaling looks like\n",
    "\n",
    "if False:\n",
    "    print (X_train[0])"
   ]
  },
  {
   "cell_type": "code",
   "execution_count": 31,
   "metadata": {},
   "outputs": [
    {
     "name": "stdout",
     "output_type": "stream",
     "text": [
      "Re-shaped for LSTM:\n",
      "(1732, 30, 4) (1732, 30) (724, 30, 4) (724, 30)\n"
     ]
    }
   ],
   "source": [
    "# reshape input to be 3D [samples, timesteps, features] for LSTM\n",
    "\n",
    "X_train = X_train.reshape((X_train.shape[0], n_lag, n_features))\n",
    "X_test = X_test.reshape((X_test.shape[0], n_lag, n_features))\n",
    "print('Re-shaped for LSTM:')\n",
    "print(X_train.shape, y_train.shape, X_test.shape, y_test.shape)"
   ]
  },
  {
   "cell_type": "markdown",
   "metadata": {},
   "source": [
    "Same shape as example above. We'll initialize a new model with the same architecture as above and train it."
   ]
  },
  {
   "cell_type": "code",
   "execution_count": 32,
   "metadata": {},
   "outputs": [],
   "source": [
    "model_test = Sequential()\n",
    "model_test.add(LSTM(100, activation='relu', return_sequences=True, input_shape=((X_train.shape[1]), X_train.shape[2])))\n",
    "model_test.add(LSTM(100, activation='relu'))\n",
    "model_test.add(Dense(n_out))\n",
    "model_test.compile(optimizer='adam', loss='mae')"
   ]
  },
  {
   "cell_type": "code",
   "execution_count": 33,
   "metadata": {},
   "outputs": [
    {
     "name": "stdout",
     "output_type": "stream",
     "text": [
      "Train on 1732 samples, validate on 724 samples\n",
      "Epoch 1/20\n",
      "1732/1732 [==============================] - 6s 3ms/step - loss: 0.0353 - val_loss: 0.0942\n",
      "Epoch 2/20\n",
      "1732/1732 [==============================] - 5s 3ms/step - loss: 0.0697 - val_loss: 0.0861\n",
      "Epoch 3/20\n",
      "1732/1732 [==============================] - 4s 3ms/step - loss: 0.0637 - val_loss: 0.0880\n",
      "Epoch 4/20\n",
      "1732/1732 [==============================] - 5s 3ms/step - loss: 0.0584 - val_loss: 0.1107\n",
      "Epoch 5/20\n",
      "1732/1732 [==============================] - 5s 3ms/step - loss: 0.0441 - val_loss: 0.0953\n",
      "Epoch 6/20\n",
      "1732/1732 [==============================] - 4s 3ms/step - loss: 0.0385 - val_loss: 0.0969\n",
      "Epoch 7/20\n",
      "1732/1732 [==============================] - 4s 3ms/step - loss: 0.0317 - val_loss: 0.1025\n",
      "Epoch 8/20\n",
      "1732/1732 [==============================] - 4s 2ms/step - loss: 0.0248 - val_loss: 0.1001\n",
      "Epoch 9/20\n",
      "1732/1732 [==============================] - 4s 2ms/step - loss: 0.0249 - val_loss: 0.1173\n",
      "Epoch 10/20\n",
      "1732/1732 [==============================] - 5s 3ms/step - loss: 0.0227 - val_loss: 0.1185\n",
      "Epoch 11/20\n",
      "1732/1732 [==============================] - 4s 3ms/step - loss: 0.0203 - val_loss: 0.1156\n",
      "Epoch 12/20\n",
      "1732/1732 [==============================] - 5s 3ms/step - loss: 0.0219 - val_loss: 0.1247\n",
      "Epoch 13/20\n",
      "1732/1732 [==============================] - 4s 2ms/step - loss: 0.0212 - val_loss: 0.1196\n",
      "Epoch 14/20\n",
      "1732/1732 [==============================] - 4s 3ms/step - loss: 0.0201 - val_loss: 0.1189\n",
      "Epoch 15/20\n",
      "1732/1732 [==============================] - 5s 3ms/step - loss: 0.0204 - val_loss: 0.1217\n",
      "Epoch 16/20\n",
      "1732/1732 [==============================] - 5s 3ms/step - loss: 0.0229 - val_loss: 0.1193\n",
      "Epoch 17/20\n",
      "1732/1732 [==============================] - 5s 3ms/step - loss: 0.0194 - val_loss: 0.1277\n",
      "Epoch 18/20\n",
      "1732/1732 [==============================] - 5s 3ms/step - loss: 0.0231 - val_loss: 0.1191\n",
      "Epoch 19/20\n",
      "1732/1732 [==============================] - 5s 3ms/step - loss: 0.0191 - val_loss: 0.1248\n",
      "Epoch 20/20\n",
      "1732/1732 [==============================] - 5s 3ms/step - loss: 0.0212 - val_loss: 0.1274\n"
     ]
    }
   ],
   "source": [
    "history_test = model_test.fit(X_train, y_train, \n",
    "                    epochs=20, batch_size=30, \n",
    "                    validation_data=(X_test, y_test), \n",
    "                    verbose=1, shuffle=False)"
   ]
  },
  {
   "cell_type": "code",
   "execution_count": 34,
   "metadata": {
    "scrolled": true
   },
   "outputs": [
    {
     "data": {
      "image/png": "[encoded data removed]",
      "text/plain": [
       "<Figure size 432x288 with 1 Axes>"
      ]
     },
     "metadata": {
      "needs_background": "light"
     },
     "output_type": "display_data"
    }
   ],
   "source": [
    "plt.plot(history_test.history['loss'], label='train loss')\n",
    "plt.plot(history_test.history['val_loss'], label='val loss')\n",
    "plt.legend()\n",
    "plt.show()"
   ]
  },
  {
   "cell_type": "markdown",
   "metadata": {},
   "source": [
    "Model performance is again poor but this isn't relevant now. I'll grid search a better architecture later. I'll first try and make a single prediction from X_test[0]"
   ]
  },
  {
   "cell_type": "code",
   "execution_count": 35,
   "metadata": {},
   "outputs": [
    {
     "data": {
      "text/plain": [
       "(30, 4)"
      ]
     },
     "execution_count": 35,
     "metadata": {},
     "output_type": "execute_result"
    }
   ],
   "source": [
    "# checking the shape of X_test[0] for a single prediction\n",
    "\n",
    "X_test[0].shape"
   ]
  },
  {
   "cell_type": "code",
   "execution_count": 36,
   "metadata": {},
   "outputs": [
    {
     "name": "stdout",
     "output_type": "stream",
     "text": [
      "x_input shape:  (1, 30, 4)\n"
     ]
    }
   ],
   "source": [
    "# reshape X_test[0] into 3D\n",
    "\n",
    "x_input = X_test[0].reshape((1, n_lag, n_features))\n",
    "print ('x_input shape: ',x_input.shape)\n",
    "\n",
    "# make the prediction\n",
    "yhat = model_test.predict(x_input)"
   ]
  },
  {
   "cell_type": "code",
   "execution_count": 37,
   "metadata": {},
   "outputs": [
    {
     "name": "stdout",
     "output_type": "stream",
     "text": [
      "(1, 30)\n"
     ]
    },
    {
     "data": {
      "text/plain": [
       "array([[0.47755727, 0.47073185, 0.47302842, 0.47419024, 0.47561094,\n",
       "        0.47517243, 0.47365612, 0.47421375, 0.47497016, 0.47070974,\n",
       "        0.47087005, 0.46820527, 0.47083956, 0.46731773, 0.4691339 ,\n",
       "        0.46626973, 0.46499404, 0.46781772, 0.46725017, 0.46766204,\n",
       "        0.4669655 , 0.4699923 , 0.47253183, 0.46760148, 0.47252974,\n",
       "        0.47178668, 0.46744984, 0.46854287, 0.4668334 , 0.4687722 ]],\n",
       "      dtype=float32)"
      ]
     },
     "execution_count": 37,
     "metadata": {},
     "output_type": "execute_result"
    }
   ],
   "source": [
    "# checking the shape of yhat\n",
    "print (yhat.shape)\n",
    "yhat"
   ]
  },
  {
   "cell_type": "code",
   "execution_count": 38,
   "metadata": {},
   "outputs": [
    {
     "data": {
      "text/plain": [
       "array([[121.34908 , 120.209854, 120.59318 , 120.787094, 121.213005,\n",
       "        121.19245 , 120.940056, 121.08546 , 121.21129 , 120.69719 ,\n",
       "        120.72379 , 120.281494, 120.718735, 120.13417 , 120.43563 ,\n",
       "        120.02016 , 120.04397 , 120.511086, 120.41719 , 120.48533 ,\n",
       "        120.3701  , 120.87083 , 121.29094 , 120.47531 , 121.290596,\n",
       "        121.16766 , 120.652596, 120.91804 , 120.769455, 121.10991 ]],\n",
       "      dtype=float32)"
      ]
     },
     "execution_count": 38,
     "metadata": {},
     "output_type": "execute_result"
    }
   ],
   "source": [
    "#invert the scaling for yhat using the y_scaler from above\n",
    "\n",
    "inv_yhat = y_scaler.inverse_transform(yhat)\n",
    "inv_yhat"
   ]
  },
  {
   "cell_type": "code",
   "execution_count": 39,
   "metadata": {},
   "outputs": [
    {
     "name": "stdout",
     "output_type": "stream",
     "text": [
      "(30,)\n"
     ]
    },
    {
     "data": {
      "text/plain": [
       "array([0.46222515, 0.46078725, 0.46306393, 0.46258463, 0.45517863,\n",
       "       0.45785521, 0.45989787, 0.45903216, 0.45969342, 0.46102687,\n",
       "       0.45946044, 0.4568698 , 0.4625933 , 0.4764502 , 0.48151098,\n",
       "       0.47205643, 0.47252614, 0.47355377, 0.46569546, 0.46938282,\n",
       "       0.46593725, 0.46914103, 0.46279393, 0.46581636, 0.46672309,\n",
       "       0.46805295, 0.47022115, 0.4736491 , 0.47910593, 0.48262454])"
      ]
     },
     "execution_count": 39,
     "metadata": {},
     "output_type": "execute_result"
    }
   ],
   "source": [
    "#checking the shape of y_test[0]\n",
    "\n",
    "print (y_test[0].shape)\n",
    "y_test[0]"
   ]
  },
  {
   "cell_type": "code",
   "execution_count": 40,
   "metadata": {},
   "outputs": [
    {
     "data": {
      "text/plain": [
       "(1, 30)"
      ]
     },
     "execution_count": 40,
     "metadata": {},
     "output_type": "execute_result"
    }
   ],
   "source": [
    "#reshape y_test\n",
    "\n",
    "inv_y = y_test[0].reshape(1, y_test[0].shape[0])\n",
    "inv_y.shape"
   ]
  },
  {
   "cell_type": "code",
   "execution_count": 41,
   "metadata": {},
   "outputs": [
    {
     "data": {
      "text/plain": [
       "array([[118.79, 118.55, 118.93, 118.85, 117.81, 118.31, 118.65, 118.56,\n",
       "        118.67, 119.09, 118.83, 118.4 , 119.35, 121.65, 122.49, 120.98,\n",
       "        121.29, 121.46, 120.16, 120.77, 120.2 , 120.73, 119.68, 120.18,\n",
       "        120.33, 120.55, 121.11, 121.76, 122.79, 123.39]])"
      ]
     },
     "execution_count": 41,
     "metadata": {},
     "output_type": "execute_result"
    }
   ],
   "source": [
    "#invert the scaling for y_test\n",
    "\n",
    "inv_y = y_scaler.inverse_transform(inv_y)\n",
    "inv_y"
   ]
  },
  {
   "cell_type": "code",
   "execution_count": 42,
   "metadata": {},
   "outputs": [
    {
     "data": {
      "image/png": "[encoded data removed]",
      "text/plain": [
       "<Figure size 432x288 with 1 Axes>"
      ]
     },
     "metadata": {
      "needs_background": "light"
     },
     "output_type": "display_data"
    }
   ],
   "source": [
    "#plot inv_yhat and inv_y\n",
    "\n",
    "plt.plot(range(121, 151), inv_yhat[0], label='yhat')\n",
    "plt.plot(range(121, 151), inv_y[0], label='actual')\n",
    "plt.legend()\n",
    "plt.show()"
   ]
  },
  {
   "cell_type": "code",
   "execution_count": 43,
   "metadata": {
    "scrolled": true
   },
   "outputs": [
    {
     "name": "stdout",
     "output_type": "stream",
     "text": [
      "Root Mean Squared Error: 2.988315505284413\n"
     ]
    }
   ],
   "source": [
    "rmse = metrics.mean_squared_error(inv_y, inv_yhat)\n",
    "print ('Root Mean Squared Error:',rmse)"
   ]
  },
  {
   "cell_type": "markdown",
   "metadata": {},
   "source": [
    "Predict the entire X_test in one go"
   ]
  },
  {
   "cell_type": "code",
   "execution_count": 44,
   "metadata": {},
   "outputs": [
    {
     "name": "stdout",
     "output_type": "stream",
     "text": [
      "(724, 30)\n"
     ]
    }
   ],
   "source": [
    "#make the prediction\n",
    "yhat_entire = model_test.predict(X_test)\n",
    "\n",
    "#print the shape\n",
    "print (yhat_entire.shape)"
   ]
  },
  {
   "cell_type": "code",
   "execution_count": 45,
   "metadata": {},
   "outputs": [
    {
     "name": "stdout",
     "output_type": "stream",
     "text": [
      "inv_yhat_entire shape: (724, 30)\n"
     ]
    }
   ],
   "source": [
    "#invert scaling for yhat using y_scaler\n",
    "inv_yhat_entire = y_scaler.inverse_transform(yhat_entire)\n",
    "\n",
    "print ('inv_yhat_entire shape:',inv_yhat_entire.shape)"
   ]
  },
  {
   "cell_type": "code",
   "execution_count": 46,
   "metadata": {},
   "outputs": [
    {
     "data": {
      "text/plain": [
       "array([121.34908 , 120.209854, 120.59318 , 120.78709 , 121.213005,\n",
       "       121.19245 , 120.940056, 121.08546 , 121.21129 , 120.69719 ,\n",
       "       120.72379 , 120.2815  , 120.71873 , 120.13417 , 120.43563 ,\n",
       "       120.02015 , 120.04397 , 120.51109 , 120.41718 , 120.48533 ,\n",
       "       120.3701  , 120.87083 , 121.29094 , 120.47532 , 121.290596,\n",
       "       121.16768 , 120.652596, 120.91803 , 120.769455, 121.10991 ],\n",
       "      dtype=float32)"
      ]
     },
     "execution_count": 46,
     "metadata": {},
     "output_type": "execute_result"
    }
   ],
   "source": [
    "#prediction for X_test[0]\n",
    "\n",
    "inv_yhat_entire[0]"
   ]
  },
  {
   "cell_type": "markdown",
   "metadata": {},
   "source": [
    "Comparing this to the prediction above, I can see they are the same :-)"
   ]
  },
  {
   "cell_type": "code",
   "execution_count": 47,
   "metadata": {},
   "outputs": [],
   "source": [
    "#slicing on [:, 0] means we're taking the first day ((t+1) column) of each prediction in order to draw the line\n",
    "\n",
    "inv_yhat = inv_yhat_entire[:,0]"
   ]
  },
  {
   "cell_type": "code",
   "execution_count": 48,
   "metadata": {},
   "outputs": [],
   "source": [
    "#invert y_test. we are slicing as above\n",
    "\n",
    "inv_y = y_scaler.inverse_transform(y_test)\n",
    "inv_y = inv_y[: ,0]"
   ]
  },
  {
   "cell_type": "code",
   "execution_count": 49,
   "metadata": {},
   "outputs": [
    {
     "data": {
      "image/png": "[encoded data removed]",
      "text/plain": [
       "<Figure size 432x288 with 1 Axes>"
      ]
     },
     "metadata": {
      "needs_background": "light"
     },
     "output_type": "display_data"
    }
   ],
   "source": [
    "plt.plot(inv_yhat, label='yhat')\n",
    "plt.plot(inv_y, label='actual')\n",
    "plt.legend()\n",
    "plt.show()"
   ]
  },
  {
   "cell_type": "code",
   "execution_count": 50,
   "metadata": {},
   "outputs": [
    {
     "name": "stdout",
     "output_type": "stream",
     "text": [
      "Root Mean Squared Error: 655.8686422629446\n"
     ]
    }
   ],
   "source": [
    "rmse = metrics.mean_squared_error(inv_y, inv_yhat)\n",
    "print ('Root Mean Squared Error:',rmse)"
   ]
  },
  {
   "cell_type": "markdown",
   "metadata": {},
   "source": [
    "# Now lets add in Volume"
   ]
  },
  {
   "cell_type": "code",
   "execution_count": 83,
   "metadata": {},
   "outputs": [
    {
     "name": "stdout",
     "output_type": "stream",
     "text": [
      "(2516, 10)\n"
     ]
    },
    {
     "data": {
      "text/html": [
       "<div>\n",
       "<style scoped>\n",
       "    .dataframe tbody tr th:only-of-type {\n",
       "        vertical-align: middle;\n",
       "    }\n",
       "\n",
       "    .dataframe tbody tr th {\n",
       "        vertical-align: top;\n",
       "    }\n",
       "\n",
       "    .dataframe thead th {\n",
       "        text-align: right;\n",
       "    }\n",
       "</style>\n",
       "<table border=\"1\" class=\"dataframe\">\n",
       "  <thead>\n",
       "    <tr style=\"text-align: right;\">\n",
       "      <th></th>\n",
       "      <th>Open</th>\n",
       "      <th>High</th>\n",
       "      <th>Low</th>\n",
       "      <th>Close</th>\n",
       "      <th>Volume</th>\n",
       "      <th>SMA_10</th>\n",
       "      <th>SMA_50</th>\n",
       "      <th>EMA_10</th>\n",
       "      <th>EMA_50</th>\n",
       "      <th>RSI</th>\n",
       "    </tr>\n",
       "    <tr>\n",
       "      <th>Timestamp</th>\n",
       "      <th></th>\n",
       "      <th></th>\n",
       "      <th></th>\n",
       "      <th></th>\n",
       "      <th></th>\n",
       "      <th></th>\n",
       "      <th></th>\n",
       "      <th></th>\n",
       "      <th></th>\n",
       "      <th></th>\n",
       "    </tr>\n",
       "  </thead>\n",
       "  <tbody>\n",
       "    <tr>\n",
       "      <th>2010-01-04 00:00:00-05:00</th>\n",
       "      <td>45.08</td>\n",
       "      <td>45.3392</td>\n",
       "      <td>44.86</td>\n",
       "      <td>45.23</td>\n",
       "      <td>916222</td>\n",
       "      <td>44.999</td>\n",
       "      <td>45.22915</td>\n",
       "      <td>45.055742</td>\n",
       "      <td>45.076137</td>\n",
       "      <td>51.221295</td>\n",
       "    </tr>\n",
       "    <tr>\n",
       "      <th>2010-01-05 00:00:00-05:00</th>\n",
       "      <td>45.12</td>\n",
       "      <td>45.1400</td>\n",
       "      <td>44.31</td>\n",
       "      <td>44.51</td>\n",
       "      <td>1029833</td>\n",
       "      <td>44.975</td>\n",
       "      <td>45.19255</td>\n",
       "      <td>44.956517</td>\n",
       "      <td>45.053936</td>\n",
       "      <td>43.924053</td>\n",
       "    </tr>\n",
       "    <tr>\n",
       "      <th>2010-01-06 00:00:00-05:00</th>\n",
       "      <td>44.49</td>\n",
       "      <td>44.8500</td>\n",
       "      <td>44.15</td>\n",
       "      <td>44.41</td>\n",
       "      <td>1355780</td>\n",
       "      <td>44.932</td>\n",
       "      <td>45.15835</td>\n",
       "      <td>44.857150</td>\n",
       "      <td>45.028684</td>\n",
       "      <td>43.007609</td>\n",
       "    </tr>\n",
       "  </tbody>\n",
       "</table>\n",
       "</div>"
      ],
      "text/plain": [
       "                            Open     High    Low  Close   Volume  SMA_10  \\\n",
       "Timestamp                                                                  \n",
       "2010-01-04 00:00:00-05:00  45.08  45.3392  44.86  45.23   916222  44.999   \n",
       "2010-01-05 00:00:00-05:00  45.12  45.1400  44.31  44.51  1029833  44.975   \n",
       "2010-01-06 00:00:00-05:00  44.49  44.8500  44.15  44.41  1355780  44.932   \n",
       "\n",
       "                             SMA_50     EMA_10     EMA_50        RSI  \n",
       "Timestamp                                                             \n",
       "2010-01-04 00:00:00-05:00  45.22915  45.055742  45.076137  51.221295  \n",
       "2010-01-05 00:00:00-05:00  45.19255  44.956517  45.053936  43.924053  \n",
       "2010-01-06 00:00:00-05:00  45.15835  44.857150  45.028684  43.007609  "
      ]
     },
     "execution_count": 83,
     "metadata": {},
     "output_type": "execute_result"
    }
   ],
   "source": [
    "#slice for the first X cols only\n",
    "data_v = day_data.loc[:,'Open':'RSI']\n",
    "print (data_v.shape)\n",
    "data_v.head(3)"
   ]
  },
  {
   "cell_type": "code",
   "execution_count": 84,
   "metadata": {},
   "outputs": [
    {
     "name": "stdout",
     "output_type": "stream",
     "text": [
      "(2516, 10)\n"
     ]
    },
    {
     "data": {
      "text/html": [
       "<div>\n",
       "<style scoped>\n",
       "    .dataframe tbody tr th:only-of-type {\n",
       "        vertical-align: middle;\n",
       "    }\n",
       "\n",
       "    .dataframe tbody tr th {\n",
       "        vertical-align: top;\n",
       "    }\n",
       "\n",
       "    .dataframe thead th {\n",
       "        text-align: right;\n",
       "    }\n",
       "</style>\n",
       "<table border=\"1\" class=\"dataframe\">\n",
       "  <thead>\n",
       "    <tr style=\"text-align: right;\">\n",
       "      <th></th>\n",
       "      <th>Open</th>\n",
       "      <th>High</th>\n",
       "      <th>Low</th>\n",
       "      <th>Volume</th>\n",
       "      <th>SMA_10</th>\n",
       "      <th>SMA_50</th>\n",
       "      <th>EMA_10</th>\n",
       "      <th>EMA_50</th>\n",
       "      <th>RSI</th>\n",
       "      <th>Close</th>\n",
       "    </tr>\n",
       "    <tr>\n",
       "      <th>Timestamp</th>\n",
       "      <th></th>\n",
       "      <th></th>\n",
       "      <th></th>\n",
       "      <th></th>\n",
       "      <th></th>\n",
       "      <th></th>\n",
       "      <th></th>\n",
       "      <th></th>\n",
       "      <th></th>\n",
       "      <th></th>\n",
       "    </tr>\n",
       "  </thead>\n",
       "  <tbody>\n",
       "    <tr>\n",
       "      <th>2010-01-04 00:00:00-05:00</th>\n",
       "      <td>45.08</td>\n",
       "      <td>45.3392</td>\n",
       "      <td>44.86</td>\n",
       "      <td>916222</td>\n",
       "      <td>44.999</td>\n",
       "      <td>45.22915</td>\n",
       "      <td>45.055742</td>\n",
       "      <td>45.076137</td>\n",
       "      <td>51.221295</td>\n",
       "      <td>45.23</td>\n",
       "    </tr>\n",
       "    <tr>\n",
       "      <th>2010-01-05 00:00:00-05:00</th>\n",
       "      <td>45.12</td>\n",
       "      <td>45.1400</td>\n",
       "      <td>44.31</td>\n",
       "      <td>1029833</td>\n",
       "      <td>44.975</td>\n",
       "      <td>45.19255</td>\n",
       "      <td>44.956517</td>\n",
       "      <td>45.053936</td>\n",
       "      <td>43.924053</td>\n",
       "      <td>44.51</td>\n",
       "    </tr>\n",
       "    <tr>\n",
       "      <th>2010-01-06 00:00:00-05:00</th>\n",
       "      <td>44.49</td>\n",
       "      <td>44.8500</td>\n",
       "      <td>44.15</td>\n",
       "      <td>1355780</td>\n",
       "      <td>44.932</td>\n",
       "      <td>45.15835</td>\n",
       "      <td>44.857150</td>\n",
       "      <td>45.028684</td>\n",
       "      <td>43.007609</td>\n",
       "      <td>44.41</td>\n",
       "    </tr>\n",
       "  </tbody>\n",
       "</table>\n",
       "</div>"
      ],
      "text/plain": [
       "                            Open     High    Low   Volume  SMA_10    SMA_50  \\\n",
       "Timestamp                                                                     \n",
       "2010-01-04 00:00:00-05:00  45.08  45.3392  44.86   916222  44.999  45.22915   \n",
       "2010-01-05 00:00:00-05:00  45.12  45.1400  44.31  1029833  44.975  45.19255   \n",
       "2010-01-06 00:00:00-05:00  44.49  44.8500  44.15  1355780  44.932  45.15835   \n",
       "\n",
       "                              EMA_10     EMA_50        RSI  Close  \n",
       "Timestamp                                                          \n",
       "2010-01-04 00:00:00-05:00  45.055742  45.076137  51.221295  45.23  \n",
       "2010-01-05 00:00:00-05:00  44.956517  45.053936  43.924053  44.51  \n",
       "2010-01-06 00:00:00-05:00  44.857150  45.028684  43.007609  44.41  "
      ]
     },
     "execution_count": 84,
     "metadata": {},
     "output_type": "execute_result"
    }
   ],
   "source": [
    "#rearrange column order\n",
    "data_v = data_v[['Open', 'High', 'Low', 'Volume', 'SMA_10', 'SMA_50', 'EMA_10', 'EMA_50', 'RSI', 'Close']]\n",
    "print (data_v.shape)\n",
    "data_v.head(3)"
   ]
  },
  {
   "cell_type": "code",
   "execution_count": 85,
   "metadata": {},
   "outputs": [],
   "source": [
    "data_v = time_series_to_supervised(data_v, n_lag=30, n_fut=30, selFut=['Close'])"
   ]
  },
  {
   "cell_type": "code",
   "execution_count": 86,
   "metadata": {},
   "outputs": [
    {
     "data": {
      "text/html": [
       "<div>\n",
       "<style scoped>\n",
       "    .dataframe tbody tr th:only-of-type {\n",
       "        vertical-align: middle;\n",
       "    }\n",
       "\n",
       "    .dataframe tbody tr th {\n",
       "        vertical-align: top;\n",
       "    }\n",
       "\n",
       "    .dataframe thead th {\n",
       "        text-align: right;\n",
       "    }\n",
       "</style>\n",
       "<table border=\"1\" class=\"dataframe\">\n",
       "  <thead>\n",
       "    <tr style=\"text-align: right;\">\n",
       "      <th></th>\n",
       "      <th>Open</th>\n",
       "      <th>High</th>\n",
       "      <th>Low</th>\n",
       "      <th>Volume</th>\n",
       "      <th>SMA_10</th>\n",
       "      <th>SMA_50</th>\n",
       "      <th>EMA_10</th>\n",
       "      <th>EMA_50</th>\n",
       "      <th>RSI</th>\n",
       "      <th>Close</th>\n",
       "      <th>...</th>\n",
       "      <th>Close(t+21)</th>\n",
       "      <th>Close(t+22)</th>\n",
       "      <th>Close(t+23)</th>\n",
       "      <th>Close(t+24)</th>\n",
       "      <th>Close(t+25)</th>\n",
       "      <th>Close(t+26)</th>\n",
       "      <th>Close(t+27)</th>\n",
       "      <th>Close(t+28)</th>\n",
       "      <th>Close(t+29)</th>\n",
       "      <th>Close(t+30)</th>\n",
       "    </tr>\n",
       "    <tr>\n",
       "      <th>Timestamp</th>\n",
       "      <th></th>\n",
       "      <th></th>\n",
       "      <th></th>\n",
       "      <th></th>\n",
       "      <th></th>\n",
       "      <th></th>\n",
       "      <th></th>\n",
       "      <th></th>\n",
       "      <th></th>\n",
       "      <th></th>\n",
       "      <th></th>\n",
       "      <th></th>\n",
       "      <th></th>\n",
       "      <th></th>\n",
       "      <th></th>\n",
       "      <th></th>\n",
       "      <th></th>\n",
       "      <th></th>\n",
       "      <th></th>\n",
       "      <th></th>\n",
       "      <th></th>\n",
       "    </tr>\n",
       "  </thead>\n",
       "  <tbody>\n",
       "    <tr>\n",
       "      <th>2010-02-17 00:00:00-05:00</th>\n",
       "      <td>42.3</td>\n",
       "      <td>42.62</td>\n",
       "      <td>42.09</td>\n",
       "      <td>2482511</td>\n",
       "      <td>43.039</td>\n",
       "      <td>44.7642</td>\n",
       "      <td>42.959136</td>\n",
       "      <td>44.443345</td>\n",
       "      <td>38.70568</td>\n",
       "      <td>42.37</td>\n",
       "      <td>...</td>\n",
       "      <td>43.1789</td>\n",
       "      <td>43.18</td>\n",
       "      <td>43.41</td>\n",
       "      <td>43.445</td>\n",
       "      <td>43.3203</td>\n",
       "      <td>43.12</td>\n",
       "      <td>43.5</td>\n",
       "      <td>43.66</td>\n",
       "      <td>43.91</td>\n",
       "      <td>43.96</td>\n",
       "    </tr>\n",
       "  </tbody>\n",
       "</table>\n",
       "<p>1 rows × 340 columns</p>\n",
       "</div>"
      ],
      "text/plain": [
       "                           Open   High    Low   Volume  SMA_10   SMA_50  \\\n",
       "Timestamp                                                                 \n",
       "2010-02-17 00:00:00-05:00  42.3  42.62  42.09  2482511  43.039  44.7642   \n",
       "\n",
       "                              EMA_10     EMA_50       RSI  Close  ...  \\\n",
       "Timestamp                                                         ...   \n",
       "2010-02-17 00:00:00-05:00  42.959136  44.443345  38.70568  42.37  ...   \n",
       "\n",
       "                           Close(t+21)  Close(t+22)  Close(t+23)  Close(t+24)  \\\n",
       "Timestamp                                                                       \n",
       "2010-02-17 00:00:00-05:00      43.1789        43.18        43.41       43.445   \n",
       "\n",
       "                           Close(t+25)  Close(t+26)  Close(t+27)  Close(t+28)  \\\n",
       "Timestamp                                                                       \n",
       "2010-02-17 00:00:00-05:00      43.3203        43.12         43.5        43.66   \n",
       "\n",
       "                           Close(t+29)  Close(t+30)  \n",
       "Timestamp                                            \n",
       "2010-02-17 00:00:00-05:00        43.91        43.96  \n",
       "\n",
       "[1 rows x 340 columns]"
      ]
     },
     "execution_count": 86,
     "metadata": {},
     "output_type": "execute_result"
    }
   ],
   "source": [
    "data_v.head(1)"
   ]
  },
  {
   "cell_type": "code",
   "execution_count": 95,
   "metadata": {},
   "outputs": [
    {
     "name": "stdout",
     "output_type": "stream",
     "text": [
      "Number of observations in: 300\n",
      "Number of predictions out: 30\n",
      "\n",
      "Shape of X: (2456, 300)\n",
      "Shape of y: (2456, 30)\n"
     ]
    }
   ],
   "source": [
    "#breaking down the problem one level deeper than above\n",
    "\n",
    "n_features_in = 10\n",
    "n_features_out = 1\n",
    "n_lags_in = 30\n",
    "n_lags_out = 30\n",
    "\n",
    "n_obs_in = (n_features_in * n_lags_in)\n",
    "n_obs_out = (n_features_out * n_lags_out)\n",
    "print ('Number of observations in:',n_obs_in)\n",
    "print ('Number of predictions out:', n_obs_out)\n",
    "\n",
    "# Creating X, y from data_test\n",
    "X = data_v.values[:, :n_obs_in]\n",
    "y = data_v.values[:, -n_obs_out:]\n",
    "print ('\\nShape of X:',X.shape)\n",
    "print ('Shape of y:', y.shape)"
   ]
  },
  {
   "cell_type": "code",
   "execution_count": 96,
   "metadata": {},
   "outputs": [
    {
     "name": "stdout",
     "output_type": "stream",
     "text": [
      "Open\n",
      "High\n",
      "Low\n",
      "Volume\n",
      "SMA_10\n",
      "SMA_50\n",
      "EMA_10\n",
      "EMA_50\n",
      "RSI\n",
      "Close\n",
      "Open(t-30)\n",
      "High(t-30)\n",
      "Low(t-30)\n",
      "Volume(t-30)\n",
      "SMA_10(t-30)\n",
      "SMA_50(t-30)\n",
      "EMA_10(t-30)\n",
      "EMA_50(t-30)\n",
      "RSI(t-30)\n",
      "Close(t-30)\n",
      "Open(t-29)\n",
      "High(t-29)\n",
      "Low(t-29)\n",
      "Volume(t-29)\n",
      "SMA_10(t-29)\n",
      "SMA_50(t-29)\n",
      "EMA_10(t-29)\n",
      "EMA_50(t-29)\n",
      "RSI(t-29)\n",
      "Close(t-29)\n",
      "Open(t-28)\n",
      "High(t-28)\n",
      "Low(t-28)\n",
      "Volume(t-28)\n",
      "SMA_10(t-28)\n",
      "SMA_50(t-28)\n",
      "EMA_10(t-28)\n",
      "EMA_50(t-28)\n",
      "RSI(t-28)\n",
      "Close(t-28)\n",
      "Open(t-27)\n",
      "High(t-27)\n",
      "Low(t-27)\n",
      "Volume(t-27)\n",
      "SMA_10(t-27)\n",
      "SMA_50(t-27)\n",
      "EMA_10(t-27)\n",
      "EMA_50(t-27)\n",
      "RSI(t-27)\n",
      "Close(t-27)\n",
      "Open(t-26)\n",
      "High(t-26)\n",
      "Low(t-26)\n",
      "Volume(t-26)\n",
      "SMA_10(t-26)\n",
      "SMA_50(t-26)\n",
      "EMA_10(t-26)\n",
      "EMA_50(t-26)\n",
      "RSI(t-26)\n",
      "Close(t-26)\n",
      "Open(t-25)\n",
      "High(t-25)\n",
      "Low(t-25)\n",
      "Volume(t-25)\n",
      "SMA_10(t-25)\n",
      "SMA_50(t-25)\n",
      "EMA_10(t-25)\n",
      "EMA_50(t-25)\n",
      "RSI(t-25)\n",
      "Close(t-25)\n",
      "Open(t-24)\n",
      "High(t-24)\n",
      "Low(t-24)\n",
      "Volume(t-24)\n",
      "SMA_10(t-24)\n",
      "SMA_50(t-24)\n",
      "EMA_10(t-24)\n",
      "EMA_50(t-24)\n",
      "RSI(t-24)\n",
      "Close(t-24)\n",
      "Open(t-23)\n",
      "High(t-23)\n",
      "Low(t-23)\n",
      "Volume(t-23)\n",
      "SMA_10(t-23)\n",
      "SMA_50(t-23)\n",
      "EMA_10(t-23)\n",
      "EMA_50(t-23)\n",
      "RSI(t-23)\n",
      "Close(t-23)\n",
      "Open(t-22)\n",
      "High(t-22)\n",
      "Low(t-22)\n",
      "Volume(t-22)\n",
      "SMA_10(t-22)\n",
      "SMA_50(t-22)\n",
      "EMA_10(t-22)\n",
      "EMA_50(t-22)\n",
      "RSI(t-22)\n",
      "Close(t-22)\n",
      "Open(t-21)\n",
      "High(t-21)\n",
      "Low(t-21)\n",
      "Volume(t-21)\n",
      "SMA_10(t-21)\n",
      "SMA_50(t-21)\n",
      "EMA_10(t-21)\n",
      "EMA_50(t-21)\n",
      "RSI(t-21)\n",
      "Close(t-21)\n",
      "Open(t-20)\n",
      "High(t-20)\n",
      "Low(t-20)\n",
      "Volume(t-20)\n",
      "SMA_10(t-20)\n",
      "SMA_50(t-20)\n",
      "EMA_10(t-20)\n",
      "EMA_50(t-20)\n",
      "RSI(t-20)\n",
      "Close(t-20)\n",
      "Open(t-19)\n",
      "High(t-19)\n",
      "Low(t-19)\n",
      "Volume(t-19)\n",
      "SMA_10(t-19)\n",
      "SMA_50(t-19)\n",
      "EMA_10(t-19)\n",
      "EMA_50(t-19)\n",
      "RSI(t-19)\n",
      "Close(t-19)\n",
      "Open(t-18)\n",
      "High(t-18)\n",
      "Low(t-18)\n",
      "Volume(t-18)\n",
      "SMA_10(t-18)\n",
      "SMA_50(t-18)\n",
      "EMA_10(t-18)\n",
      "EMA_50(t-18)\n",
      "RSI(t-18)\n",
      "Close(t-18)\n",
      "Open(t-17)\n",
      "High(t-17)\n",
      "Low(t-17)\n",
      "Volume(t-17)\n",
      "SMA_10(t-17)\n",
      "SMA_50(t-17)\n",
      "EMA_10(t-17)\n",
      "EMA_50(t-17)\n",
      "RSI(t-17)\n",
      "Close(t-17)\n",
      "Open(t-16)\n",
      "High(t-16)\n",
      "Low(t-16)\n",
      "Volume(t-16)\n",
      "SMA_10(t-16)\n",
      "SMA_50(t-16)\n",
      "EMA_10(t-16)\n",
      "EMA_50(t-16)\n",
      "RSI(t-16)\n",
      "Close(t-16)\n",
      "Open(t-15)\n",
      "High(t-15)\n",
      "Low(t-15)\n",
      "Volume(t-15)\n",
      "SMA_10(t-15)\n",
      "SMA_50(t-15)\n",
      "EMA_10(t-15)\n",
      "EMA_50(t-15)\n",
      "RSI(t-15)\n",
      "Close(t-15)\n",
      "Open(t-14)\n",
      "High(t-14)\n",
      "Low(t-14)\n",
      "Volume(t-14)\n",
      "SMA_10(t-14)\n",
      "SMA_50(t-14)\n",
      "EMA_10(t-14)\n",
      "EMA_50(t-14)\n",
      "RSI(t-14)\n",
      "Close(t-14)\n",
      "Open(t-13)\n",
      "High(t-13)\n",
      "Low(t-13)\n",
      "Volume(t-13)\n",
      "SMA_10(t-13)\n",
      "SMA_50(t-13)\n",
      "EMA_10(t-13)\n",
      "EMA_50(t-13)\n",
      "RSI(t-13)\n",
      "Close(t-13)\n",
      "Open(t-12)\n",
      "High(t-12)\n",
      "Low(t-12)\n",
      "Volume(t-12)\n",
      "SMA_10(t-12)\n",
      "SMA_50(t-12)\n",
      "EMA_10(t-12)\n",
      "EMA_50(t-12)\n",
      "RSI(t-12)\n",
      "Close(t-12)\n",
      "Open(t-11)\n",
      "High(t-11)\n",
      "Low(t-11)\n",
      "Volume(t-11)\n",
      "SMA_10(t-11)\n",
      "SMA_50(t-11)\n",
      "EMA_10(t-11)\n",
      "EMA_50(t-11)\n",
      "RSI(t-11)\n",
      "Close(t-11)\n",
      "Open(t-10)\n",
      "High(t-10)\n",
      "Low(t-10)\n",
      "Volume(t-10)\n",
      "SMA_10(t-10)\n",
      "SMA_50(t-10)\n",
      "EMA_10(t-10)\n",
      "EMA_50(t-10)\n",
      "RSI(t-10)\n",
      "Close(t-10)\n",
      "Open(t-9)\n",
      "High(t-9)\n",
      "Low(t-9)\n",
      "Volume(t-9)\n",
      "SMA_10(t-9)\n",
      "SMA_50(t-9)\n",
      "EMA_10(t-9)\n",
      "EMA_50(t-9)\n",
      "RSI(t-9)\n",
      "Close(t-9)\n",
      "Open(t-8)\n",
      "High(t-8)\n",
      "Low(t-8)\n",
      "Volume(t-8)\n",
      "SMA_10(t-8)\n",
      "SMA_50(t-8)\n",
      "EMA_10(t-8)\n",
      "EMA_50(t-8)\n",
      "RSI(t-8)\n",
      "Close(t-8)\n",
      "Open(t-7)\n",
      "High(t-7)\n",
      "Low(t-7)\n",
      "Volume(t-7)\n",
      "SMA_10(t-7)\n",
      "SMA_50(t-7)\n",
      "EMA_10(t-7)\n",
      "EMA_50(t-7)\n",
      "RSI(t-7)\n",
      "Close(t-7)\n",
      "Open(t-6)\n",
      "High(t-6)\n",
      "Low(t-6)\n",
      "Volume(t-6)\n",
      "SMA_10(t-6)\n",
      "SMA_50(t-6)\n",
      "EMA_10(t-6)\n",
      "EMA_50(t-6)\n",
      "RSI(t-6)\n",
      "Close(t-6)\n",
      "Open(t-5)\n",
      "High(t-5)\n",
      "Low(t-5)\n",
      "Volume(t-5)\n",
      "SMA_10(t-5)\n",
      "SMA_50(t-5)\n",
      "EMA_10(t-5)\n",
      "EMA_50(t-5)\n",
      "RSI(t-5)\n",
      "Close(t-5)\n",
      "Open(t-4)\n",
      "High(t-4)\n",
      "Low(t-4)\n",
      "Volume(t-4)\n",
      "SMA_10(t-4)\n",
      "SMA_50(t-4)\n",
      "EMA_10(t-4)\n",
      "EMA_50(t-4)\n",
      "RSI(t-4)\n",
      "Close(t-4)\n",
      "Open(t-3)\n",
      "High(t-3)\n",
      "Low(t-3)\n",
      "Volume(t-3)\n",
      "SMA_10(t-3)\n",
      "SMA_50(t-3)\n",
      "EMA_10(t-3)\n",
      "EMA_50(t-3)\n",
      "RSI(t-3)\n",
      "Close(t-3)\n",
      "Open(t-2)\n",
      "High(t-2)\n",
      "Low(t-2)\n",
      "Volume(t-2)\n",
      "SMA_10(t-2)\n",
      "SMA_50(t-2)\n",
      "EMA_10(t-2)\n",
      "EMA_50(t-2)\n",
      "RSI(t-2)\n",
      "Close(t-2)\n"
     ]
    }
   ],
   "source": [
    "#Just checking which columns landed where...\n",
    "\n",
    "if True:\n",
    "    for i in data_v.columns[:n_obs_in]:\n",
    "        print (i)"
   ]
  },
  {
   "cell_type": "code",
   "execution_count": 97,
   "metadata": {},
   "outputs": [],
   "source": [
    "#Just checking which columns landed where...\n",
    "\n",
    "if False:\n",
    "    for i in data_v.columns[-n_obs_out:]:\n",
    "        print (i)"
   ]
  },
  {
   "cell_type": "code",
   "execution_count": 98,
   "metadata": {},
   "outputs": [],
   "source": [
    "#Initializing a separate scaler for X and y\n",
    "\n",
    "from sklearn.preprocessing import MinMaxScaler\n",
    "\n",
    "X_scaler = MinMaxScaler(feature_range=(0,1)).fit(X)\n",
    "y_scaler = MinMaxScaler(feature_range=(0,1)).fit(y)"
   ]
  },
  {
   "cell_type": "code",
   "execution_count": 99,
   "metadata": {},
   "outputs": [
    {
     "name": "stdout",
     "output_type": "stream",
     "text": [
      "Shape of splits:\n",
      "(1732, 300) (1732, 30) (724, 300) (724, 30)\n"
     ]
    }
   ],
   "source": [
    "#Split X, y into X_train/X_test and y_train and y_test\n",
    "n_train = 1732 # splits on dates as above except by index\n",
    "n_features = 10\n",
    "n_lag = 30\n",
    "n_in, n_out = 30, 30\n",
    "\n",
    "# split X, y into train/test\n",
    "X_train, y_train = X[:n_train, :], y[:n_train, :]\n",
    "X_test, y_test = X[n_train:, :], y[n_train:, :]\n",
    "print('Shape of splits:')\n",
    "print(X_train.shape, y_train.shape, X_test.shape, y_test.shape)"
   ]
  },
  {
   "cell_type": "code",
   "execution_count": 100,
   "metadata": {},
   "outputs": [],
   "source": [
    "# Using the X,y scalers, scale the data\n",
    "\n",
    "X_train, y_train = X_scaler.transform(X_train), y_scaler.transform(y_train)\n",
    "X_test, y_test = X_scaler.transform(X_test), y_scaler.transform(y_test)"
   ]
  },
  {
   "cell_type": "code",
   "execution_count": 101,
   "metadata": {},
   "outputs": [
    {
     "name": "stdout",
     "output_type": "stream",
     "text": [
      "Re-shaped for LSTM:\n",
      "(1732, 30, 10) (1732, 30) (724, 30, 10) (724, 30)\n"
     ]
    }
   ],
   "source": [
    "# reshape input to be 3D [samples, timesteps, features] for LSTM\n",
    "\n",
    "X_train = X_train.reshape((X_train.shape[0], n_lag, n_features))\n",
    "X_test = X_test.reshape((X_test.shape[0], n_lag, n_features))\n",
    "print('Re-shaped for LSTM:')\n",
    "print(X_train.shape, y_train.shape, X_test.shape, y_test.shape)"
   ]
  },
  {
   "cell_type": "code",
   "execution_count": 106,
   "metadata": {},
   "outputs": [],
   "source": [
    "#Just checking what the scaling looks like\n",
    "\n",
    "if False:\n",
    "    print (X_train[0])"
   ]
  },
  {
   "cell_type": "code",
   "execution_count": 103,
   "metadata": {},
   "outputs": [],
   "source": [
    "model_v = Sequential()\n",
    "model_v.add(LSTM(100, activation='relu', return_sequences=True, input_shape=((X_train.shape[1]), X_train.shape[2])))\n",
    "model_v.add(LSTM(100, activation='relu'))\n",
    "model_v.add(Dense(n_out))\n",
    "model_v.compile(optimizer='adam', loss='mae')"
   ]
  },
  {
   "cell_type": "code",
   "execution_count": 104,
   "metadata": {},
   "outputs": [
    {
     "name": "stdout",
     "output_type": "stream",
     "text": [
      "Train on 1732 samples, validate on 724 samples\n",
      "Epoch 1/20\n",
      "1732/1732 [==============================] - 5s 3ms/step - loss: 0.0428 - val_loss: 0.0864\n",
      "Epoch 2/20\n",
      "1732/1732 [==============================] - 4s 2ms/step - loss: 0.0910 - val_loss: 0.0475\n",
      "Epoch 3/20\n",
      "1732/1732 [==============================] - 4s 2ms/step - loss: 0.0636 - val_loss: 0.0486\n",
      "Epoch 4/20\n",
      "1732/1732 [==============================] - 5s 3ms/step - loss: 0.0497 - val_loss: 0.0567\n",
      "Epoch 5/20\n",
      "1732/1732 [==============================] - 4s 2ms/step - loss: 0.0397 - val_loss: 0.0682\n",
      "Epoch 6/20\n",
      "1732/1732 [==============================] - 4s 2ms/step - loss: 0.0328 - val_loss: 0.0776\n",
      "Epoch 7/20\n",
      "1732/1732 [==============================] - 4s 2ms/step - loss: 0.0301 - val_loss: 0.0815\n",
      "Epoch 8/20\n",
      "1732/1732 [==============================] - 4s 2ms/step - loss: 0.0268 - val_loss: 0.1013\n",
      "Epoch 9/20\n",
      "1732/1732 [==============================] - 4s 2ms/step - loss: 0.0226 - val_loss: 0.0918\n",
      "Epoch 10/20\n",
      "1732/1732 [==============================] - 4s 2ms/step - loss: 0.0229 - val_loss: 0.0930\n",
      "Epoch 11/20\n",
      "1732/1732 [==============================] - 5s 3ms/step - loss: 0.0219 - val_loss: 0.0987\n",
      "Epoch 12/20\n",
      "1732/1732 [==============================] - 4s 3ms/step - loss: 0.0219 - val_loss: 0.0922\n",
      "Epoch 13/20\n",
      "1732/1732 [==============================] - 4s 2ms/step - loss: 0.0199 - val_loss: 0.0980\n",
      "Epoch 14/20\n",
      "1732/1732 [==============================] - 4s 2ms/step - loss: 0.0203 - val_loss: 0.1017\n",
      "Epoch 15/20\n",
      "1732/1732 [==============================] - 4s 2ms/step - loss: 0.0240 - val_loss: 0.1136\n",
      "Epoch 16/20\n",
      "1732/1732 [==============================] - 4s 2ms/step - loss: 0.0206 - val_loss: 0.1149\n",
      "Epoch 17/20\n",
      "1732/1732 [==============================] - 4s 2ms/step - loss: 0.0215 - val_loss: 0.1167\n",
      "Epoch 18/20\n",
      "1732/1732 [==============================] - 4s 2ms/step - loss: 0.0188 - val_loss: 0.1231\n",
      "Epoch 19/20\n",
      "1732/1732 [==============================] - 4s 2ms/step - loss: 0.0184 - val_loss: 0.1227\n",
      "Epoch 20/20\n",
      "1732/1732 [==============================] - 4s 2ms/step - loss: 0.0195 - val_loss: 0.1287\n"
     ]
    }
   ],
   "source": [
    "history_v = model_v.fit(X_train, y_train, \n",
    "                    epochs=20, batch_size=30, \n",
    "                    validation_data=(X_test, y_test), \n",
    "                    verbose=1, shuffle=False)"
   ]
  },
  {
   "cell_type": "code",
   "execution_count": 107,
   "metadata": {
    "scrolled": true
   },
   "outputs": [
    {
     "data": {
      "image/png": "[encoded data removed]",
      "text/plain": [
       "<Figure size 432x288 with 1 Axes>"
      ]
     },
     "metadata": {
      "needs_background": "light"
     },
     "output_type": "display_data"
    }
   ],
   "source": [
    "plt.plot(history_v.history['loss'], label='train loss')\n",
    "plt.plot(history_v.history['val_loss'], label='val loss')\n",
    "plt.legend()\n",
    "plt.show()"
   ]
  },
  {
   "cell_type": "code",
   "execution_count": 108,
   "metadata": {},
   "outputs": [
    {
     "data": {
      "text/plain": [
       "(30, 10)"
      ]
     },
     "execution_count": 108,
     "metadata": {},
     "output_type": "execute_result"
    }
   ],
   "source": [
    "# checking the shape of X_test[0] for a single prediction\n",
    "\n",
    "X_test[0].shape"
   ]
  },
  {
   "cell_type": "code",
   "execution_count": 109,
   "metadata": {},
   "outputs": [
    {
     "name": "stdout",
     "output_type": "stream",
     "text": [
      "x_input shape:  (1, 30, 10)\n"
     ]
    }
   ],
   "source": [
    "# reshape X_test[0] into 3D\n",
    "\n",
    "x_input = X_test[0].reshape((1, n_lag, n_features))\n",
    "print ('x_input shape: ',x_input.shape)\n",
    "\n",
    "# make the prediction\n",
    "yhat = model_v.predict(x_input)"
   ]
  },
  {
   "cell_type": "code",
   "execution_count": 110,
   "metadata": {},
   "outputs": [
    {
     "name": "stdout",
     "output_type": "stream",
     "text": [
      "(1, 30)\n"
     ]
    },
    {
     "data": {
      "text/plain": [
       "array([[0.4650832 , 0.47094426, 0.4735541 , 0.46797368, 0.4651226 ,\n",
       "        0.46726793, 0.46714428, 0.46454918, 0.47075376, 0.4631105 ,\n",
       "        0.4681662 , 0.47141722, 0.4705484 , 0.46817642, 0.47565612,\n",
       "        0.47133327, 0.46764204, 0.46875986, 0.470034  , 0.46590108,\n",
       "        0.4665866 , 0.46535286, 0.46933478, 0.4710116 , 0.46676424,\n",
       "        0.46745458, 0.4622389 , 0.4635999 , 0.46291274, 0.4607676 ]],\n",
       "      dtype=float32)"
      ]
     },
     "execution_count": 110,
     "metadata": {},
     "output_type": "execute_result"
    }
   ],
   "source": [
    "# checking the shape of yhat\n",
    "print (yhat.shape)\n",
    "yhat"
   ]
  },
  {
   "cell_type": "code",
   "execution_count": 111,
   "metadata": {},
   "outputs": [
    {
     "data": {
      "text/plain": [
       "array([[119.26704 , 120.2453  , 120.680916, 119.74948 , 119.46618 ,\n",
       "        119.87675 , 119.85617 , 119.47776 , 120.50989 , 119.43585 ,\n",
       "        120.275   , 120.81461 , 120.67041 , 120.2767  , 121.518196,\n",
       "        120.86005 , 120.482025, 120.66695 , 120.87772 , 120.19401 ,\n",
       "        120.30742 , 120.103325, 120.76205 , 121.03945 , 120.33681 ,\n",
       "        120.45101 , 119.79253 , 120.10298 , 120.123955, 119.79235 ]],\n",
       "      dtype=float32)"
      ]
     },
     "execution_count": 111,
     "metadata": {},
     "output_type": "execute_result"
    }
   ],
   "source": [
    "#invert the scaling for yhat using the y_scaler from above\n",
    "\n",
    "inv_yhat = y_scaler.inverse_transform(yhat)\n",
    "inv_yhat"
   ]
  },
  {
   "cell_type": "code",
   "execution_count": 112,
   "metadata": {},
   "outputs": [
    {
     "name": "stdout",
     "output_type": "stream",
     "text": [
      "(30,)\n"
     ]
    },
    {
     "data": {
      "text/plain": [
       "array([0.46222515, 0.46078725, 0.46306393, 0.46258463, 0.45517863,\n",
       "       0.45785521, 0.45989787, 0.45903216, 0.45969342, 0.46102687,\n",
       "       0.45946044, 0.4568698 , 0.4625933 , 0.4764502 , 0.48151098,\n",
       "       0.47205643, 0.47252614, 0.47355377, 0.46569546, 0.46938282,\n",
       "       0.46593725, 0.46914103, 0.46279393, 0.46581636, 0.46672309,\n",
       "       0.46805295, 0.47022115, 0.4736491 , 0.47910593, 0.48262454])"
      ]
     },
     "execution_count": 112,
     "metadata": {},
     "output_type": "execute_result"
    }
   ],
   "source": [
    "#checking the shape of y_test[0]\n",
    "\n",
    "print (y_test[0].shape)\n",
    "y_test[0]"
   ]
  },
  {
   "cell_type": "code",
   "execution_count": 113,
   "metadata": {},
   "outputs": [
    {
     "data": {
      "text/plain": [
       "(1, 30)"
      ]
     },
     "execution_count": 113,
     "metadata": {},
     "output_type": "execute_result"
    }
   ],
   "source": [
    "#reshape y_test\n",
    "\n",
    "inv_y = y_test[0].reshape(1, y_test[0].shape[0])\n",
    "inv_y.shape"
   ]
  },
  {
   "cell_type": "code",
   "execution_count": 114,
   "metadata": {},
   "outputs": [
    {
     "data": {
      "text/plain": [
       "array([[118.79, 118.55, 118.93, 118.85, 117.81, 118.31, 118.65, 118.56,\n",
       "        118.67, 119.09, 118.83, 118.4 , 119.35, 121.65, 122.49, 120.98,\n",
       "        121.29, 121.46, 120.16, 120.77, 120.2 , 120.73, 119.68, 120.18,\n",
       "        120.33, 120.55, 121.11, 121.76, 122.79, 123.39]])"
      ]
     },
     "execution_count": 114,
     "metadata": {},
     "output_type": "execute_result"
    }
   ],
   "source": [
    "#invert the scaling for y_test\n",
    "\n",
    "inv_y = y_scaler.inverse_transform(inv_y)\n",
    "inv_y"
   ]
  },
  {
   "cell_type": "code",
   "execution_count": 115,
   "metadata": {},
   "outputs": [
    {
     "data": {
      "image/png": "[encoded data removed]",
      "text/plain": [
       "<Figure size 432x288 with 1 Axes>"
      ]
     },
     "metadata": {
      "needs_background": "light"
     },
     "output_type": "display_data"
    }
   ],
   "source": [
    "#plot inv_yhat and inv_y\n",
    "\n",
    "plt.plot(range(121, 151), inv_yhat[0], label='yhat')\n",
    "plt.plot(range(121, 151), inv_y[0], label='actual')\n",
    "plt.legend()\n",
    "plt.show()"
   ]
  },
  {
   "cell_type": "code",
   "execution_count": 116,
   "metadata": {
    "scrolled": true
   },
   "outputs": [
    {
     "name": "stdout",
     "output_type": "stream",
     "text": [
      "Root Mean Squared Error: 1.9822369028304867\n"
     ]
    }
   ],
   "source": [
    "rmse = metrics.mean_squared_error(inv_y, inv_yhat)\n",
    "print ('Root Mean Squared Error:',rmse)"
   ]
  }
 ],
 "metadata": {
  "kernelspec": {
   "display_name": "Python 3",
   "language": "python",
   "name": "python3"
  },
  "language_info": {
   "codemirror_mode": {
    "name": "ipython",
    "version": 3
   },
   "file_extension": ".py",
   "mimetype": "text/x-python",
   "name": "python",
   "nbconvert_exporter": "python",
   "pygments_lexer": "ipython3",
   "version": "3.6.9"
  }
 },
 "nbformat": 4,
 "nbformat_minor": 2
}
