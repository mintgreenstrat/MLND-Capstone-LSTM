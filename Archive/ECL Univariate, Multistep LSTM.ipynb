{
 "cells": [
  {
   "cell_type": "markdown",
   "metadata": {},
   "source": [
    "# Univariate, Multistep LSTM Implementation\n",
    "\n",
    "An implementation of a univariate, multistep LSTM for the Close price of NYSE: ECL operating on daily resolution. The model uses 30 timesteps back to predict 30 timesteps forward. Data pre-processing has been completed in another notebook.\n",
    "\n",
    "## Table of Contents\n",
    "* Libraries\n",
    "* Load Data\n",
    "  * Split Data\n",
    "* Vanilla LSTM\n",
    "* LSTM Optimization\n",
    "* LSTM Walk Forward Validation\n",
    "* Validation Results\n",
    "  * Overall\n",
    "  * First Model\n",
    "  * Last Model\n",
    "* Conclusions"
   ]
  },
  {
   "cell_type": "markdown",
   "metadata": {},
   "source": [
    "## Load libraries"
   ]
  },
  {
   "cell_type": "code",
   "execution_count": 1,
   "metadata": {},
   "outputs": [],
   "source": [
    "import pandas as pd\n",
    "import numpy as np\n",
    "import matplotlib.pyplot as plt\n",
    "from sklearn import metrics\n",
    "import tqdm\n",
    "%matplotlib inline"
   ]
  },
  {
   "cell_type": "code",
   "execution_count": null,
   "metadata": {},
   "outputs": [],
   "source": [
    "from tensorflow.python.client import device_lib\n",
    "print(device_lib.list_local_devices())"
   ]
  },
  {
   "cell_type": "markdown",
   "metadata": {},
   "source": [
    "## Load the data\n",
    "#### Daily Resolution Data"
   ]
  },
  {
   "cell_type": "code",
   "execution_count": 2,
   "metadata": {},
   "outputs": [
    {
     "name": "stdout",
     "output_type": "stream",
     "text": [
      "(5031, 16)\n"
     ]
    }
   ],
   "source": [
    "if True:\n",
    "    keep_col = list(range(1,18))\n",
    "\n",
    "    df_day = pd.read_csv('Clean Data/ECL_Clean_Day.csv', \n",
    "                         infer_datetime_format=True,\n",
    "                         parse_dates=['Timestamp'], \n",
    "                         index_col=['Timestamp'],\n",
    "                         usecols = keep_col,\n",
    "                         date_parser=lambda col: pd.to_datetime(col, utc=True).tz_convert('America/New_York'))\n",
    "\n",
    "    print (df_day.shape)\n",
    "    \n",
    "#print (df_day.head(3))"
   ]
  },
  {
   "cell_type": "markdown",
   "metadata": {},
   "source": [
    "#### Split the data\n",
    "\n",
    "We'll use the past 10 years of data"
   ]
  },
  {
   "cell_type": "code",
   "execution_count": 3,
   "metadata": {},
   "outputs": [],
   "source": [
    "# create 10 years of data from 2019 - 2010\n",
    "day_data = df_day[df_day.index >= '2010-01-01']\n",
    "\n",
    "#split 7 years train, 3 years test\n",
    "day_train = day_data[day_data.index <= '2017-01-01']\n",
    "day_test = day_data[day_data.index >= '2017-01-01']"
   ]
  },
  {
   "cell_type": "markdown",
   "metadata": {},
   "source": [
    "Slice out 'Close' price from dataset"
   ]
  },
  {
   "cell_type": "code",
   "execution_count": 4,
   "metadata": {},
   "outputs": [],
   "source": [
    "base_train = day_train['Close'] \n",
    "base_test = day_test['Close']"
   ]
  },
  {
   "cell_type": "markdown",
   "metadata": {},
   "source": [
    "Plot the Test and Train split"
   ]
  },
  {
   "cell_type": "code",
   "execution_count": 5,
   "metadata": {
    "scrolled": true
   },
   "outputs": [
    {
     "data": {
      "image/png": "[encoded data removed]",
      "text/plain": [
       "<Figure size 432x288 with 1 Axes>"
      ]
     },
     "metadata": {
      "needs_background": "light"
     },
     "output_type": "display_data"
    }
   ],
   "source": [
    "plt.plot(base_test)\n",
    "plt.plot(base_train)\n",
    "plt.show()"
   ]
  },
  {
   "cell_type": "markdown",
   "metadata": {},
   "source": [
    "## Vanilla LSTM\n",
    "\n",
    "Initialize a vanilla, stacked LSTM with two LSTM layers stacked and a single dense layer to provide the output.\n",
    "\n",
    "Following Ex. 9.4.1, Univariate Multistep Forecasting with LSTM"
   ]
  },
  {
   "cell_type": "code",
   "execution_count": 6,
   "metadata": {},
   "outputs": [
    {
     "name": "stdout",
     "output_type": "stream",
     "text": [
      "(1703, 30) (1703, 30) (695, 30) (695, 30)\n"
     ]
    }
   ],
   "source": [
    "# Multistep Data Preparation\n",
    "\n",
    "# split a univariate sequence into samples\n",
    "def split_sequence(sequence, n_steps_in, n_steps_out):\n",
    "    X, y = list(), list()\n",
    "    for i in range(len(sequence)):\n",
    "        # find the end of this pattern\n",
    "        end_ix = i + n_steps_in\n",
    "        out_end_ix = end_ix + n_steps_out\n",
    "        # check if we are beyond the sequence\n",
    "        if out_end_ix > len(sequence):\n",
    "            break\n",
    "        # gather input and output parts of the pattern\n",
    "        seq_x, seq_y = sequence[i:end_ix], sequence[end_ix:out_end_ix]\n",
    "        X.append(seq_x)\n",
    "        y.append(seq_y)\n",
    "    return np.array(X), np.array(y)\n",
    "\n",
    "# choose a number of time steps\n",
    "n_steps_in, n_steps_out = 30, 30\n",
    "\n",
    "# split into samples\n",
    "X_train, y_train = split_sequence(base_train.values, n_steps_in, n_steps_out)\n",
    "X_test, y_test = split_sequence(base_test.values, n_steps_in, n_steps_out)\n",
    "\n",
    "# summarize the data\n",
    "print(X_train.shape, y_train.shape, X_test.shape, y_test.shape)"
   ]
  },
  {
   "cell_type": "code",
   "execution_count": 7,
   "metadata": {},
   "outputs": [
    {
     "name": "stderr",
     "output_type": "stream",
     "text": [
      "Using TensorFlow backend.\n",
      "/Users/jacobscottanthony/anaconda3/lib/python3.6/site-packages/tensorflow/python/framework/dtypes.py:516: FutureWarning: Passing (type, 1) or '1type' as a synonym of type is deprecated; in a future version of numpy, it will be understood as (type, (1,)) / '(1,)type'.\n",
      "  _np_qint8 = np.dtype([(\"qint8\", np.int8, 1)])\n",
      "/Users/jacobscottanthony/anaconda3/lib/python3.6/site-packages/tensorflow/python/framework/dtypes.py:517: FutureWarning: Passing (type, 1) or '1type' as a synonym of type is deprecated; in a future version of numpy, it will be understood as (type, (1,)) / '(1,)type'.\n",
      "  _np_quint8 = np.dtype([(\"quint8\", np.uint8, 1)])\n",
      "/Users/jacobscottanthony/anaconda3/lib/python3.6/site-packages/tensorflow/python/framework/dtypes.py:518: FutureWarning: Passing (type, 1) or '1type' as a synonym of type is deprecated; in a future version of numpy, it will be understood as (type, (1,)) / '(1,)type'.\n",
      "  _np_qint16 = np.dtype([(\"qint16\", np.int16, 1)])\n",
      "/Users/jacobscottanthony/anaconda3/lib/python3.6/site-packages/tensorflow/python/framework/dtypes.py:519: FutureWarning: Passing (type, 1) or '1type' as a synonym of type is deprecated; in a future version of numpy, it will be understood as (type, (1,)) / '(1,)type'.\n",
      "  _np_quint16 = np.dtype([(\"quint16\", np.uint16, 1)])\n",
      "/Users/jacobscottanthony/anaconda3/lib/python3.6/site-packages/tensorflow/python/framework/dtypes.py:520: FutureWarning: Passing (type, 1) or '1type' as a synonym of type is deprecated; in a future version of numpy, it will be understood as (type, (1,)) / '(1,)type'.\n",
      "  _np_qint32 = np.dtype([(\"qint32\", np.int32, 1)])\n",
      "/Users/jacobscottanthony/anaconda3/lib/python3.6/site-packages/tensorflow/python/framework/dtypes.py:525: FutureWarning: Passing (type, 1) or '1type' as a synonym of type is deprecated; in a future version of numpy, it will be understood as (type, (1,)) / '(1,)type'.\n",
      "  np_resource = np.dtype([(\"resource\", np.ubyte, 1)])\n",
      "/Users/jacobscottanthony/anaconda3/lib/python3.6/site-packages/tensorboard/compat/tensorflow_stub/dtypes.py:541: FutureWarning: Passing (type, 1) or '1type' as a synonym of type is deprecated; in a future version of numpy, it will be understood as (type, (1,)) / '(1,)type'.\n",
      "  _np_qint8 = np.dtype([(\"qint8\", np.int8, 1)])\n",
      "/Users/jacobscottanthony/anaconda3/lib/python3.6/site-packages/tensorboard/compat/tensorflow_stub/dtypes.py:542: FutureWarning: Passing (type, 1) or '1type' as a synonym of type is deprecated; in a future version of numpy, it will be understood as (type, (1,)) / '(1,)type'.\n",
      "  _np_quint8 = np.dtype([(\"quint8\", np.uint8, 1)])\n",
      "/Users/jacobscottanthony/anaconda3/lib/python3.6/site-packages/tensorboard/compat/tensorflow_stub/dtypes.py:543: FutureWarning: Passing (type, 1) or '1type' as a synonym of type is deprecated; in a future version of numpy, it will be understood as (type, (1,)) / '(1,)type'.\n",
      "  _np_qint16 = np.dtype([(\"qint16\", np.int16, 1)])\n",
      "/Users/jacobscottanthony/anaconda3/lib/python3.6/site-packages/tensorboard/compat/tensorflow_stub/dtypes.py:544: FutureWarning: Passing (type, 1) or '1type' as a synonym of type is deprecated; in a future version of numpy, it will be understood as (type, (1,)) / '(1,)type'.\n",
      "  _np_quint16 = np.dtype([(\"quint16\", np.uint16, 1)])\n",
      "/Users/jacobscottanthony/anaconda3/lib/python3.6/site-packages/tensorboard/compat/tensorflow_stub/dtypes.py:545: FutureWarning: Passing (type, 1) or '1type' as a synonym of type is deprecated; in a future version of numpy, it will be understood as (type, (1,)) / '(1,)type'.\n",
      "  _np_qint32 = np.dtype([(\"qint32\", np.int32, 1)])\n",
      "/Users/jacobscottanthony/anaconda3/lib/python3.6/site-packages/tensorboard/compat/tensorflow_stub/dtypes.py:550: FutureWarning: Passing (type, 1) or '1type' as a synonym of type is deprecated; in a future version of numpy, it will be understood as (type, (1,)) / '(1,)type'.\n",
      "  np_resource = np.dtype([(\"resource\", np.ubyte, 1)])\n"
     ]
    },
    {
     "name": "stdout",
     "output_type": "stream",
     "text": [
      "Model: \"sequential_1\"\n",
      "_________________________________________________________________\n",
      "Layer (type)                 Output Shape              Param #   \n",
      "=================================================================\n",
      "lstm_1 (LSTM)                (None, 50)                10400     \n",
      "_________________________________________________________________\n",
      "dense_1 (Dense)              (None, 30)                1530      \n",
      "=================================================================\n",
      "Total params: 11,930\n",
      "Trainable params: 11,930\n",
      "Non-trainable params: 0\n",
      "_________________________________________________________________\n",
      "WARNING:tensorflow:From /Users/jacobscottanthony/anaconda3/lib/python3.6/site-packages/keras/backend/tensorflow_backend.py:422: The name tf.global_variables is deprecated. Please use tf.compat.v1.global_variables instead.\n",
      "\n",
      "Train on 1703 samples, validate on 695 samples\n",
      "Epoch 1/20\n",
      "1703/1703 [==============================] - 3s 2ms/step - loss: 4319.0444 - val_loss: 21901.0938\n",
      "Epoch 2/20\n",
      "1703/1703 [==============================] - 2s 1ms/step - loss: 154393.5452 - val_loss: 49662.1758\n",
      "Epoch 3/20\n",
      "1703/1703 [==============================] - 1s 877us/step - loss: 6008.6097 - val_loss: 29221.9319\n",
      "Epoch 4/20\n",
      "1703/1703 [==============================] - 1s 855us/step - loss: 5748.0617 - val_loss: 28787.7804\n",
      "Epoch 5/20\n",
      "1703/1703 [==============================] - 1s 806us/step - loss: 4971.6934 - val_loss: 18049.1634\n",
      "Epoch 6/20\n",
      "1703/1703 [==============================] - 1s 753us/step - loss: 4498.3094 - val_loss: 14739.7788\n",
      "Epoch 7/20\n",
      "1703/1703 [==============================] - 1s 764us/step - loss: 4295.2378 - val_loss: 22437.8358\n",
      "Epoch 8/20\n",
      "1703/1703 [==============================] - 1s 745us/step - loss: 4163.7982 - val_loss: 16277.6657\n",
      "Epoch 9/20\n",
      "1703/1703 [==============================] - 2s 920us/step - loss: 3810.0057 - val_loss: 14669.6674\n",
      "Epoch 10/20\n",
      "1703/1703 [==============================] - 1s 815us/step - loss: 2467.1977 - val_loss: 11262.1789\n",
      "Epoch 11/20\n",
      "1703/1703 [==============================] - 2s 892us/step - loss: 3535.6034 - val_loss: 10328.1750\n",
      "Epoch 12/20\n",
      "1703/1703 [==============================] - 2s 929us/step - loss: 3294.6954 - val_loss: 9931.1532\n",
      "Epoch 13/20\n",
      "1703/1703 [==============================] - 2s 920us/step - loss: 3196.5417 - val_loss: 10348.6243\n",
      "Epoch 14/20\n",
      "1703/1703 [==============================] - 2s 1ms/step - loss: 3018.9380 - val_loss: 10349.6245\n",
      "Epoch 15/20\n",
      "1703/1703 [==============================] - 1s 847us/step - loss: 2837.6398 - val_loss: 10103.3479\n",
      "Epoch 16/20\n",
      "1703/1703 [==============================] - 2s 1ms/step - loss: 2674.2775 - val_loss: 9372.4964\n",
      "Epoch 17/20\n",
      "1703/1703 [==============================] - 1s 835us/step - loss: 2499.8881 - val_loss: 9352.7783\n",
      "Epoch 18/20\n",
      "1703/1703 [==============================] - 1s 817us/step - loss: 2356.2587 - val_loss: 10774.9280\n",
      "Epoch 19/20\n",
      "1703/1703 [==============================] - 1s 784us/step - loss: 2082.9165 - val_loss: 17177.7751\n",
      "Epoch 20/20\n",
      "1703/1703 [==============================] - 1s 868us/step - loss: 2646.4894 - val_loss: 17575.6356\n"
     ]
    }
   ],
   "source": [
    "#Load required Keras modules\n",
    "from keras.models import Sequential\n",
    "from keras.layers import LSTM, Dense, Dropout\n",
    "from keras.layers import Dense\n",
    "from keras.optimizers import Adam\n",
    "from keras.callbacks import EarlyStopping\n",
    "\n",
    "# reshape from [samples, timesteps] into [samples, timesteps, features]\n",
    "n_features = 1\n",
    "X_train = X_train.reshape((X_train.shape[0], X_train.shape[1], n_features))\n",
    "#print (X_train.shape)\n",
    "X_test = X_test.reshape((X_test.shape[0], X_test.shape[1], n_features))\n",
    "#print (X_test.shape)\n",
    "\n",
    "# define model\n",
    "model = Sequential()\n",
    "model.add(LSTM(50, activation='relu',  input_shape=(n_steps_in, n_features)))\n",
    "model.add(Dense(n_steps_out))\n",
    "model.compile(optimizer='Adam', loss='mse')\n",
    "model.summary()\n",
    "\n",
    "# fit model\n",
    "history = model.fit(X_train, y_train, \n",
    "                    validation_data=(X_test, y_test), \n",
    "                    epochs=20, \n",
    "                    verbose=1,\n",
    "                    shuffle=False)"
   ]
  },
  {
   "cell_type": "code",
   "execution_count": 8,
   "metadata": {},
   "outputs": [
    {
     "data": {
      "image/png": "[encoded data removed]",
      "text/plain": [
       "<Figure size 432x288 with 1 Axes>"
      ]
     },
     "metadata": {
      "needs_background": "light"
     },
     "output_type": "display_data"
    }
   ],
   "source": [
    "#Plot the Training and Validation Loss\n",
    "\n",
    "plt.plot(history.history['loss'], label='train')\n",
    "plt.plot(history.history['val_loss'], label='test')\n",
    "plt.legend()\n",
    "plt.show()"
   ]
  },
  {
   "cell_type": "markdown",
   "metadata": {},
   "source": [
    "### LSTM Training Results\n",
    "* Seems to be fine\n",
    "* Looks OK\n",
    "* What else can I do?\n",
    "\n",
    "### Demonstrate Prediction"
   ]
  },
  {
   "cell_type": "code",
   "execution_count": 9,
   "metadata": {},
   "outputs": [
    {
     "name": "stdout",
     "output_type": "stream",
     "text": [
      "Shape of X_test[0]:, (30, 1)\n",
      "Shape of x_input: (1, 30, 1)\n",
      "Shape of yhat: (1, 30)\n"
     ]
    }
   ],
   "source": [
    "# Use X_test[0] as test\n",
    "x_input = X_test[0]\n",
    "print ('Shape of X_test[0]:,',X_test[0].shape)\n",
    "\n",
    "# Reshape X_test[0]\n",
    "x_input = x_input.reshape((1, n_steps_in, n_features))\n",
    "print ('Shape of x_input:', x_input.shape)\n",
    "\n",
    "# Make a prediction\n",
    "yhat = model.predict(x_input, verbose=0)\n",
    "print ('Shape of yhat:', yhat.shape)"
   ]
  },
  {
   "cell_type": "markdown",
   "metadata": {},
   "source": [
    "Plot the input, output and prediction"
   ]
  },
  {
   "cell_type": "code",
   "execution_count": 10,
   "metadata": {},
   "outputs": [
    {
     "data": {
      "image/png": "[encoded data removed]",
      "text/plain": [
       "<Figure size 432x288 with 1 Axes>"
      ]
     },
     "metadata": {
      "needs_background": "light"
     },
     "output_type": "display_data"
    }
   ],
   "source": [
    "plt.plot(range(1,31), X_test[0], label = 'X_test')\n",
    "plt.plot(range(31, 61), y_test[0], label = 'y_test')\n",
    "plt.plot(range(31, 61), yhat[0], label = 'yhat')\n",
    "plt.legend()\n",
    "plt.show()"
   ]
  },
  {
   "cell_type": "code",
   "execution_count": 11,
   "metadata": {},
   "outputs": [
    {
     "name": "stdout",
     "output_type": "stream",
     "text": [
      "Mean Absolute Error: 74.6051303601265\n",
      "Mean Squared Error: 6021.757160192285\n"
     ]
    }
   ],
   "source": [
    "mae = metrics.mean_absolute_error(y_test[0], yhat[0])\n",
    "rmse = metrics.mean_squared_error(y_test[0], yhat[0])\n",
    "print ('Mean Absolute Error:', mae)\n",
    "print ('Mean Squared Error:', rmse)"
   ]
  },
  {
   "cell_type": "markdown",
   "metadata": {},
   "source": [
    "* Results\n",
    "* Results\n",
    "* Results\n",
    "\n",
    "## LSTM Architecture Optimization\n",
    "* In order to arrive at an optimized architecture for the LSTM, I have used the ```talos``` library. This allows an extensive grid search to be setup and then automated. This has been conduced on a Google Cloud VM. The Jupyter Notebook used can be found here [here].\n",
    "<br>\n",
    "* The best architecture from this grid search is summarized below."
   ]
  },
  {
   "cell_type": "code",
   "execution_count": 12,
   "metadata": {},
   "outputs": [],
   "source": [
    "#Define the LSTM Model from the Talos grid search in a function to be called in the loop below\n",
    "\n",
    "def LSTM_model():\n",
    "    model = Sequential()\n",
    "    model.add(LSTM(100, activation='relu', return_sequences=True, input_shape=(n_steps_in, n_features)))\n",
    "    model.add(LSTM(100, activation='relu', return_sequences=True))\n",
    "    model.add(LSTM(100, activation='relu'))\n",
    "    model.add(Dense(400))\n",
    "    model.add(Dense(400))\n",
    "    model.add(Dense(400))\n",
    "    model.add(Dense(n_steps_out))\n",
    "    model.compile(optimizer='Adam', loss='mse')\n",
    "    return model"
   ]
  },
  {
   "cell_type": "markdown",
   "metadata": {},
   "source": [
    "#### Optimized Architecture"
   ]
  },
  {
   "cell_type": "code",
   "execution_count": 13,
   "metadata": {
    "scrolled": false
   },
   "outputs": [
    {
     "name": "stdout",
     "output_type": "stream",
     "text": [
      "Model: \"sequential_2\"\n",
      "_________________________________________________________________\n",
      "Layer (type)                 Output Shape              Param #   \n",
      "=================================================================\n",
      "lstm_2 (LSTM)                (None, 30, 100)           40800     \n",
      "_________________________________________________________________\n",
      "lstm_3 (LSTM)                (None, 30, 100)           80400     \n",
      "_________________________________________________________________\n",
      "lstm_4 (LSTM)                (None, 100)               80400     \n",
      "_________________________________________________________________\n",
      "dense_2 (Dense)              (None, 400)               40400     \n",
      "_________________________________________________________________\n",
      "dense_3 (Dense)              (None, 400)               160400    \n",
      "_________________________________________________________________\n",
      "dense_4 (Dense)              (None, 400)               160400    \n",
      "_________________________________________________________________\n",
      "dense_5 (Dense)              (None, 30)                12030     \n",
      "=================================================================\n",
      "Total params: 574,830\n",
      "Trainable params: 574,830\n",
      "Non-trainable params: 0\n",
      "_________________________________________________________________\n",
      "None\n"
     ]
    }
   ],
   "source": [
    "model = LSTM_model()\n",
    "print (model.summary())"
   ]
  },
  {
   "cell_type": "markdown",
   "metadata": {},
   "source": [
    "* Discussion\n",
    "* Discussion\n",
    "* Discussion"
   ]
  },
  {
   "cell_type": "markdown",
   "metadata": {},
   "source": [
    "## Walk-Forward Validation w/ re-fit\n",
    "\n",
    "Validate the model by waking it forward on the training set. Testing set size is kept stationary. Step size is 30 which is intended to mimic a realistic situation of re-training once per month."
   ]
  },
  {
   "cell_type": "code",
   "execution_count": 14,
   "metadata": {},
   "outputs": [
    {
     "data": {
      "application/vnd.jupyter.widget-view+json": {
       "model_id": "12afa02244554b14ad33527dcaed5eca",
       "version_major": 2,
       "version_minor": 0
      },
      "text/plain": [
       "HBox(children=(IntProgress(value=0, max=26), HTML(value='')))"
      ]
     },
     "metadata": {},
     "output_type": "display_data"
    },
    {
     "name": "stdout",
     "output_type": "stream",
     "text": [
      "Train on 1703 samples, validate on 695 samples\n",
      "Epoch 1/100\n",
      "1703/1703 [==============================] - 8s 5ms/step - loss: 5970.9814 - val_loss: 26890.6478\n",
      "Epoch 2/100\n",
      "1703/1703 [==============================] - 4s 3ms/step - loss: 6301.2568 - val_loss: 45812.8132\n",
      "Epoch 3/100\n",
      "1703/1703 [==============================] - 5s 3ms/step - loss: 13258.6595 - val_loss: 5269.4261\n",
      "Epoch 4/100\n",
      "1703/1703 [==============================] - 5s 3ms/step - loss: 1494.3727 - val_loss: 4649.5741\n",
      "Epoch 5/100\n",
      "1703/1703 [==============================] - 5s 3ms/step - loss: 2980.4800 - val_loss: 10388.0339\n",
      "Epoch 6/100\n",
      "1703/1703 [==============================] - 5s 3ms/step - loss: 22040.1967 - val_loss: 47864.8434\n",
      "Epoch 7/100\n",
      "1703/1703 [==============================] - 6s 3ms/step - loss: 4977.4286 - val_loss: 18914.3495\n",
      "Epoch 8/100\n",
      "1703/1703 [==============================] - 5s 3ms/step - loss: 4557.1087 - val_loss: 16856.9847\n",
      "Epoch 9/100\n",
      "1703/1703 [==============================] - 4s 3ms/step - loss: 22107.1611 - val_loss: 76765.3557\n",
      "Epoch 10/100\n",
      "1703/1703 [==============================] - 5s 3ms/step - loss: 82600.2726 - val_loss: 52737.7072\n",
      "Epoch 11/100\n",
      "1703/1703 [==============================] - 4s 3ms/step - loss: 15968.5526 - val_loss: 27766.5658\n",
      "Epoch 12/100\n",
      "1703/1703 [==============================] - 4s 3ms/step - loss: 32597.8555 - val_loss: 35048.5602\n",
      "Epoch 13/100\n",
      "1703/1703 [==============================] - 4s 3ms/step - loss: 6502.0456 - val_loss: 3283.7439\n",
      "Epoch 14/100\n",
      "1703/1703 [==============================] - 5s 3ms/step - loss: 1645.5631 - val_loss: 1132.2215\n",
      "Epoch 15/100\n",
      "1703/1703 [==============================] - 5s 3ms/step - loss: 390.7596 - val_loss: 554.9622\n",
      "Epoch 16/100\n",
      "1703/1703 [==============================] - 5s 3ms/step - loss: 234.0131 - val_loss: 427.7344\n",
      "Epoch 17/100\n",
      "1703/1703 [==============================] - 6s 4ms/step - loss: 175.7474 - val_loss: 279.0596\n",
      "Epoch 18/100\n",
      "1703/1703 [==============================] - 6s 4ms/step - loss: 82.9788 - val_loss: 221.0570\n",
      "Epoch 19/100\n",
      "1703/1703 [==============================] - 5s 3ms/step - loss: 73.0686 - val_loss: 189.1059\n",
      "Epoch 20/100\n",
      "1703/1703 [==============================] - 5s 3ms/step - loss: 46.2761 - val_loss: 153.8473\n",
      "Epoch 21/100\n",
      "1703/1703 [==============================] - 4s 2ms/step - loss: 53.2712 - val_loss: 148.4419\n",
      "Epoch 22/100\n",
      "1703/1703 [==============================] - 4s 3ms/step - loss: 39.6914 - val_loss: 141.8888\n",
      "Epoch 23/100\n",
      "1703/1703 [==============================] - 4s 2ms/step - loss: 45.8275 - val_loss: 136.6224\n",
      "Epoch 24/100\n",
      "1703/1703 [==============================] - 5s 3ms/step - loss: 37.7316 - val_loss: 135.9872\n",
      "Epoch 25/100\n",
      "1703/1703 [==============================] - 6s 3ms/step - loss: 42.5171 - val_loss: 132.6960\n",
      "Epoch 26/100\n",
      "1703/1703 [==============================] - 5s 3ms/step - loss: 37.4181 - val_loss: 132.7743\n",
      "Epoch 27/100\n",
      "1703/1703 [==============================] - 5s 3ms/step - loss: 41.0038 - val_loss: 130.9783\n",
      "Epoch 28/100\n",
      "1703/1703 [==============================] - 5s 3ms/step - loss: 38.1662 - val_loss: 131.6386\n",
      "Epoch 29/100\n",
      "1703/1703 [==============================] - 6s 3ms/step - loss: 40.8102 - val_loss: 130.7831\n",
      "Epoch 30/100\n",
      "1703/1703 [==============================] - 7s 4ms/step - loss: 39.7322 - val_loss: 131.9664\n",
      "Epoch 31/100\n",
      "1703/1703 [==============================] - 5s 3ms/step - loss: 41.9530 - val_loss: 131.8698\n",
      "Epoch 32/100\n",
      "1703/1703 [==============================] - 5s 3ms/step - loss: 42.3036 - val_loss: 133.3860\n",
      "Epoch 33/100\n",
      "1703/1703 [==============================] - 4s 3ms/step - loss: 44.7152 - val_loss: 133.8570\n",
      "Epoch 34/100\n",
      "1703/1703 [==============================] - 5s 3ms/step - loss: 46.5644 - val_loss: 135.4132\n",
      "Epoch 35/100\n",
      "1703/1703 [==============================] - 5s 3ms/step - loss: 49.9158 - val_loss: 136.1142\n",
      "Epoch 36/100\n",
      "1703/1703 [==============================] - 5s 3ms/step - loss: 53.7653 - val_loss: 136.7553\n",
      "Epoch 37/100\n",
      "1703/1703 [==============================] - 5s 3ms/step - loss: 59.2631 - val_loss: 137.5116\n",
      "Epoch 38/100\n",
      "1703/1703 [==============================] - 6s 3ms/step - loss: 66.2167 - val_loss: 131.5575\n",
      "Epoch 39/100\n",
      "1703/1703 [==============================] - 5s 3ms/step - loss: 74.2917 - val_loss: 125.7931\n",
      "Epoch 40/100\n",
      "1703/1703 [==============================] - 5s 3ms/step - loss: 85.9224 - val_loss: 116.3609\n",
      "Epoch 41/100\n",
      "1703/1703 [==============================] - 5s 3ms/step - loss: 93.9966 - val_loss: 107.5117\n",
      "Epoch 42/100\n",
      "1703/1703 [==============================] - 4s 3ms/step - loss: 97.3572 - val_loss: 104.6179\n",
      "Epoch 43/100\n",
      "1703/1703 [==============================] - 4s 2ms/step - loss: 91.6569 - val_loss: 111.8482\n",
      "Epoch 44/100\n",
      "1703/1703 [==============================] - 5s 3ms/step - loss: 74.5116 - val_loss: 115.7860\n",
      "Epoch 45/100\n",
      "1703/1703 [==============================] - 5s 3ms/step - loss: 54.6987 - val_loss: 109.4065\n",
      "Epoch 46/100\n",
      "1703/1703 [==============================] - 5s 3ms/step - loss: 43.8227 - val_loss: 105.0697\n",
      "Epoch 47/100\n",
      "1703/1703 [==============================] - 5s 3ms/step - loss: 37.2925 - val_loss: 98.4648\n",
      "Epoch 48/100\n",
      "1703/1703 [==============================] - 5s 3ms/step - loss: 41.2696 - val_loss: 102.1655\n",
      "Epoch 49/100\n",
      "1703/1703 [==============================] - 5s 3ms/step - loss: 40.0224 - val_loss: 100.6379\n",
      "Epoch 50/100\n",
      "1703/1703 [==============================] - 5s 3ms/step - loss: 53.4674 - val_loss: 111.7415\n",
      "Epoch 51/100\n",
      "1703/1703 [==============================] - 5s 3ms/step - loss: 54.3597 - val_loss: 115.4997\n",
      "Epoch 52/100\n",
      "1703/1703 [==============================] - 5s 3ms/step - loss: 64.6357 - val_loss: 125.7930\n",
      "Epoch 53/100\n",
      "1703/1703 [==============================] - 5s 3ms/step - loss: 69.4399 - val_loss: 134.9921\n",
      "Epoch 54/100\n",
      "1703/1703 [==============================] - 5s 3ms/step - loss: 67.9807 - val_loss: 139.2269\n",
      "Epoch 55/100\n",
      "1703/1703 [==============================] - 4s 3ms/step - loss: 62.9383 - val_loss: 141.8065\n",
      "Epoch 56/100\n",
      "1703/1703 [==============================] - 4s 2ms/step - loss: 55.9464 - val_loss: 140.1431\n",
      "Epoch 57/100\n",
      "1703/1703 [==============================] - 4s 2ms/step - loss: 47.1292 - val_loss: 132.1902\n",
      "Epoch 58/100\n",
      "1703/1703 [==============================] - 4s 2ms/step - loss: 39.9661 - val_loss: 121.5910\n",
      "Epoch 59/100\n",
      "1703/1703 [==============================] - 5s 3ms/step - loss: 34.3315 - val_loss: 109.9890\n",
      "Epoch 60/100\n",
      "1703/1703 [==============================] - 5s 3ms/step - loss: 30.7938 - val_loss: 98.2307\n",
      "Epoch 61/100\n",
      "1703/1703 [==============================] - 5s 3ms/step - loss: 29.8604 - val_loss: 96.1887\n",
      "Epoch 62/100\n",
      "1703/1703 [==============================] - 5s 3ms/step - loss: 30.0106 - val_loss: 94.5147\n",
      "Epoch 63/100\n",
      "1703/1703 [==============================] - 4s 2ms/step - loss: 31.9029 - val_loss: 90.7465\n",
      "Epoch 64/100\n",
      "1703/1703 [==============================] - 4s 3ms/step - loss: 31.9011 - val_loss: 91.2901\n",
      "Epoch 65/100\n",
      "1703/1703 [==============================] - 4s 3ms/step - loss: 33.5188 - val_loss: 89.5733\n",
      "Epoch 66/100\n",
      "1703/1703 [==============================] - 4s 2ms/step - loss: 34.1603 - val_loss: 90.5352\n",
      "Epoch 67/100\n",
      "1703/1703 [==============================] - 5s 3ms/step - loss: 34.3186 - val_loss: 90.6657\n",
      "Epoch 68/100\n",
      "1703/1703 [==============================] - 5s 3ms/step - loss: 34.6421 - val_loss: 91.1375\n",
      "Epoch 69/100\n",
      "1703/1703 [==============================] - 5s 3ms/step - loss: 34.6797 - val_loss: 91.4399\n",
      "Epoch 70/100\n",
      "1703/1703 [==============================] - 6s 3ms/step - loss: 34.4570 - val_loss: 92.0191\n",
      "Epoch 71/100\n",
      "1703/1703 [==============================] - 5s 3ms/step - loss: 34.1990 - val_loss: 92.3464\n",
      "Epoch 72/100\n",
      "1703/1703 [==============================] - 5s 3ms/step - loss: 33.5933 - val_loss: 92.8208\n",
      "Epoch 73/100\n",
      "1703/1703 [==============================] - 5s 3ms/step - loss: 32.7171 - val_loss: 93.4313\n",
      "Epoch 74/100\n",
      "1703/1703 [==============================] - 5s 3ms/step - loss: 31.7134 - val_loss: 94.1409\n",
      "Epoch 75/100\n",
      "1703/1703 [==============================] - 5s 3ms/step - loss: 30.7976 - val_loss: 94.6887\n",
      "Epoch 76/100\n",
      "1703/1703 [==============================] - 4s 2ms/step - loss: 30.0675 - val_loss: 95.2695\n"
     ]
    },
    {
     "name": "stdout",
     "output_type": "stream",
     "text": [
      "Epoch 77/100\n",
      "1703/1703 [==============================] - 4s 2ms/step - loss: 29.4458 - val_loss: 95.9462\n",
      "Epoch 78/100\n",
      "1703/1703 [==============================] - 5s 3ms/step - loss: 29.1494 - val_loss: 96.4716\n",
      "Epoch 79/100\n",
      "1703/1703 [==============================] - 5s 3ms/step - loss: 29.5197 - val_loss: 96.7007\n",
      "Epoch 80/100\n",
      "1703/1703 [==============================] - 5s 3ms/step - loss: 30.1955 - val_loss: 97.1214\n",
      "Epoch 81/100\n",
      "1703/1703 [==============================] - 5s 3ms/step - loss: 31.1096 - val_loss: 97.9063\n",
      "Epoch 82/100\n",
      "1703/1703 [==============================] - 5s 3ms/step - loss: 32.8560 - val_loss: 98.3595\n",
      "Epoch 83/100\n",
      "1703/1703 [==============================] - 4s 3ms/step - loss: 35.3329 - val_loss: 98.7539\n",
      "Epoch 84/100\n",
      "1703/1703 [==============================] - 4s 2ms/step - loss: 38.7582 - val_loss: 99.3608\n",
      "Epoch 85/100\n",
      "1703/1703 [==============================] - 4s 2ms/step - loss: 43.4442 - val_loss: 99.4089\n",
      "Step: 1\n",
      "MAE: 7.458551635921929\n",
      "RMSE: 99.40888600035147\n",
      "\n",
      "\n",
      "Train on 1733 samples, validate on 695 samples\n",
      "Epoch 1/100\n",
      "1733/1733 [==============================] - 8s 4ms/step - loss: 3022.1565 - val_loss: 2320.9298\n",
      "Epoch 2/100\n",
      "1733/1733 [==============================] - 4s 2ms/step - loss: 2689.4922 - val_loss: 3353.1234\n",
      "Epoch 3/100\n",
      "1733/1733 [==============================] - 4s 2ms/step - loss: 580.2121 - val_loss: 353.3263\n",
      "Epoch 4/100\n",
      "1733/1733 [==============================] - 4s 2ms/step - loss: 922.5785 - val_loss: 11907.1346\n",
      "Epoch 5/100\n",
      "1733/1733 [==============================] - 4s 3ms/step - loss: 4316.2633 - val_loss: 8992.3260\n",
      "Epoch 6/100\n",
      "1733/1733 [==============================] - 5s 3ms/step - loss: 16440.9611 - val_loss: 18545.2587\n",
      "Epoch 7/100\n",
      "1733/1733 [==============================] - 6s 3ms/step - loss: 2190.1817 - val_loss: 4858.4835\n",
      "Epoch 8/100\n",
      "1733/1733 [==============================] - 5s 3ms/step - loss: 1195.1578 - val_loss: 3760.9600\n",
      "Epoch 9/100\n",
      "1733/1733 [==============================] - 6s 3ms/step - loss: 713.2952 - val_loss: 5280.6354\n",
      "Epoch 10/100\n",
      "1733/1733 [==============================] - 4s 2ms/step - loss: 1359.1878 - val_loss: 3393.4459\n",
      "Epoch 11/100\n",
      "1733/1733 [==============================] - 5s 3ms/step - loss: 5217.5543 - val_loss: 8860.7991\n",
      "Epoch 12/100\n",
      "1733/1733 [==============================] - 5s 3ms/step - loss: 72277.0174 - val_loss: 66012.5055\n",
      "Epoch 13/100\n",
      "1733/1733 [==============================] - 4s 3ms/step - loss: 9840.1705 - val_loss: 6983.1208\n",
      "Epoch 14/100\n",
      "1733/1733 [==============================] - 5s 3ms/step - loss: 24653.6542 - val_loss: 24768.5104\n",
      "Epoch 15/100\n",
      "1733/1733 [==============================] - 7s 4ms/step - loss: 3699.6028 - val_loss: 83858.8578\n",
      "Epoch 16/100\n",
      "1733/1733 [==============================] - 5s 3ms/step - loss: 7253.8228 - val_loss: 18379.2143\n",
      "Epoch 17/100\n",
      "1733/1733 [==============================] - 8s 4ms/step - loss: 2631.8602 - val_loss: 1303.7608\n",
      "Epoch 18/100\n",
      "1733/1733 [==============================] - 8s 5ms/step - loss: 600.9263 - val_loss: 724.6743\n",
      "Epoch 19/100\n",
      "1733/1733 [==============================] - 5s 3ms/step - loss: 230.6406 - val_loss: 210.7099\n",
      "Epoch 20/100\n",
      "1733/1733 [==============================] - 5s 3ms/step - loss: 135.1673 - val_loss: 141.8275\n",
      "Epoch 21/100\n",
      "1733/1733 [==============================] - 5s 3ms/step - loss: 90.8856 - val_loss: 85.0529\n",
      "Epoch 22/100\n",
      "1733/1733 [==============================] - 5s 3ms/step - loss: 63.3118 - val_loss: 80.7829\n",
      "Epoch 23/100\n",
      "1733/1733 [==============================] - 9s 5ms/step - loss: 44.1308 - val_loss: 78.4735\n",
      "Epoch 24/100\n",
      "1733/1733 [==============================] - 9s 5ms/step - loss: 36.2371 - val_loss: 80.2559\n",
      "Epoch 25/100\n",
      "1733/1733 [==============================] - 7s 4ms/step - loss: 33.5203 - val_loss: 84.8733\n",
      "Epoch 26/100\n",
      "1733/1733 [==============================] - 4s 3ms/step - loss: 33.9832 - val_loss: 88.1131\n",
      "Epoch 27/100\n",
      "1733/1733 [==============================] - 5s 3ms/step - loss: 35.5445 - val_loss: 81.5051\n",
      "Epoch 28/100\n",
      "1733/1733 [==============================] - 5s 3ms/step - loss: 35.2108 - val_loss: 79.5497\n",
      "Epoch 29/100\n",
      "1733/1733 [==============================] - 4s 2ms/step - loss: 34.5886 - val_loss: 80.0840\n",
      "Epoch 30/100\n",
      "1733/1733 [==============================] - 4s 2ms/step - loss: 34.6614 - val_loss: 80.8079\n",
      "Epoch 31/100\n",
      "1733/1733 [==============================] - 4s 3ms/step - loss: 35.4106 - val_loss: 81.1429\n",
      "Epoch 32/100\n",
      "1733/1733 [==============================] - 5s 3ms/step - loss: 36.8023 - val_loss: 79.5410\n",
      "Epoch 33/100\n",
      "1733/1733 [==============================] - 4s 3ms/step - loss: 37.2977 - val_loss: 78.0764\n",
      "Epoch 34/100\n",
      "1733/1733 [==============================] - 5s 3ms/step - loss: 36.5796 - val_loss: 78.6548\n",
      "Epoch 35/100\n",
      "1733/1733 [==============================] - 5s 3ms/step - loss: 36.2774 - val_loss: 79.9694\n",
      "Epoch 36/100\n",
      "1733/1733 [==============================] - 5s 3ms/step - loss: 36.6555 - val_loss: 80.0907\n",
      "Epoch 37/100\n",
      "1733/1733 [==============================] - 4s 2ms/step - loss: 37.1733 - val_loss: 79.4079\n",
      "Epoch 38/100\n",
      "1733/1733 [==============================] - 4s 3ms/step - loss: 37.3504 - val_loss: 78.9603\n",
      "Epoch 39/100\n",
      "1733/1733 [==============================] - 4s 2ms/step - loss: 37.1312 - val_loss: 79.4317\n",
      "Epoch 40/100\n",
      "1733/1733 [==============================] - 4s 2ms/step - loss: 36.9701 - val_loss: 80.2138\n",
      "Epoch 41/100\n",
      "1733/1733 [==============================] - 4s 2ms/step - loss: 37.1344 - val_loss: 80.4988\n",
      "Epoch 42/100\n",
      "1733/1733 [==============================] - 4s 2ms/step - loss: 37.4560 - val_loss: 80.2675\n",
      "Epoch 43/100\n",
      "1733/1733 [==============================] - 4s 2ms/step - loss: 37.6472 - val_loss: 80.1061\n",
      "Epoch 44/100\n",
      "1733/1733 [==============================] - 4s 3ms/step - loss: 37.6649 - val_loss: 80.3093\n",
      "Epoch 45/100\n",
      "1733/1733 [==============================] - 4s 3ms/step - loss: 37.6681 - val_loss: 80.7386\n",
      "Epoch 46/100\n",
      "1733/1733 [==============================] - 4s 3ms/step - loss: 37.7899 - val_loss: 80.9924\n",
      "Epoch 47/100\n",
      "1733/1733 [==============================] - 4s 3ms/step - loss: 38.0005 - val_loss: 81.0182\n",
      "Epoch 48/100\n",
      "1733/1733 [==============================] - 4s 2ms/step - loss: 38.1900 - val_loss: 80.9933\n",
      "Epoch 49/100\n",
      "1733/1733 [==============================] - 5s 3ms/step - loss: 38.3171 - val_loss: 81.1394\n",
      "Epoch 50/100\n",
      "1733/1733 [==============================] - 5s 3ms/step - loss: 38.4145 - val_loss: 81.3837\n",
      "Epoch 51/100\n",
      "1733/1733 [==============================] - 4s 2ms/step - loss: 38.5602 - val_loss: 81.6082\n",
      "Epoch 52/100\n",
      "1733/1733 [==============================] - 5s 3ms/step - loss: 38.7528 - val_loss: 81.6274\n",
      "Epoch 53/100\n",
      "1733/1733 [==============================] - 5s 3ms/step - loss: 38.8936 - val_loss: 81.7049\n",
      "Step: 2\n",
      "MAE: 6.772078252608267\n",
      "RMSE: 81.70492255404407\n",
      "\n",
      "\n",
      "Train on 1763 samples, validate on 695 samples\n",
      "Epoch 1/100\n",
      "1763/1763 [==============================] - 5s 3ms/step - loss: 2058.0841 - val_loss: 4485.0855\n",
      "Epoch 2/100\n",
      "1763/1763 [==============================] - 4s 2ms/step - loss: 1179.0478 - val_loss: 2786.8631\n",
      "Epoch 3/100\n",
      "1763/1763 [==============================] - 3s 2ms/step - loss: 604.1698 - val_loss: 3910.1191\n",
      "Epoch 4/100\n",
      "1763/1763 [==============================] - 4s 2ms/step - loss: 677.3897 - val_loss: 890.5093\n",
      "Epoch 5/100\n",
      "1763/1763 [==============================] - 4s 2ms/step - loss: 136.4700 - val_loss: 237.7643\n",
      "Epoch 6/100\n",
      "1763/1763 [==============================] - 7s 4ms/step - loss: 66.9793 - val_loss: 225.3089\n",
      "Epoch 7/100\n",
      "1763/1763 [==============================] - 4s 2ms/step - loss: 69.8828 - val_loss: 223.0632\n",
      "Epoch 8/100\n",
      "1763/1763 [==============================] - 4s 2ms/step - loss: 87.8359 - val_loss: 216.4852\n",
      "Epoch 9/100\n",
      "1763/1763 [==============================] - 4s 2ms/step - loss: 111.9129 - val_loss: 258.7255\n",
      "Epoch 10/100\n",
      "1763/1763 [==============================] - 6s 3ms/step - loss: 100.0634 - val_loss: 329.1075\n",
      "Epoch 11/100\n",
      "1763/1763 [==============================] - 4s 2ms/step - loss: 119.1260 - val_loss: 258.1586\n",
      "Epoch 12/100\n",
      "1763/1763 [==============================] - 4s 2ms/step - loss: 94.7067 - val_loss: 239.4396\n",
      "Epoch 13/100\n"
     ]
    },
    {
     "name": "stdout",
     "output_type": "stream",
     "text": [
      "1763/1763 [==============================] - 3s 2ms/step - loss: 72.3544 - val_loss: 287.9843\n",
      "Epoch 14/100\n",
      "1763/1763 [==============================] - 5s 3ms/step - loss: 58.2686 - val_loss: 457.4247\n",
      "Epoch 15/100\n",
      "1763/1763 [==============================] - 4s 2ms/step - loss: 47.2918 - val_loss: 147.9824\n",
      "Epoch 16/100\n",
      "1763/1763 [==============================] - 4s 2ms/step - loss: 58.1572 - val_loss: 118.1808\n",
      "Epoch 17/100\n",
      "1763/1763 [==============================] - 4s 2ms/step - loss: 71.3227 - val_loss: 148.0487\n",
      "Epoch 18/100\n",
      "1763/1763 [==============================] - 4s 2ms/step - loss: 57.9262 - val_loss: 606.9620\n",
      "Epoch 19/100\n",
      "1763/1763 [==============================] - 4s 2ms/step - loss: 73.6476 - val_loss: 130.7265\n",
      "Epoch 20/100\n",
      "1763/1763 [==============================] - 4s 2ms/step - loss: 111.8494 - val_loss: 247.8122\n",
      "Epoch 21/100\n",
      "1763/1763 [==============================] - 4s 2ms/step - loss: 425.1792 - val_loss: 642.8904\n",
      "Epoch 22/100\n",
      "1763/1763 [==============================] - 4s 2ms/step - loss: 292.8767 - val_loss: 283.6083\n",
      "Epoch 23/100\n",
      "1763/1763 [==============================] - 3s 2ms/step - loss: 119.2359 - val_loss: 109.4952\n",
      "Epoch 24/100\n",
      "1763/1763 [==============================] - 4s 2ms/step - loss: 143.0509 - val_loss: 308.4732\n",
      "Epoch 25/100\n",
      "1763/1763 [==============================] - 4s 2ms/step - loss: 152.0028 - val_loss: 103.6535\n",
      "Epoch 26/100\n",
      "1763/1763 [==============================] - 4s 2ms/step - loss: 89.5615 - val_loss: 171.6668\n",
      "Epoch 27/100\n",
      "1763/1763 [==============================] - 4s 2ms/step - loss: 127.5442 - val_loss: 130.0434\n",
      "Epoch 28/100\n",
      "1763/1763 [==============================] - 5s 3ms/step - loss: 107.0451 - val_loss: 121.7487\n",
      "Epoch 29/100\n",
      "1763/1763 [==============================] - 4s 2ms/step - loss: 104.4917 - val_loss: 98.5473\n",
      "Epoch 30/100\n",
      "1763/1763 [==============================] - 4s 2ms/step - loss: 166.7309 - val_loss: 326.1169\n",
      "Epoch 31/100\n",
      "1763/1763 [==============================] - 3s 2ms/step - loss: 110.5525 - val_loss: 95.8668\n",
      "Epoch 32/100\n",
      "1763/1763 [==============================] - 3s 2ms/step - loss: 197.8988 - val_loss: 448.3344\n",
      "Epoch 33/100\n",
      "1763/1763 [==============================] - 3s 2ms/step - loss: 129.4335 - val_loss: 335.2532\n",
      "Epoch 34/100\n",
      "1763/1763 [==============================] - 3s 2ms/step - loss: 254.2871 - val_loss: 535.3631\n",
      "Epoch 35/100\n",
      "1763/1763 [==============================] - 3s 2ms/step - loss: 307.9118 - val_loss: 588.0735\n",
      "Epoch 36/100\n",
      "1763/1763 [==============================] - 3s 2ms/step - loss: 397.1912 - val_loss: 590.0035\n",
      "Epoch 37/100\n",
      "1763/1763 [==============================] - 4s 2ms/step - loss: 218.8000 - val_loss: 379.6984\n",
      "Epoch 38/100\n",
      "1763/1763 [==============================] - 3s 2ms/step - loss: 288.7796 - val_loss: 1058.0858\n",
      "Epoch 39/100\n",
      "1763/1763 [==============================] - 3s 2ms/step - loss: 184.3503 - val_loss: 453.2155\n",
      "Epoch 40/100\n",
      "1763/1763 [==============================] - 3s 2ms/step - loss: 329.5810 - val_loss: 366.2368\n",
      "Epoch 41/100\n",
      "1763/1763 [==============================] - 3s 2ms/step - loss: 438.2245 - val_loss: 956.6255\n",
      "Epoch 42/100\n",
      "1763/1763 [==============================] - 4s 2ms/step - loss: 637.1731 - val_loss: 195.9763\n",
      "Epoch 43/100\n",
      "1763/1763 [==============================] - 3s 2ms/step - loss: 1057.3994 - val_loss: 735.0582\n",
      "Epoch 44/100\n",
      "1763/1763 [==============================] - 4s 2ms/step - loss: 1367.9233 - val_loss: 1929.7232\n",
      "Epoch 45/100\n",
      "1763/1763 [==============================] - 4s 2ms/step - loss: 928.9797 - val_loss: 1827.5052\n",
      "Epoch 46/100\n",
      "1763/1763 [==============================] - 3s 2ms/step - loss: 192.5387 - val_loss: 219.7622\n",
      "Epoch 47/100\n",
      "1763/1763 [==============================] - 3s 2ms/step - loss: 187.8242 - val_loss: 206.7200\n",
      "Epoch 48/100\n",
      "1763/1763 [==============================] - 4s 2ms/step - loss: 92.2774 - val_loss: 135.5647\n",
      "Epoch 49/100\n",
      "1763/1763 [==============================] - 4s 2ms/step - loss: 73.1269 - val_loss: 150.0364\n",
      "Epoch 50/100\n",
      "1763/1763 [==============================] - 3s 2ms/step - loss: 62.1566 - val_loss: 96.8623\n",
      "Epoch 51/100\n",
      "1763/1763 [==============================] - 3s 2ms/step - loss: 97.0143 - val_loss: 122.8233\n",
      "Step: 3\n",
      "MAE: 9.00571503880783\n",
      "RMSE: 122.82300543781032\n",
      "\n",
      "\n",
      "Train on 1793 samples, validate on 695 samples\n",
      "Epoch 1/100\n",
      "1793/1793 [==============================] - 7s 4ms/step - loss: 6171.7295 - val_loss: 49259.6550\n",
      "Epoch 2/100\n",
      "1793/1793 [==============================] - 4s 2ms/step - loss: 102190.5799 - val_loss: 118533.2307\n",
      "Epoch 3/100\n",
      "1793/1793 [==============================] - 4s 2ms/step - loss: 33551.9066 - val_loss: 16168.3179\n",
      "Epoch 4/100\n",
      "1793/1793 [==============================] - 4s 2ms/step - loss: 6224.1422 - val_loss: 24843.8304\n",
      "Epoch 5/100\n",
      "1793/1793 [==============================] - 4s 2ms/step - loss: 8648.1769 - val_loss: 13216.0958\n",
      "Epoch 6/100\n",
      "1793/1793 [==============================] - 4s 2ms/step - loss: 2834.7990 - val_loss: 3611.9420\n",
      "Epoch 7/100\n",
      "1793/1793 [==============================] - 4s 2ms/step - loss: 2900.8569 - val_loss: 1723.9303\n",
      "Epoch 8/100\n",
      "1793/1793 [==============================] - 4s 2ms/step - loss: 1301.7517 - val_loss: 1107.0129\n",
      "Epoch 9/100\n",
      "1793/1793 [==============================] - 3s 2ms/step - loss: 1232.6995 - val_loss: 1910.3545\n",
      "Epoch 10/100\n",
      "1793/1793 [==============================] - 3s 2ms/step - loss: 749.7973 - val_loss: 906.4796\n",
      "Epoch 11/100\n",
      "1793/1793 [==============================] - 4s 2ms/step - loss: 568.4683 - val_loss: 1255.6247\n",
      "Epoch 12/100\n",
      "1793/1793 [==============================] - 3s 2ms/step - loss: 408.8754 - val_loss: 804.3236\n",
      "Epoch 13/100\n",
      "1793/1793 [==============================] - 7s 4ms/step - loss: 642.8465 - val_loss: 1623.3899\n",
      "Epoch 14/100\n",
      "1793/1793 [==============================] - 8s 4ms/step - loss: 594.7679 - val_loss: 1380.2627\n",
      "Epoch 15/100\n",
      "1793/1793 [==============================] - 4s 2ms/step - loss: 412.9391 - val_loss: 854.5076\n",
      "Epoch 16/100\n",
      "1793/1793 [==============================] - 3s 2ms/step - loss: 215.5394 - val_loss: 544.3070\n",
      "Epoch 17/100\n",
      "1793/1793 [==============================] - 3s 2ms/step - loss: 147.5984 - val_loss: 512.2694\n",
      "Epoch 18/100\n",
      "1793/1793 [==============================] - 3s 2ms/step - loss: 203.6139 - val_loss: 599.4297\n",
      "Epoch 19/100\n",
      "1793/1793 [==============================] - 3s 2ms/step - loss: 305.9667 - val_loss: 734.7669\n",
      "Epoch 20/100\n",
      "1793/1793 [==============================] - 4s 2ms/step - loss: 187.7593 - val_loss: 588.9390\n",
      "Epoch 21/100\n",
      "1793/1793 [==============================] - 4s 2ms/step - loss: 122.6297 - val_loss: 294.5355\n",
      "Epoch 22/100\n",
      "1793/1793 [==============================] - 4s 2ms/step - loss: 104.5637 - val_loss: 344.7686\n",
      "Epoch 23/100\n",
      "1793/1793 [==============================] - 4s 2ms/step - loss: 128.6212 - val_loss: 306.2911\n",
      "Epoch 24/100\n",
      "1793/1793 [==============================] - 4s 2ms/step - loss: 130.9230 - val_loss: 265.0932\n",
      "Epoch 25/100\n",
      "1793/1793 [==============================] - 4s 2ms/step - loss: 112.5841 - val_loss: 218.6468\n",
      "Epoch 26/100\n",
      "1793/1793 [==============================] - 4s 2ms/step - loss: 128.5356 - val_loss: 230.4714\n",
      "Epoch 27/100\n",
      "1793/1793 [==============================] - 4s 2ms/step - loss: 98.9889 - val_loss: 190.8417\n",
      "Epoch 28/100\n",
      "1793/1793 [==============================] - 4s 2ms/step - loss: 98.5429 - val_loss: 165.5121\n",
      "Epoch 29/100\n",
      "1793/1793 [==============================] - 5s 3ms/step - loss: 99.8465 - val_loss: 257.8597\n",
      "Epoch 30/100\n",
      "1793/1793 [==============================] - 5s 3ms/step - loss: 124.1568 - val_loss: 263.0272\n",
      "Epoch 31/100\n",
      "1793/1793 [==============================] - 5s 3ms/step - loss: 86.5350 - val_loss: 305.7516\n",
      "Epoch 32/100\n",
      "1793/1793 [==============================] - 4s 2ms/step - loss: 95.0262 - val_loss: 305.5461\n",
      "Epoch 33/100\n",
      "1793/1793 [==============================] - 4s 2ms/step - loss: 176.8387 - val_loss: 639.9058\n",
      "Epoch 34/100\n",
      "1793/1793 [==============================] - 4s 2ms/step - loss: 446.2372 - val_loss: 672.7084\n",
      "Epoch 35/100\n",
      "1793/1793 [==============================] - 5s 3ms/step - loss: 157.8263 - val_loss: 401.5395\n",
      "Epoch 36/100\n",
      "1793/1793 [==============================] - 5s 3ms/step - loss: 103.4138 - val_loss: 308.4097\n"
     ]
    },
    {
     "name": "stdout",
     "output_type": "stream",
     "text": [
      "Epoch 37/100\n",
      " 960/1793 [===============>..............] - ETA: 1s - loss: 65.6096"
     ]
    },
    {
     "ename": "KeyboardInterrupt",
     "evalue": "",
     "output_type": "error",
     "traceback": [
      "\u001b[0;31m---------------------------------------------------------------------------\u001b[0m",
      "\u001b[0;31mKeyboardInterrupt\u001b[0m                         Traceback (most recent call last)",
      "\u001b[0;32m<ipython-input-14-517581feb8bb>\u001b[0m in \u001b[0;36m<module>\u001b[0;34m\u001b[0m\n\u001b[1;32m     36\u001b[0m                           \u001b[0mbatch_size\u001b[0m\u001b[0;34m=\u001b[0m\u001b[0;36m120\u001b[0m\u001b[0;34m,\u001b[0m\u001b[0;34m\u001b[0m\u001b[0;34m\u001b[0m\u001b[0m\n\u001b[1;32m     37\u001b[0m                           \u001b[0mverbose\u001b[0m\u001b[0;34m=\u001b[0m\u001b[0;36m1\u001b[0m\u001b[0;34m,\u001b[0m\u001b[0;34m\u001b[0m\u001b[0;34m\u001b[0m\u001b[0m\n\u001b[0;32m---> 38\u001b[0;31m                           shuffle=False)\n\u001b[0m\u001b[1;32m     39\u001b[0m \u001b[0;34m\u001b[0m\u001b[0m\n\u001b[1;32m     40\u001b[0m     \u001b[0;31m#create the prediction counter for X_test loop\u001b[0m\u001b[0;34m\u001b[0m\u001b[0;34m\u001b[0m\u001b[0;34m\u001b[0m\u001b[0m\n",
      "\u001b[0;32m~/anaconda3/lib/python3.6/site-packages/keras/engine/training.py\u001b[0m in \u001b[0;36mfit\u001b[0;34m(self, x, y, batch_size, epochs, verbose, callbacks, validation_split, validation_data, shuffle, class_weight, sample_weight, initial_epoch, steps_per_epoch, validation_steps, validation_freq, max_queue_size, workers, use_multiprocessing, **kwargs)\u001b[0m\n\u001b[1;32m   1237\u001b[0m                                         \u001b[0msteps_per_epoch\u001b[0m\u001b[0;34m=\u001b[0m\u001b[0msteps_per_epoch\u001b[0m\u001b[0;34m,\u001b[0m\u001b[0;34m\u001b[0m\u001b[0;34m\u001b[0m\u001b[0m\n\u001b[1;32m   1238\u001b[0m                                         \u001b[0mvalidation_steps\u001b[0m\u001b[0;34m=\u001b[0m\u001b[0mvalidation_steps\u001b[0m\u001b[0;34m,\u001b[0m\u001b[0;34m\u001b[0m\u001b[0;34m\u001b[0m\u001b[0m\n\u001b[0;32m-> 1239\u001b[0;31m                                         validation_freq=validation_freq)\n\u001b[0m\u001b[1;32m   1240\u001b[0m \u001b[0;34m\u001b[0m\u001b[0m\n\u001b[1;32m   1241\u001b[0m     def evaluate(self,\n",
      "\u001b[0;32m~/anaconda3/lib/python3.6/site-packages/keras/engine/training_arrays.py\u001b[0m in \u001b[0;36mfit_loop\u001b[0;34m(model, fit_function, fit_inputs, out_labels, batch_size, epochs, verbose, callbacks, val_function, val_inputs, shuffle, initial_epoch, steps_per_epoch, validation_steps, validation_freq)\u001b[0m\n\u001b[1;32m    194\u001b[0m                     \u001b[0mins_batch\u001b[0m\u001b[0;34m[\u001b[0m\u001b[0mi\u001b[0m\u001b[0;34m]\u001b[0m \u001b[0;34m=\u001b[0m \u001b[0mins_batch\u001b[0m\u001b[0;34m[\u001b[0m\u001b[0mi\u001b[0m\u001b[0;34m]\u001b[0m\u001b[0;34m.\u001b[0m\u001b[0mtoarray\u001b[0m\u001b[0;34m(\u001b[0m\u001b[0;34m)\u001b[0m\u001b[0;34m\u001b[0m\u001b[0;34m\u001b[0m\u001b[0m\n\u001b[1;32m    195\u001b[0m \u001b[0;34m\u001b[0m\u001b[0m\n\u001b[0;32m--> 196\u001b[0;31m                 \u001b[0mouts\u001b[0m \u001b[0;34m=\u001b[0m \u001b[0mfit_function\u001b[0m\u001b[0;34m(\u001b[0m\u001b[0mins_batch\u001b[0m\u001b[0;34m)\u001b[0m\u001b[0;34m\u001b[0m\u001b[0;34m\u001b[0m\u001b[0m\n\u001b[0m\u001b[1;32m    197\u001b[0m                 \u001b[0mouts\u001b[0m \u001b[0;34m=\u001b[0m \u001b[0mto_list\u001b[0m\u001b[0;34m(\u001b[0m\u001b[0mouts\u001b[0m\u001b[0;34m)\u001b[0m\u001b[0;34m\u001b[0m\u001b[0;34m\u001b[0m\u001b[0m\n\u001b[1;32m    198\u001b[0m                 \u001b[0;32mfor\u001b[0m \u001b[0ml\u001b[0m\u001b[0;34m,\u001b[0m \u001b[0mo\u001b[0m \u001b[0;32min\u001b[0m \u001b[0mzip\u001b[0m\u001b[0;34m(\u001b[0m\u001b[0mout_labels\u001b[0m\u001b[0;34m,\u001b[0m \u001b[0mouts\u001b[0m\u001b[0;34m)\u001b[0m\u001b[0;34m:\u001b[0m\u001b[0;34m\u001b[0m\u001b[0;34m\u001b[0m\u001b[0m\n",
      "\u001b[0;32m~/anaconda3/lib/python3.6/site-packages/tensorflow/python/keras/backend.py\u001b[0m in \u001b[0;36m__call__\u001b[0;34m(self, inputs)\u001b[0m\n\u001b[1;32m   3290\u001b[0m \u001b[0;34m\u001b[0m\u001b[0m\n\u001b[1;32m   3291\u001b[0m     fetched = self._callable_fn(*array_vals,\n\u001b[0;32m-> 3292\u001b[0;31m                                 run_metadata=self.run_metadata)\n\u001b[0m\u001b[1;32m   3293\u001b[0m     \u001b[0mself\u001b[0m\u001b[0;34m.\u001b[0m\u001b[0m_call_fetch_callbacks\u001b[0m\u001b[0;34m(\u001b[0m\u001b[0mfetched\u001b[0m\u001b[0;34m[\u001b[0m\u001b[0;34m-\u001b[0m\u001b[0mlen\u001b[0m\u001b[0;34m(\u001b[0m\u001b[0mself\u001b[0m\u001b[0;34m.\u001b[0m\u001b[0m_fetches\u001b[0m\u001b[0;34m)\u001b[0m\u001b[0;34m:\u001b[0m\u001b[0;34m]\u001b[0m\u001b[0;34m)\u001b[0m\u001b[0;34m\u001b[0m\u001b[0;34m\u001b[0m\u001b[0m\n\u001b[1;32m   3294\u001b[0m     output_structure = nest.pack_sequence_as(\n",
      "\u001b[0;32m~/anaconda3/lib/python3.6/site-packages/tensorflow/python/client/session.py\u001b[0m in \u001b[0;36m__call__\u001b[0;34m(self, *args, **kwargs)\u001b[0m\n\u001b[1;32m   1456\u001b[0m         ret = tf_session.TF_SessionRunCallable(self._session._session,\n\u001b[1;32m   1457\u001b[0m                                                \u001b[0mself\u001b[0m\u001b[0;34m.\u001b[0m\u001b[0m_handle\u001b[0m\u001b[0;34m,\u001b[0m \u001b[0margs\u001b[0m\u001b[0;34m,\u001b[0m\u001b[0;34m\u001b[0m\u001b[0;34m\u001b[0m\u001b[0m\n\u001b[0;32m-> 1458\u001b[0;31m                                                run_metadata_ptr)\n\u001b[0m\u001b[1;32m   1459\u001b[0m         \u001b[0;32mif\u001b[0m \u001b[0mrun_metadata\u001b[0m\u001b[0;34m:\u001b[0m\u001b[0;34m\u001b[0m\u001b[0;34m\u001b[0m\u001b[0m\n\u001b[1;32m   1460\u001b[0m           \u001b[0mproto_data\u001b[0m \u001b[0;34m=\u001b[0m \u001b[0mtf_session\u001b[0m\u001b[0;34m.\u001b[0m\u001b[0mTF_GetBuffer\u001b[0m\u001b[0;34m(\u001b[0m\u001b[0mrun_metadata_ptr\u001b[0m\u001b[0;34m)\u001b[0m\u001b[0;34m\u001b[0m\u001b[0;34m\u001b[0m\u001b[0m\n",
      "\u001b[0;31mKeyboardInterrupt\u001b[0m: "
     ]
    }
   ],
   "source": [
    "#Inputs for Walk-Forward with re-fit at each step\n",
    "X = day_data['Close'] \n",
    "n_train = len(base_train)\n",
    "n_records = len(base_train)+len(base_test)\n",
    "step = 30\n",
    "n_steps_in = 30\n",
    "n_steps_out = 30\n",
    "n_features = 1\n",
    "\n",
    "pred_dict = dict()\n",
    "errors = list()\n",
    "count = 0\n",
    "\n",
    "#Main Loop\n",
    "for i in tqdm.tqdm_notebook(np.arange(n_train, n_records, step)):\n",
    "    #split data\n",
    "    train, test = X[0:i], X[n_train:]\n",
    "    \n",
    "    #rearrange to supervised\n",
    "    X_train, y_train = split_sequence(train.values, n_steps_in, n_steps_out)\n",
    "    X_test, y_test = split_sequence(test.values, n_steps_in, n_steps_out)\n",
    "    \n",
    "    #reshape to 3D for LSTM\n",
    "    X_train = X_train.reshape((X_train.shape[0], X_train.shape[1], n_features))\n",
    "    X_test = X_test.reshape((X_test.shape[0], X_test.shape[1], n_features))\n",
    "    \n",
    "    #create model\n",
    "    model = LSTM_model()\n",
    "    es = EarlyStopping(monitor='val_loss', \n",
    "                       mode='auto',\n",
    "                       patience=30,\n",
    "                       restore_best_weights=True)\n",
    "    \n",
    "    #fit the model\n",
    "    model_fit = model.fit(X_train, y_train, \n",
    "                          validation_data=(X_test, y_test), \n",
    "                          epochs=100, \n",
    "                          callbacks=[es],\n",
    "                          batch_size=120,\n",
    "                          verbose=1, \n",
    "                          shuffle=False)\n",
    "    \n",
    "    #create the prediction counter for X_test loop\n",
    "    time_count = 0\n",
    "    \n",
    "    #reset list for all the predictions\n",
    "    predictions = list()\n",
    "    \n",
    "    #reset dict to catch all the output dfs (res)\n",
    "    fore_dict = dict()\n",
    "    \n",
    "    #predict loop for each sample in X_test\n",
    "    for t in np.arange(0, len(X_test), 1):\n",
    "        x_input = X_test[t]\n",
    "        x_input = x_input.reshape((1, n_steps_in, n_features))\n",
    "        yhat = model.predict(x_input, verbose=0)\n",
    "        predictions.append(yhat[0])\n",
    "        \n",
    "        #create output df and save into dict\n",
    "        res = pd.DataFrame(list(range(1,n_steps_out+1)), columns=['Day'])\n",
    "        res['Pred'] = yhat[0]\n",
    "        fore_dict[time_count] = res\n",
    "        time_count += 1\n",
    "    \n",
    "    pred_dict[count] = fore_dict\n",
    "    \n",
    "    #calculate error for all predictions (X_test)\n",
    "    mae = metrics.mean_absolute_error(y_test, predictions)\n",
    "    rmse = metrics.mean_squared_error(y_test, predictions)\n",
    "    err = [count+1, mae, rmse]\n",
    "    errors.append(err)\n",
    "    \n",
    "    #print update\n",
    "    print('Step:',count+1)\n",
    "    print('MAE:',mae)\n",
    "    print('RMSE:',rmse)\n",
    "    print('\\n')\n",
    "    \n",
    "    #increase counter\n",
    "    count += 1"
   ]
  },
  {
   "cell_type": "markdown",
   "metadata": {},
   "source": [
    "## Validation Results\n",
    "\n",
    "Plot the first and last models trained and compare their skill in terms of error. I'm using Mean Absolute Error and Mean Squared Error as the primary measures of model accuracy."
   ]
  },
  {
   "cell_type": "markdown",
   "metadata": {},
   "source": [
    "### Overall Model Error\n",
    "\n",
    "When we calculate the errors, we're looking at each prediction at each timestep (724 samples x 30 timesteps prediction = 21,720 predictions)."
   ]
  },
  {
   "cell_type": "code",
   "execution_count": 15,
   "metadata": {
    "scrolled": true
   },
   "outputs": [
    {
     "data": {
      "image/png": "[encoded data removed]",
      "text/plain": [
       "<Figure size 1080x288 with 2 Axes>"
      ]
     },
     "metadata": {
      "needs_background": "light"
     },
     "output_type": "display_data"
    }
   ],
   "source": [
    "error_df = pd.DataFrame.from_records(errors, columns=['Iteration', 'MAE', 'RMSE'])\n",
    "ax = error_df.plot(x='Iteration', y=['MAE', 'RMSE'], secondary_y=['RMSE'],\n",
    "             figsize=(15,4),\n",
    "             title='Error vs. Iteration')\n",
    "ax.set(ylabel='Error')\n",
    "plt.show()"
   ]
  },
  {
   "cell_type": "markdown",
   "metadata": {},
   "source": [
    "* Observation\n",
    "* Observation\n",
    "* Observation\n",
    "\n",
    "Now, we'll zoom into two specific iterations (first and last) and explore their skill more deeply."
   ]
  },
  {
   "cell_type": "markdown",
   "metadata": {},
   "source": [
    "#### Plot the First and Last Model\n",
    "I'll create a single composite line from the model by sampling every 30th prediction (30 steps long) to create a single line. 26 steps x 30 timesteps prediction = 780 predictions\n",
    "#### First Model"
   ]
  },
  {
   "cell_type": "code",
   "execution_count": 22,
   "metadata": {},
   "outputs": [
    {
     "data": {
      "text/plain": [
       "<matplotlib.axes._subplots.AxesSubplot at 0x1a4735eb70>"
      ]
     },
     "execution_count": 22,
     "metadata": {},
     "output_type": "execute_result"
    },
    {
     "data": {
      "image/png": "[encoded data removed]",
      "text/plain": [
       "<Figure size 1080x360 with 1 Axes>"
      ]
     },
     "metadata": {
      "needs_background": "light"
     },
     "output_type": "display_data"
    }
   ],
   "source": [
    "# Plot the first model (least training data) by sampling every 30th prediction (step) and appending to a list\n",
    "\n",
    "first_model = []\n",
    "for i in np.arange(0, len(X_test), step):\n",
    "    first_model.append(pred_dict[0][i]['Pred'])\n",
    "\n",
    "#unravel the array to plot the prediction over the actual\n",
    "first_pred = np.concatenate(first_model).ravel().tolist()\n",
    "\n",
    "#create a df with the timestamps and actual Close prices\n",
    "first_results = pd.DataFrame(base_test) #base_test[step:]\n",
    "\n",
    "#trim the length to match base_test as the last step isn't exactly 30 due to training set size\n",
    "first_results = first_results[:len(first_pred)]\n",
    "\n",
    "#add the prediction to the df\n",
    "first_results['Pred'] = first_pred\n",
    "\n",
    "#plot the df\n",
    "first_results.plot(figsize=(15,5), title='First Model Composite Prediction vs Actual')"
   ]
  },
  {
   "cell_type": "code",
   "execution_count": 23,
   "metadata": {},
   "outputs": [
    {
     "name": "stdout",
     "output_type": "stream",
     "text": [
      "Aggregate Error for the Composite Line\n",
      "Mean Absolute Error: 4.259299670461019\n",
      "Mean Squared Error: 34.14409450163902\n"
     ]
    }
   ],
   "source": [
    "#Aggregate Error for the Composite Line above\n",
    "\n",
    "first_total_MAE = metrics.mean_absolute_error(first_results['Close'], first_results['Pred'])\n",
    "first_total_RMSE = metrics.mean_squared_error(first_results['Close'], first_results['Pred'])\n",
    "\n",
    "print('Aggregate Error for the Composite Line')\n",
    "print('Mean Absolute Error:',first_total_MAE)\n",
    "print('Mean Squared Error:',first_total_RMSE)"
   ]
  },
  {
   "cell_type": "code",
   "execution_count": 18,
   "metadata": {},
   "outputs": [
    {
     "name": "stdout",
     "output_type": "stream",
     "text": [
      "Pearson Correlation for Close & Prediction: 0.9752387060588118\n"
     ]
    }
   ],
   "source": [
    "#Pearson Correlation for First Model\n",
    "\n",
    "first_corr = first_results.corr(method='pearson')['Close']['Pred']\n",
    "print ('Pearson Correlation for Close & Prediction:',first_corr)"
   ]
  },
  {
   "cell_type": "code",
   "execution_count": 19,
   "metadata": {},
   "outputs": [],
   "source": [
    "#Plot the First Models Error by Prediction Horizon ie. Error at t+1 through t+30\n",
    "\n",
    "first_error = pred_dict[0][0]\n",
    "\n",
    "#Sample the predictions\n",
    "for i in np.arange(1,len(X_test),step):\n",
    "    two = pd.DataFrame(pred_dict[0][i])\n",
    "    three = first_error.append(two, ignore_index=True)\n",
    "    first_error = three\n",
    "\n",
    "#Add the Actual Values\n",
    "first_error['Actual'] = base_test.values[0:len(first_error)]\n",
    "\n",
    "#intialize a list\n",
    "first_error_by_day = list()\n",
    "\n",
    "#calcualte the errors at each day by slicing the df\n",
    "for i in range(1,31):\n",
    "    df = first_error[first_error.Day == i]\n",
    "    err_MSE = metrics.mean_squared_error(df['Actual'],df['Pred'])\n",
    "    err_MAE = metrics.mean_absolute_error(df['Actual'],df['Pred'])\n",
    "    error = [i, err_MAE,err_MSE]\n",
    "    first_error_by_day.append(error)"
   ]
  },
  {
   "cell_type": "code",
   "execution_count": 20,
   "metadata": {},
   "outputs": [
    {
     "data": {
      "image/png": "[encoded data removed]",
      "text/plain": [
       "<Figure size 432x288 with 2 Axes>"
      ]
     },
     "metadata": {
      "needs_background": "light"
     },
     "output_type": "display_data"
    }
   ],
   "source": [
    "#Plot the Error vs Day\n",
    "\n",
    "first_error_day = pd.DataFrame.from_records(first_error_by_day, columns=['Day', 'MAE', 'RMSE'])\n",
    "first_ax = first_error_day.plot(x='Day', y=['MAE','RMSE'], \n",
    "                          secondary_y=['RMSE'],\n",
    "                         title = 'Errors vs Prediction Horizon')\n",
    "first_ax.set(ylabel='Error')\n",
    "plt.show()"
   ]
  },
  {
   "cell_type": "markdown",
   "metadata": {},
   "source": [
    "Observations:\n",
    "* One\n",
    "* Two\n",
    "* Three"
   ]
  },
  {
   "cell_type": "markdown",
   "metadata": {},
   "source": [
    "#### Last Model"
   ]
  },
  {
   "cell_type": "code",
   "execution_count": null,
   "metadata": {},
   "outputs": [],
   "source": [
    "# Plot the last model (most training data) by sampling every 30th prediction (step) and appending to a list\n",
    "\n",
    "last_model = []\n",
    "for i in np.arange(0,len(X_test),step):\n",
    "    last_model.append(pred_dict[max(pred_dict)][i]['Pred'])\n",
    "\n",
    "#unravel the array to plot the prediction over the actual\n",
    "last_pred = np.concatenate(last_model).ravel().tolist()\n",
    "\n",
    "#create a df with the timestamps and actual Close prices\n",
    "last_results = pd.DataFrame(base_test) #base_test[step:]\n",
    "\n",
    "#trim the length to match base_test as the last step isn't exactly 30 due to training set size\n",
    "last_results = last_results[:len(last_pred)]\n",
    "\n",
    "#add the prediction to the df\n",
    "last_results['Pred'] = last_pred\n",
    "\n",
    "#plot the df\n",
    "last_results.plot(figsize=(15,5), title='Last Model Composite Prediction vs Actual')"
   ]
  },
  {
   "cell_type": "code",
   "execution_count": null,
   "metadata": {},
   "outputs": [],
   "source": [
    "#Aggregate Error for the Composite Line above\n",
    "last_total_MAE = metrics.mean_absolute_error(last_results['Close'], last_results['Pred'])\n",
    "last_total_RMSE = metrics.mean_squared_error(last_results['Close'], last_results['Pred'])\n",
    "\n",
    "print('Aggregate Error for the Composite Line')\n",
    "print('Mean Absolute Error:',last_total_MAE)\n",
    "print('Mean Squared Error:',last_total_RMSE)"
   ]
  },
  {
   "cell_type": "code",
   "execution_count": null,
   "metadata": {},
   "outputs": [],
   "source": [
    "last_corr = last_results.corr(method='pearson')['Close']['Pred']\n",
    "print ('Pearson Correlation for Close & Prediction:',last_corr)"
   ]
  },
  {
   "cell_type": "code",
   "execution_count": null,
   "metadata": {},
   "outputs": [],
   "source": [
    "#sample the last models predicitons to see the error by forecast day\n",
    "\n",
    "last_error = pred_dict[max(pred_dict)][0]\n",
    "\n",
    "#sample the predictions\n",
    "for i in np.arange(1,len(X_test),step):\n",
    "    two = pd.DataFrame(pred_dict[max(pred_dict)][i])\n",
    "    three = last_error.append(two, ignore_index=True)\n",
    "    last_error = three\n",
    "\n",
    "#add in the actual values\n",
    "last_error['Actual'] = base_test.values[0:len(last_error)]\n",
    "\n",
    "#create a list\n",
    "last_error_by_day = list()\n",
    "\n",
    "#calculate the error by day\n",
    "for i in range(1,31):\n",
    "    df = last_error[last_error.Day == i]\n",
    "    err_MSE = metrics.mean_squared_error(df['Actual'],df['Pred'])\n",
    "    err_MAE = metrics.mean_absolute_error(df['Actual'],df['Pred'])\n",
    "    error = [i, err_MAE,err_MSE]\n",
    "    last_error_by_day.append(error)"
   ]
  },
  {
   "cell_type": "code",
   "execution_count": null,
   "metadata": {},
   "outputs": [],
   "source": [
    "#Plot the Error vs Day\n",
    "\n",
    "last_error_day = pd.DataFrame.from_records(last_error_by_day, columns=['Day', 'MAE', 'RMSE'])\n",
    "last_ax = last_error_day.plot(x='Day', y=['MAE','RMSE'], \n",
    "                          secondary_y=['RMSE'],\n",
    "                         title = 'Errors vs Prediction Horizon')\n",
    "last_ax.set(ylabel='Error')\n",
    "plt.show()"
   ]
  },
  {
   "cell_type": "markdown",
   "metadata": {},
   "source": [
    "Hmmm. Model performance is garbage, especially towards the end. I believe I need to retrain at each step.\n",
    "* Other thing\n",
    "* Other thing\n",
    "* Other things"
   ]
  },
  {
   "cell_type": "markdown",
   "metadata": {},
   "source": [
    "## Conclusion"
   ]
  },
  {
   "cell_type": "markdown",
   "metadata": {},
   "source": [
    "This optimized architecture was able to achieve"
   ]
  },
  {
   "cell_type": "markdown",
   "metadata": {},
   "source": []
  },
  {
   "cell_type": "markdown",
   "metadata": {},
   "source": []
  }
 ],
 "metadata": {
  "kernelspec": {
   "display_name": "Python 3",
   "language": "python",
   "name": "python3"
  },
  "language_info": {
   "codemirror_mode": {
    "name": "ipython",
    "version": 3
   },
   "file_extension": ".py",
   "mimetype": "text/x-python",
   "name": "python",
   "nbconvert_exporter": "python",
   "pygments_lexer": "ipython3",
   "version": "3.6.9"
  }
 },
 "nbformat": 4,
 "nbformat_minor": 2
}
